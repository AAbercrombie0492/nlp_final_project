{
 "cells": [
  {
   "cell_type": "code",
   "execution_count": 191,
   "metadata": {
    "collapsed": false
   },
   "outputs": [
    {
     "name": "stdout",
     "output_type": "stream",
     "text": [
      "The autoreload extension is already loaded. To reload it, use:\n",
      "  %reload_ext autoreload\n"
     ]
    }
   ],
   "source": [
    "%load_ext autoreload\n",
    "%autoreload 2"
   ]
  },
  {
   "cell_type": "code",
   "execution_count": 192,
   "metadata": {
    "collapsed": false
   },
   "outputs": [
    {
     "name": "stdout",
     "output_type": "stream",
     "text": [
      "Populating the interactive namespace from numpy and matplotlib\n"
     ]
    }
   ],
   "source": [
    "import numpy as np\n",
    "import pandas as pd\n",
    "import preprocess\n",
    "import spacy\n",
    "from collections import Counter\n",
    "from collections import defaultdict\n",
    "from sklearn.feature_extraction.text import CountVectorizer\n",
    "from sklearn.feature_extraction.text import TfidfVectorizer\n",
    "import pickle\n",
    "import preprocess\n",
    "from nltk.tokenize import sent_tokenize\n",
    "from gensim.models import word2vec\n",
    "from gensim.models import Doc2Vec\n",
    "import logging\n",
    "from featurize import Corpus_Features\n",
    "import re\n",
    "import chardet\n",
    "import ftfy\n",
    "from gensim.models import Word2Vec\n",
    "from sklearn.cross_validation import train_test_split\n",
    "\n",
    "from sklearn.ensemble import RandomForestClassifier\n",
    "from sklearn.ensemble import RandomForestRegressor\n",
    "from sklearn.ensemble import GradientBoostingRegressor\n",
    "from sklearn.ensemble import AdaBoostRegressor\n",
    "from sklearn.tree import DecisionTreeRegressor\n",
    "from sklearn.grid_search import GridSearchCV\n",
    "\n",
    "from sklearn.naive_bayes import MultinomialNB\n",
    "from sklearn.metrics import confusion_matrix\n",
    "from sklearn.multiclass import OneVsRestClassifier\n",
    "from sklearn import svm\n",
    "\n",
    "from gensim_modeling import cleanText\n",
    "%pylab inline"
   ]
  },
  {
   "cell_type": "markdown",
   "metadata": {},
   "source": [
    "# Goal: Produce the best model for classifying Stack Exchange questions "
   ]
  },
  {
   "cell_type": "markdown",
   "metadata": {},
   "source": [
    "# First order of business: Preprocessing"
   ]
  },
  {
   "cell_type": "code",
   "execution_count": 18,
   "metadata": {
    "collapsed": true
   },
   "outputs": [],
   "source": [
    "\"\"\"Load in data with the most stringent preprocessing\"\"\"\n",
    "balanced_classes_file = open(\"pickle_jar/dataframes/classify_Stopwords_3xTitle_ner_stripPunct_lemmatize_dataframe.p\", 'rb')\n",
    "balanced_classes_data = pickle.load(balanced_classes_file)\n",
    "\n",
    "balanced_classes_tag_counter_file = open('pickle_jar/tag_counters/classify_Stopwords_3xTitle_ner_stripPunct_lemmatize_tag_counts.p', 'rb')\n",
    "balanced_classes_tag_counter = pickle.load(balanced_classes_tag_counter_file)\n",
    "\n",
    "balanced_classes_bow_counter_file = open('pickle_jar/post_counters/classify_Stopwords_3xTitle_ner_stripPunct_lemmatize_token_counts.p', 'rb')\n",
    "balanced_classes_bow_counter = pickle.load(balanced_classes_bow_counter_file)\n",
    "\n",
    "\n",
    "thread_dict = {'biology':0,'cooking':1,'crypto':2,'diy':3,'robotics':4,'travel':5}\n",
    "balanced_classes_data['thread_ids'] = balanced_classes_data.thread.apply(lambda x: thread_dict[x]).values"
   ]
  },
  {
   "cell_type": "code",
   "execution_count": 11,
   "metadata": {
    "collapsed": false
   },
   "outputs": [
    {
     "name": "stdout",
     "output_type": "stream",
     "text": [
      "QUESTION:\n",
      "How do you decide what temperature to bake at?\n",
      "\n",
      "ELABORATION:\n",
      "<p>What is the logic behind the choice of temperature for baking?</p>\n",
      "\n",
      "<p>Obviously if you're following a recipe it will say what temperature to use, but I'd like to understand the reasoning behind it.</p>\n",
      "\n",
      "<p>Is it a matter of density (thicker foods need to be cooked lower to reach the inside without burning the outside), or are there other factors in play?</p>\n",
      "\n",
      "\n",
      "TAGS:\n",
      "['b', 'baking', 'oven', 'temperature']\n",
      "\n",
      "CLASS: ***cooking***\n"
     ]
    }
   ],
   "source": [
    "def view_example_post(index):\n",
    "    print(\"QUESTION:\\n{}\\n\".format(balanced_classes_data['title'].iloc[index]))\n",
    "\n",
    "    print(\"ELABORATION:\\n{}\\n\".format(balanced_classes_data['content'].iloc[index]))\n",
    "\n",
    "    print(\"TAGS:\\n{}\\n\".format(balanced_classes_data['tags'].iloc[index]))\n",
    "\n",
    "    print(\"CLASS: ***{}***\".format(balanced_classes_data['thread'].iloc[index]))\n",
    "\n",
    "view_example_post(np.random.randint(0,len(balanced_classes_data)))"
   ]
  },
  {
   "cell_type": "markdown",
   "metadata": {},
   "source": [
    "## Words in the title of a question are really valuable for predicting topics...\n",
    "**I duplicated each title 3X (triple_title) and inserted tiple_title at the beginning of of context (ttl_ctxt).**"
   ]
  },
  {
   "cell_type": "markdown",
   "metadata": {},
   "source": [
    "```python\n",
    "def triple_title(self):\n",
    "    self.data['triple_title'] = (' '+self.data['title']) *3\n",
    "    \n",
    "def concat_features(self, features):m\n",
    "    baseline = self.data[features[0]]\n",
    "    concatenated = baseline.str.cat(''+self.data[features[1]])\n",
    "    self.data['ttl_ctxt'] = concatenated\n",
    "```\n"
   ]
  },
  {
   "cell_type": "markdown",
   "metadata": {},
   "source": [
    "# Preprocessing Steps/Options\n",
    "\n",
    "** 0. Unicode sandwhich**\n",
    "```python\n",
    "def clean_text(x):\n",
    "    '''INPUT: string;\n",
    "       OUTPUT: list of tokens.'''\n",
    "\n",
    "    #Fix encoding in case there is a problem\n",
    "    x = ftfy.fix_encoding(x)\n",
    "    #Unicode Sandwhich...\n",
    "    x = x.encode('UTF-8') #encode as UTF-8\n",
    "    input_code = chardet.detect(bytes(x))['encoding'] #Auto-detect encoding\n",
    "    u_string = x.decode(input_code) #Decode\n",
    "    re.sub(r'\\w{4}', u'xxxx', u_string, flags=re.UNICODE) #Handle funny unicode artifacts\n",
    "    x = u_string.encode('UTF-8') #Encode back to UTF-8\n",
    "    x = str(x) #Convert to string\n",
    "    \n",
    "    x = re.sub(r'[\\[\\]\\\"\\'\\,]',' ', x) #Remove backslashes\n",
    "    x = re.sub(r'[^\\w\\s]',' ',x) #Insert space after end of each sentence\n",
    "    x = x.split() #split string to list\n",
    "    return x\n",
    "```\n",
    "\n",
    "**1. Strip html tags using BeautifulSoup.**\n",
    "```python\n",
    "soup = BeautifulSoup(x, 'html.parser')\n",
    "clean_text = soup.text\n",
    "```\n",
    "\n",
    "**2. Convert named entities to ALLCAPS using spacy.**\n",
    "```python\n",
    "def capitalize_named_entities(text):\n",
    "    nlp = spacy.en.English()\n",
    "    spacy_text = nlp(text)\n",
    "    output = []\n",
    "    for t in spacy_text:\n",
    "        if t.ent_type_ not in ['', 'DATE']:\n",
    "            output.append(t.text.upper())\n",
    "        else:\n",
    "            output.append(t.text.lower())\n",
    "    return ' '.join(output)\n",
    "```\n",
    "\n",
    "**3. Remove stopwords.**\n",
    "```python\n",
    "def remove_stopwords(text):\n",
    "        tokens = text.split()\n",
    "        output = []\n",
    "        for t in tokens:\n",
    "            if t not in stopwords.words():\n",
    "                output.append(t)\n",
    "        return ' '.join(output)\n",
    "```\n",
    "\n",
    "**4. Lemmatize.**\n",
    "```python\n",
    "def lemmatize_text(text):\n",
    "    wordnet_lemmatizer = WordNetLemmatizer()\n",
    "    tokens = text.split()\n",
    "    output = []\n",
    "    for t in tokens:\n",
    "        lemmanade =  wordnet_lemmatizer.lemmatize(t)\n",
    "        lemmanade = wordnet_lemmatizer.lemmatize(lemmanade, pos='v')\n",
    "        output.append(lemmanade)\n",
    "    \n",
    "    return ' '.join(output)\n",
    "```\n",
    "\n",
    "**5. Strip punctuation **\n",
    "```python\n",
    "def remove_punctuation(text):\n",
    "    text_clean = re.sub(r'[^\\w\\s]',' ',text)\n",
    "    return text_clean\n",
    "```"
   ]
  },
  {
   "cell_type": "markdown",
   "metadata": {},
   "source": [
    "# Features: \n",
    "\n",
    "### Bag of Words"
   ]
  },
  {
   "cell_type": "code",
   "execution_count": 81,
   "metadata": {
    "collapsed": true
   },
   "outputs": [],
   "source": [
    "def bag_of_words(post_strings):\n",
    "    cv = CountVectorizer()\n",
    "    bow  = cv.fit_transform(post_strings)\n",
    "    return bow"
   ]
  },
  {
   "cell_type": "code",
   "execution_count": 82,
   "metadata": {
    "collapsed": false
   },
   "outputs": [],
   "source": [
    "post_lists = balanced_classes_data['ttl_ctxt'].apply(lambda x: cleanText(x))\n",
    "post_strings = np.array([' '.join(pl) for pl in post_lists])\n",
    "bow = bag_of_words(post_strings)"
   ]
  },
  {
   "cell_type": "code",
   "execution_count": 83,
   "metadata": {
    "collapsed": false
   },
   "outputs": [
    {
     "data": {
      "text/plain": [
       "(6000, 33119)"
      ]
     },
     "execution_count": 83,
     "metadata": {},
     "output_type": "execute_result"
    }
   ],
   "source": [
    "bow.shape"
   ]
  },
  {
   "cell_type": "markdown",
   "metadata": {},
   "source": [
    "### TFIDF"
   ]
  },
  {
   "cell_type": "code",
   "execution_count": 86,
   "metadata": {
    "collapsed": false
   },
   "outputs": [],
   "source": [
    "def TFIDF(post_strings):\n",
    "    tfidf = TfidfVectorizer()\n",
    "    tfidf_vec = tfidf.fit_transform(post_strings)\n",
    "    return tfidf_vec"
   ]
  },
  {
   "cell_type": "code",
   "execution_count": 87,
   "metadata": {
    "collapsed": true
   },
   "outputs": [],
   "source": [
    "tfidf = TFIDF(post_strings)"
   ]
  },
  {
   "cell_type": "code",
   "execution_count": 41,
   "metadata": {
    "collapsed": false
   },
   "outputs": [
    {
     "data": {
      "text/plain": [
       "(6000, 33119)"
      ]
     },
     "execution_count": 41,
     "metadata": {},
     "output_type": "execute_result"
    }
   ],
   "source": [
    "tfidf.shape"
   ]
  },
  {
   "cell_type": "markdown",
   "metadata": {},
   "source": [
    "### Doc2Vec Embedding"
   ]
  },
  {
   "cell_type": "code",
   "execution_count": 43,
   "metadata": {
    "collapsed": true
   },
   "outputs": [],
   "source": [
    "from tsne_viz import *\n",
    "from gensim_modeling import *"
   ]
  },
  {
   "cell_type": "code",
   "execution_count": 44,
   "metadata": {
    "collapsed": true
   },
   "outputs": [],
   "source": [
    "#Train model\n",
    "d2v_balanced_classes_data = Doc2Vec(balanced_classes_data)"
   ]
  },
  {
   "cell_type": "code",
   "execution_count": 45,
   "metadata": {
    "collapsed": true
   },
   "outputs": [],
   "source": [
    "# store the model to mmap-able files\n",
    "d2v_balanced_classes_data.save('doc2vec_models/balanced_classication.doc2vec')"
   ]
  },
  {
   "cell_type": "code",
   "execution_count": 47,
   "metadata": {
    "collapsed": true
   },
   "outputs": [],
   "source": [
    "tag_sentences = balanced_classes_data.tags.iloc[:].apply(lambda x: cleanText(' '.join(x)))\n",
    "d2v_avg_embeddings = getAvgFeatureVecs(tag_sentences.values, d2v_balanced_classes_data, 300)"
   ]
  },
  {
   "cell_type": "markdown",
   "metadata": {},
   "source": [
    "# Train and test and suite of models for BOW, TFIDF, and Doc2Vec\n",
    "**Multinomial Naive Bayes, Random Forest, One vs Rest Logistic Regression, One vs Rest SVC, Gradient Boosted Trees**\n",
    "\n",
    "- 5-fold cross-validation of each model: accuracy, f1, precision, and recall\n",
    "- Confusion matrix generated by applying model to reserve set."
   ]
  },
  {
   "cell_type": "code",
   "execution_count": 193,
   "metadata": {
    "collapsed": true
   },
   "outputs": [],
   "source": [
    "from model import *\n",
    "from sklearn.model_selection import KFold\n",
    "from pandas_ml import ConfusionMatrix"
   ]
  },
  {
   "cell_type": "code",
   "execution_count": 146,
   "metadata": {
    "collapsed": false
   },
   "outputs": [],
   "source": [
    "bow_platform = Classify_Thread(X=bow.toarray(),y=balanced_classes_data.thread_ids.values)"
   ]
  },
  {
   "cell_type": "code",
   "execution_count": 134,
   "metadata": {
    "collapsed": false
   },
   "outputs": [],
   "source": [
    "kf = KFold(5, shuffle=True)"
   ]
  },
  {
   "cell_type": "markdown",
   "metadata": {},
   "source": [
    "## Gridsearched MNB"
   ]
  },
  {
   "cell_type": "code",
   "execution_count": null,
   "metadata": {
    "collapsed": true
   },
   "outputs": [],
   "source": [
    "# Gridsearched Multinomial Naive Bayes\n",
    "mnb_bow = bow_platform.MNB_Gridsearch()"
   ]
  },
  {
   "cell_type": "code",
   "execution_count": 194,
   "metadata": {
    "collapsed": false
   },
   "outputs": [
    {
     "data": {
      "text/html": [
       "<div>\n",
       "<table border=\"1\" class=\"dataframe\">\n",
       "  <thead>\n",
       "    <tr style=\"text-align: right;\">\n",
       "      <th></th>\n",
       "      <th>accuracy</th>\n",
       "      <th>f1</th>\n",
       "      <th>precision</th>\n",
       "      <th>recall</th>\n",
       "    </tr>\n",
       "  </thead>\n",
       "  <tbody>\n",
       "    <tr>\n",
       "      <th>train</th>\n",
       "      <td>0.988</td>\n",
       "      <td>0.988202</td>\n",
       "      <td>0.988276</td>\n",
       "      <td>0.988236</td>\n",
       "    </tr>\n",
       "    <tr>\n",
       "      <th>validate</th>\n",
       "      <td>0.988</td>\n",
       "      <td>0.987941</td>\n",
       "      <td>0.988007</td>\n",
       "      <td>0.988217</td>\n",
       "    </tr>\n",
       "  </tbody>\n",
       "</table>\n",
       "</div>"
      ],
      "text/plain": [
       "          accuracy        f1  precision    recall\n",
       "train        0.988  0.988202   0.988276  0.988236\n",
       "validate     0.988  0.987941   0.988007  0.988217"
      ]
     },
     "execution_count": 194,
     "metadata": {},
     "output_type": "execute_result"
    }
   ],
   "source": [
    "eval_dict = kfold_evaluation(bow_platform.x_test, bow_platform.y_test, model=mnb_bow, kf=kf)\n",
    "pd.DataFrame.from_dict(eval_dict)"
   ]
  },
  {
   "cell_type": "code",
   "execution_count": 148,
   "metadata": {
    "collapsed": false
   },
   "outputs": [
    {
     "data": {
      "text/plain": [
       "<matplotlib.axes._subplots.AxesSubplot at 0x125487dd8>"
      ]
     },
     "execution_count": 148,
     "metadata": {},
     "output_type": "execute_result"
    },
    {
     "data": {
      "image/png": "[encoded data removed]",
      "text/plain": [
       "<matplotlib.figure.Figure at 0x120d7ca58>"
      ]
     },
     "metadata": {},
     "output_type": "display_data"
    }
   ],
   "source": [
    "mnb_bow_pred = mnb_bow.predict(bow_platform.x_test)\n",
    "ConfusionMatrix(bow_platform.y_test, mnb_bow_pred).plot(normalized=True)"
   ]
  },
  {
   "cell_type": "markdown",
   "metadata": {},
   "source": [
    "### Random Forest"
   ]
  },
  {
   "cell_type": "code",
   "execution_count": 149,
   "metadata": {
    "collapsed": false
   },
   "outputs": [
    {
     "name": "stdout",
     "output_type": "stream",
     "text": [
      "Fitting 3 folds for each of 8 candidates, totalling 24 fits\n"
     ]
    },
    {
     "name": "stderr",
     "output_type": "stream",
     "text": [
      "[Parallel(n_jobs=-1)]: Done  24 out of  24 | elapsed:   59.8s finished\n"
     ]
    },
    {
     "data": {
      "text/html": [
       "<div>\n",
       "<table border=\"1\" class=\"dataframe\">\n",
       "  <thead>\n",
       "    <tr style=\"text-align: right;\">\n",
       "      <th></th>\n",
       "      <th>accuracy</th>\n",
       "      <th>f1</th>\n",
       "      <th>precision</th>\n",
       "      <th>recall</th>\n",
       "    </tr>\n",
       "  </thead>\n",
       "  <tbody>\n",
       "    <tr>\n",
       "      <th>train</th>\n",
       "      <td>0.999833</td>\n",
       "      <td>0.999848</td>\n",
       "      <td>0.999845</td>\n",
       "      <td>0.999853</td>\n",
       "    </tr>\n",
       "    <tr>\n",
       "      <th>validate</th>\n",
       "      <td>0.957333</td>\n",
       "      <td>0.957518</td>\n",
       "      <td>0.958190</td>\n",
       "      <td>0.957874</td>\n",
       "    </tr>\n",
       "  </tbody>\n",
       "</table>\n",
       "</div>"
      ],
      "text/plain": [
       "          accuracy        f1  precision    recall\n",
       "train     0.999833  0.999848   0.999845  0.999853\n",
       "validate  0.957333  0.957518   0.958190  0.957874"
      ]
     },
     "execution_count": 149,
     "metadata": {},
     "output_type": "execute_result"
    }
   ],
   "source": [
    "# Random Forest\n",
    "rf_model = bow_platform.MNB_Gridsearch()\n",
    "rf_eval_dict = kfold_evaluation(bow_platform.x_test, bow_platform.y_test, model=rf_model, kf=kf)\n",
    "pd.DataFrame.from_dict(rf_eval_dict)"
   ]
  },
  {
   "cell_type": "code",
   "execution_count": 150,
   "metadata": {
    "collapsed": false
   },
   "outputs": [
    {
     "data": {
      "text/plain": [
       "<matplotlib.axes._subplots.AxesSubplot at 0x11fd21cf8>"
      ]
     },
     "execution_count": 150,
     "metadata": {},
     "output_type": "execute_result"
    },
    {
     "data": {
      "image/png": "[encoded data removed]",
      "text/plain": [
       "<matplotlib.figure.Figure at 0x120142b00>"
      ]
     },
     "metadata": {},
     "output_type": "display_data"
    }
   ],
   "source": [
    "rf_bow_pred = rf_model.predict(bow_platform.x_test)\n",
    "ConfusionMatrix(bow_platform.y_test, rf_bow_pred).plot(normalized=True)"
   ]
  },
  {
   "cell_type": "markdown",
   "metadata": {},
   "source": [
    "### One vs Rest Logistic Regression"
   ]
  },
  {
   "cell_type": "code",
   "execution_count": null,
   "metadata": {
    "collapsed": true
   },
   "outputs": [],
   "source": [
    "lr_model = bow_platform.Logistic_Regression_OneVAll()"
   ]
  },
  {
   "cell_type": "code",
   "execution_count": 195,
   "metadata": {
    "collapsed": false,
    "scrolled": true
   },
   "outputs": [
    {
     "data": {
      "text/html": [
       "<div>\n",
       "<table border=\"1\" class=\"dataframe\">\n",
       "  <thead>\n",
       "    <tr style=\"text-align: right;\">\n",
       "      <th></th>\n",
       "      <th>accuracy</th>\n",
       "      <th>f1</th>\n",
       "      <th>precision</th>\n",
       "      <th>recall</th>\n",
       "    </tr>\n",
       "  </thead>\n",
       "  <tbody>\n",
       "    <tr>\n",
       "      <th>train</th>\n",
       "      <td>0.967333</td>\n",
       "      <td>0.968050</td>\n",
       "      <td>0.968974</td>\n",
       "      <td>0.967562</td>\n",
       "    </tr>\n",
       "    <tr>\n",
       "      <th>validate</th>\n",
       "      <td>0.967333</td>\n",
       "      <td>0.968506</td>\n",
       "      <td>0.969949</td>\n",
       "      <td>0.967906</td>\n",
       "    </tr>\n",
       "  </tbody>\n",
       "</table>\n",
       "</div>"
      ],
      "text/plain": [
       "          accuracy        f1  precision    recall\n",
       "train     0.967333  0.968050   0.968974  0.967562\n",
       "validate  0.967333  0.968506   0.969949  0.967906"
      ]
     },
     "execution_count": 195,
     "metadata": {},
     "output_type": "execute_result"
    }
   ],
   "source": [
    "lr_eval_dict = kfold_evaluation(bow_platform.x_test, bow_platform.y_test, model=lr_model, kf=kf)\n",
    "pd.DataFrame.from_dict(lr_eval_dict)"
   ]
  },
  {
   "cell_type": "code",
   "execution_count": 152,
   "metadata": {
    "collapsed": false
   },
   "outputs": [
    {
     "data": {
      "text/plain": [
       "<matplotlib.axes._subplots.AxesSubplot at 0x1264f7588>"
      ]
     },
     "execution_count": 152,
     "metadata": {},
     "output_type": "execute_result"
    },
    {
     "data": {
      "image/png": "[encoded data removed]",
      "text/plain": [
       "<matplotlib.figure.Figure at 0x12011fb38>"
      ]
     },
     "metadata": {},
     "output_type": "display_data"
    }
   ],
   "source": [
    "lr_bow_pred = lr_model.predict(bow_platform.x_test)\n",
    "ConfusionMatrix(bow_platform.y_test, lr_bow_pred).plot(normalized=True)"
   ]
  },
  {
   "cell_type": "markdown",
   "metadata": {},
   "source": [
    "### One vs Rest SVC"
   ]
  },
  {
   "cell_type": "code",
   "execution_count": null,
   "metadata": {
    "collapsed": true
   },
   "outputs": [],
   "source": [
    "svc_model = bow_platform.SVC_OneVAll()"
   ]
  },
  {
   "cell_type": "code",
   "execution_count": 196,
   "metadata": {
    "collapsed": false,
    "scrolled": true
   },
   "outputs": [
    {
     "data": {
      "text/html": [
       "<div>\n",
       "<table border=\"1\" class=\"dataframe\">\n",
       "  <thead>\n",
       "    <tr style=\"text-align: right;\">\n",
       "      <th></th>\n",
       "      <th>accuracy</th>\n",
       "      <th>f1</th>\n",
       "      <th>precision</th>\n",
       "      <th>recall</th>\n",
       "    </tr>\n",
       "  </thead>\n",
       "  <tbody>\n",
       "    <tr>\n",
       "      <th>train</th>\n",
       "      <td>0.958</td>\n",
       "      <td>0.958835</td>\n",
       "      <td>0.960707</td>\n",
       "      <td>0.957918</td>\n",
       "    </tr>\n",
       "    <tr>\n",
       "      <th>validate</th>\n",
       "      <td>0.958</td>\n",
       "      <td>0.957169</td>\n",
       "      <td>0.959493</td>\n",
       "      <td>0.956758</td>\n",
       "    </tr>\n",
       "  </tbody>\n",
       "</table>\n",
       "</div>"
      ],
      "text/plain": [
       "          accuracy        f1  precision    recall\n",
       "train        0.958  0.958835   0.960707  0.957918\n",
       "validate     0.958  0.957169   0.959493  0.956758"
      ]
     },
     "execution_count": 196,
     "metadata": {},
     "output_type": "execute_result"
    }
   ],
   "source": [
    "svc_eval_dict = kfold_evaluation(bow_platform.x_test, bow_platform.y_test, model=svc_model, kf=kf)\n",
    "pd.DataFrame.from_dict(svc_eval_dict)"
   ]
  },
  {
   "cell_type": "code",
   "execution_count": 154,
   "metadata": {
    "collapsed": false
   },
   "outputs": [
    {
     "data": {
      "text/plain": [
       "<matplotlib.axes._subplots.AxesSubplot at 0x11f730748>"
      ]
     },
     "execution_count": 154,
     "metadata": {},
     "output_type": "execute_result"
    },
    {
     "data": {
      "image/png": "[encoded data removed]",
      "text/plain": [
       "<matplotlib.figure.Figure at 0x130ecda58>"
      ]
     },
     "metadata": {},
     "output_type": "display_data"
    }
   ],
   "source": [
    "svc_bow_pred = svc_model.predict(bow_platform.x_test)\n",
    "ConfusionMatrix(bow_platform.y_test, svc_bow_pred).plot(normalized=True)"
   ]
  },
  {
   "cell_type": "markdown",
   "metadata": {},
   "source": [
    "### Gradient Boosted Trees\n"
   ]
  },
  {
   "cell_type": "code",
   "execution_count": null,
   "metadata": {
    "collapsed": true
   },
   "outputs": [],
   "source": [
    "gbt_model = bow_platform.Gradient_Boosted_Trees(n_rows=1000)"
   ]
  },
  {
   "cell_type": "code",
   "execution_count": 197,
   "metadata": {
    "collapsed": false
   },
   "outputs": [
    {
     "data": {
      "text/html": [
       "<div>\n",
       "<table border=\"1\" class=\"dataframe\">\n",
       "  <thead>\n",
       "    <tr style=\"text-align: right;\">\n",
       "      <th></th>\n",
       "      <th>accuracy</th>\n",
       "      <th>f1</th>\n",
       "      <th>precision</th>\n",
       "      <th>recall</th>\n",
       "    </tr>\n",
       "  </thead>\n",
       "  <tbody>\n",
       "    <tr>\n",
       "      <th>train</th>\n",
       "      <td>0.754667</td>\n",
       "      <td>0.777223</td>\n",
       "      <td>0.865288</td>\n",
       "      <td>0.753699</td>\n",
       "    </tr>\n",
       "    <tr>\n",
       "      <th>validate</th>\n",
       "      <td>0.754667</td>\n",
       "      <td>0.775708</td>\n",
       "      <td>0.865421</td>\n",
       "      <td>0.752765</td>\n",
       "    </tr>\n",
       "  </tbody>\n",
       "</table>\n",
       "</div>"
      ],
      "text/plain": [
       "          accuracy        f1  precision    recall\n",
       "train     0.754667  0.777223   0.865288  0.753699\n",
       "validate  0.754667  0.775708   0.865421  0.752765"
      ]
     },
     "execution_count": 197,
     "metadata": {},
     "output_type": "execute_result"
    }
   ],
   "source": [
    "gbt_eval_dict = kfold_evaluation(bow_platform.x_test, bow_platform.y_test, model=gbt_model, kf=kf)\n",
    "pd.DataFrame.from_dict(gbt_eval_dict)"
   ]
  },
  {
   "cell_type": "code",
   "execution_count": 198,
   "metadata": {
    "collapsed": false
   },
   "outputs": [
    {
     "data": {
      "text/plain": [
       "<matplotlib.axes._subplots.AxesSubplot at 0x1204247b8>"
      ]
     },
     "execution_count": 198,
     "metadata": {},
     "output_type": "execute_result"
    },
    {
     "data": {
      "image/png": "[encoded data removed]",
      "text/plain": [
       "<matplotlib.figure.Figure at 0x120414a20>"
      ]
     },
     "metadata": {},
     "output_type": "display_data"
    }
   ],
   "source": [
    "gbt_bow_pred = gbt_model.predict(bow_platform.x_test)\n",
    "ConfusionMatrix(bow_platform.y_test, gbt_bow_pred).plot(normalized=True)"
   ]
  },
  {
   "cell_type": "markdown",
   "metadata": {},
   "source": [
    "## TFIDF Modeling"
   ]
  },
  {
   "cell_type": "code",
   "execution_count": 161,
   "metadata": {
    "collapsed": true
   },
   "outputs": [],
   "source": [
    "tfidf_platform = Classify_Thread(X=tfidf.toarray(),y=balanced_classes_data.thread_ids.values)"
   ]
  },
  {
   "cell_type": "markdown",
   "metadata": {},
   "source": [
    "### Gridsearched MNB"
   ]
  },
  {
   "cell_type": "code",
   "execution_count": null,
   "metadata": {
    "collapsed": true
   },
   "outputs": [],
   "source": [
    "# Gridsearched Multinomial Naive Bayes\n",
    "mnb_tfidf = tfidf_platform.MNB_Gridsearch()"
   ]
  },
  {
   "cell_type": "code",
   "execution_count": 199,
   "metadata": {
    "collapsed": false
   },
   "outputs": [
    {
     "data": {
      "text/html": [
       "<div>\n",
       "<table border=\"1\" class=\"dataframe\">\n",
       "  <thead>\n",
       "    <tr style=\"text-align: right;\">\n",
       "      <th></th>\n",
       "      <th>accuracy</th>\n",
       "      <th>f1</th>\n",
       "      <th>precision</th>\n",
       "      <th>recall</th>\n",
       "    </tr>\n",
       "  </thead>\n",
       "  <tbody>\n",
       "    <tr>\n",
       "      <th>train</th>\n",
       "      <td>0.99</td>\n",
       "      <td>0.990130</td>\n",
       "      <td>0.990019</td>\n",
       "      <td>0.990297</td>\n",
       "    </tr>\n",
       "    <tr>\n",
       "      <th>validate</th>\n",
       "      <td>0.99</td>\n",
       "      <td>0.989955</td>\n",
       "      <td>0.989984</td>\n",
       "      <td>0.990100</td>\n",
       "    </tr>\n",
       "  </tbody>\n",
       "</table>\n",
       "</div>"
      ],
      "text/plain": [
       "          accuracy        f1  precision    recall\n",
       "train         0.99  0.990130   0.990019  0.990297\n",
       "validate      0.99  0.989955   0.989984  0.990100"
      ]
     },
     "execution_count": 199,
     "metadata": {},
     "output_type": "execute_result"
    }
   ],
   "source": [
    "mbb_tfidf_eval_dict = kfold_evaluation(tfidf_platform.x_test, tfidf_platform.y_test, model=mnb_tfidf, kf=kf)\n",
    "pd.DataFrame.from_dict(mbb_tfidf_eval_dict)"
   ]
  },
  {
   "cell_type": "code",
   "execution_count": 165,
   "metadata": {
    "collapsed": false
   },
   "outputs": [
    {
     "data": {
      "text/plain": [
       "<matplotlib.axes._subplots.AxesSubplot at 0x11f684a90>"
      ]
     },
     "execution_count": 165,
     "metadata": {},
     "output_type": "execute_result"
    },
    {
     "data": {
      "image/png": "[encoded data removed]",
      "text/plain": [
       "<matplotlib.figure.Figure at 0x11f6f4940>"
      ]
     },
     "metadata": {},
     "output_type": "display_data"
    }
   ],
   "source": [
    "mnb_tfidf_pred = mnb_tfidf.predict(tfidf_platform.x_test)\n",
    "ConfusionMatrix(tfidf_platform.y_test, mnb_tfidf_pred).plot(normalized=True)"
   ]
  },
  {
   "cell_type": "markdown",
   "metadata": {},
   "source": [
    "### Random Forest"
   ]
  },
  {
   "cell_type": "code",
   "execution_count": null,
   "metadata": {
    "collapsed": true
   },
   "outputs": [],
   "source": [
    "# Random Forest\n",
    "rf_tfidf_model = tfidf_platform.MNB_Gridsearch()"
   ]
  },
  {
   "cell_type": "code",
   "execution_count": 200,
   "metadata": {
    "collapsed": false
   },
   "outputs": [
    {
     "data": {
      "text/html": [
       "<div>\n",
       "<table border=\"1\" class=\"dataframe\">\n",
       "  <thead>\n",
       "    <tr style=\"text-align: right;\">\n",
       "      <th></th>\n",
       "      <th>accuracy</th>\n",
       "      <th>f1</th>\n",
       "      <th>precision</th>\n",
       "      <th>recall</th>\n",
       "    </tr>\n",
       "  </thead>\n",
       "  <tbody>\n",
       "    <tr>\n",
       "      <th>train</th>\n",
       "      <td>0.996667</td>\n",
       "      <td>0.996744</td>\n",
       "      <td>0.996664</td>\n",
       "      <td>0.996854</td>\n",
       "    </tr>\n",
       "    <tr>\n",
       "      <th>validate</th>\n",
       "      <td>0.996667</td>\n",
       "      <td>0.996749</td>\n",
       "      <td>0.996869</td>\n",
       "      <td>0.996718</td>\n",
       "    </tr>\n",
       "  </tbody>\n",
       "</table>\n",
       "</div>"
      ],
      "text/plain": [
       "          accuracy        f1  precision    recall\n",
       "train     0.996667  0.996744   0.996664  0.996854\n",
       "validate  0.996667  0.996749   0.996869  0.996718"
      ]
     },
     "execution_count": 200,
     "metadata": {},
     "output_type": "execute_result"
    }
   ],
   "source": [
    "rf_tfidf_eval_dict = kfold_evaluation(tfidf_platform.x_test, tfidf_platform.y_test, model=rf_tfidf_model, kf=kf)\n",
    "pd.DataFrame.from_dict(rf_tfidf_eval_dict)"
   ]
  },
  {
   "cell_type": "code",
   "execution_count": 167,
   "metadata": {
    "collapsed": false
   },
   "outputs": [
    {
     "data": {
      "text/plain": [
       "<matplotlib.axes._subplots.AxesSubplot at 0x11f1b1550>"
      ]
     },
     "execution_count": 167,
     "metadata": {},
     "output_type": "execute_result"
    },
    {
     "data": {
      "image/png": "[encoded data removed]",
      "text/plain": [
       "<matplotlib.figure.Figure at 0x11f126b00>"
      ]
     },
     "metadata": {},
     "output_type": "display_data"
    }
   ],
   "source": [
    "rf_tfidf_pred = rf_tfidf_model.predict(tfidf_platform.x_test)\n",
    "ConfusionMatrix(tfidf_platform.y_test, rf_tfidf_pred).plot(normalized=True)"
   ]
  },
  {
   "cell_type": "markdown",
   "metadata": {},
   "source": [
    "# Logistic Regression"
   ]
  },
  {
   "cell_type": "code",
   "execution_count": null,
   "metadata": {
    "collapsed": true
   },
   "outputs": [],
   "source": [
    "lr_tfidf_model = tfidf_platform.Logistic_Regression_OneVAll()"
   ]
  },
  {
   "cell_type": "code",
   "execution_count": 201,
   "metadata": {
    "collapsed": false
   },
   "outputs": [
    {
     "data": {
      "text/html": [
       "<div>\n",
       "<table border=\"1\" class=\"dataframe\">\n",
       "  <thead>\n",
       "    <tr style=\"text-align: right;\">\n",
       "      <th></th>\n",
       "      <th>accuracy</th>\n",
       "      <th>f1</th>\n",
       "      <th>precision</th>\n",
       "      <th>recall</th>\n",
       "    </tr>\n",
       "  </thead>\n",
       "  <tbody>\n",
       "    <tr>\n",
       "      <th>train</th>\n",
       "      <td>0.982667</td>\n",
       "      <td>0.982813</td>\n",
       "      <td>0.983037</td>\n",
       "      <td>0.982903</td>\n",
       "    </tr>\n",
       "    <tr>\n",
       "      <th>validate</th>\n",
       "      <td>0.982667</td>\n",
       "      <td>0.982617</td>\n",
       "      <td>0.983120</td>\n",
       "      <td>0.982640</td>\n",
       "    </tr>\n",
       "  </tbody>\n",
       "</table>\n",
       "</div>"
      ],
      "text/plain": [
       "          accuracy        f1  precision    recall\n",
       "train     0.982667  0.982813   0.983037  0.982903\n",
       "validate  0.982667  0.982617   0.983120  0.982640"
      ]
     },
     "execution_count": 201,
     "metadata": {},
     "output_type": "execute_result"
    }
   ],
   "source": [
    "lr_tfidf_eval_dict = kfold_evaluation(tfidf_platform.x_test, tfidf_platform.y_test, model=lr_tfidf_model, kf=kf)\n",
    "pd.DataFrame.from_dict(lr_tfidf_eval_dict)"
   ]
  },
  {
   "cell_type": "code",
   "execution_count": 169,
   "metadata": {
    "collapsed": false
   },
   "outputs": [
    {
     "data": {
      "text/plain": [
       "<matplotlib.axes._subplots.AxesSubplot at 0x11ee6f390>"
      ]
     },
     "execution_count": 169,
     "metadata": {},
     "output_type": "execute_result"
    },
    {
     "data": {
      "image/png": "[encoded data removed]",
      "text/plain": [
       "<matplotlib.figure.Figure at 0x11ee93a58>"
      ]
     },
     "metadata": {},
     "output_type": "display_data"
    }
   ],
   "source": [
    "lr_tfidf_pred = lr_tfidf_model.predict(tfidf_platform.x_test)\n",
    "ConfusionMatrix(tfidf_platform.y_test, lr_tfidf_pred).plot(normalized=True)"
   ]
  },
  {
   "cell_type": "markdown",
   "metadata": {},
   "source": [
    "### SVC"
   ]
  },
  {
   "cell_type": "code",
   "execution_count": null,
   "metadata": {
    "collapsed": true
   },
   "outputs": [],
   "source": [
    "svc_tfidf_model = tfidf_platform.SVC_OneVAll()"
   ]
  },
  {
   "cell_type": "code",
   "execution_count": 202,
   "metadata": {
    "collapsed": false
   },
   "outputs": [
    {
     "data": {
      "text/html": [
       "<div>\n",
       "<table border=\"1\" class=\"dataframe\">\n",
       "  <thead>\n",
       "    <tr style=\"text-align: right;\">\n",
       "      <th></th>\n",
       "      <th>accuracy</th>\n",
       "      <th>f1</th>\n",
       "      <th>precision</th>\n",
       "      <th>recall</th>\n",
       "    </tr>\n",
       "  </thead>\n",
       "  <tbody>\n",
       "    <tr>\n",
       "      <th>train</th>\n",
       "      <td>0.984667</td>\n",
       "      <td>0.984690</td>\n",
       "      <td>0.984586</td>\n",
       "      <td>0.984926</td>\n",
       "    </tr>\n",
       "    <tr>\n",
       "      <th>validate</th>\n",
       "      <td>0.984667</td>\n",
       "      <td>0.984815</td>\n",
       "      <td>0.985270</td>\n",
       "      <td>0.984780</td>\n",
       "    </tr>\n",
       "  </tbody>\n",
       "</table>\n",
       "</div>"
      ],
      "text/plain": [
       "          accuracy        f1  precision    recall\n",
       "train     0.984667  0.984690   0.984586  0.984926\n",
       "validate  0.984667  0.984815   0.985270  0.984780"
      ]
     },
     "execution_count": 202,
     "metadata": {},
     "output_type": "execute_result"
    }
   ],
   "source": [
    "svc_tfidf_eval_dict = kfold_evaluation(tfidf_platform.x_test, tfidf_platform.y_test, model=svc_tfidf_model, kf=kf)\n",
    "pd.DataFrame.from_dict(svc_tfidf_eval_dict)"
   ]
  },
  {
   "cell_type": "code",
   "execution_count": 172,
   "metadata": {
    "collapsed": false
   },
   "outputs": [
    {
     "data": {
      "text/plain": [
       "<matplotlib.axes._subplots.AxesSubplot at 0x11edb1198>"
      ]
     },
     "execution_count": 172,
     "metadata": {},
     "output_type": "execute_result"
    },
    {
     "data": {
      "image/png": "[encoded data removed]",
      "text/plain": [
       "<matplotlib.figure.Figure at 0x11e9972b0>"
      ]
     },
     "metadata": {},
     "output_type": "display_data"
    }
   ],
   "source": [
    "svc_tfidf_pred = svc_tfidf_model.predict(tfidf_platform.x_test)\n",
    "ConfusionMatrix(tfidf_platform.y_test, svc_tfidf_pred).plot(normalized=True)"
   ]
  },
  {
   "cell_type": "markdown",
   "metadata": {},
   "source": [
    "# Doc2Vec"
   ]
  },
  {
   "cell_type": "code",
   "execution_count": 174,
   "metadata": {
    "collapsed": false
   },
   "outputs": [],
   "source": [
    "d2v_platform = Classify_Thread(X=d2v_avg_embeddings,y=balanced_classes_data.thread_ids.values)"
   ]
  },
  {
   "cell_type": "markdown",
   "metadata": {},
   "source": [
    "### Gridsearched MNB"
   ]
  },
  {
   "cell_type": "code",
   "execution_count": 179,
   "metadata": {
    "collapsed": false
   },
   "outputs": [
    {
     "name": "stdout",
     "output_type": "stream",
     "text": [
      "Fitting 3 folds for each of 8 candidates, totalling 24 fits\n"
     ]
    },
    {
     "ename": "JoblibValueError",
     "evalue": "JoblibValueError\n___________________________________________________________________________\nMultiprocessing exception:\n...........................................................................\n/Users/AnthonyAbercrombie/anaconda/lib/python3.5/runpy.py in _run_module_as_main(mod_name='ipykernel.__main__', alter_argv=1)\n    165         sys.exit(msg)\n    166     main_globals = sys.modules[\"__main__\"].__dict__\n    167     if alter_argv:\n    168         sys.argv[0] = mod_spec.origin\n    169     return _run_code(code, main_globals, None,\n--> 170                      \"__main__\", mod_spec)\n        mod_spec = ModuleSpec(name='ipykernel.__main__', loader=<_f...b/python3.5/site-packages/ipykernel/__main__.py')\n    171 \n    172 def run_module(mod_name, init_globals=None,\n    173                run_name=None, alter_sys=False):\n    174     \"\"\"Execute a module's code without importing it\n\n...........................................................................\n/Users/AnthonyAbercrombie/anaconda/lib/python3.5/runpy.py in _run_code(code=<code object <module> at 0x1027c85d0, file \"/Use...3.5/site-packages/ipykernel/__main__.py\", line 1>, run_globals={'__builtins__': <module 'builtins' (built-in)>, '__cached__': '/Users/AnthonyAbercrombie/anaconda/lib/python3.5...ges/ipykernel/__pycache__/__main__.cpython-35.pyc', '__doc__': None, '__file__': '/Users/AnthonyAbercrombie/anaconda/lib/python3.5/site-packages/ipykernel/__main__.py', '__loader__': <_frozen_importlib_external.SourceFileLoader object>, '__name__': '__main__', '__package__': 'ipykernel', '__spec__': ModuleSpec(name='ipykernel.__main__', loader=<_f...b/python3.5/site-packages/ipykernel/__main__.py'), 'app': <module 'ipykernel.kernelapp' from '/Users/Antho.../python3.5/site-packages/ipykernel/kernelapp.py'>}, init_globals=None, mod_name='__main__', mod_spec=ModuleSpec(name='ipykernel.__main__', loader=<_f...b/python3.5/site-packages/ipykernel/__main__.py'), pkg_name='ipykernel', script_name=None)\n     80                        __cached__ = cached,\n     81                        __doc__ = None,\n     82                        __loader__ = loader,\n     83                        __package__ = pkg_name,\n     84                        __spec__ = mod_spec)\n---> 85     exec(code, run_globals)\n        code = <code object <module> at 0x1027c85d0, file \"/Use...3.5/site-packages/ipykernel/__main__.py\", line 1>\n        run_globals = {'__builtins__': <module 'builtins' (built-in)>, '__cached__': '/Users/AnthonyAbercrombie/anaconda/lib/python3.5...ges/ipykernel/__pycache__/__main__.cpython-35.pyc', '__doc__': None, '__file__': '/Users/AnthonyAbercrombie/anaconda/lib/python3.5/site-packages/ipykernel/__main__.py', '__loader__': <_frozen_importlib_external.SourceFileLoader object>, '__name__': '__main__', '__package__': 'ipykernel', '__spec__': ModuleSpec(name='ipykernel.__main__', loader=<_f...b/python3.5/site-packages/ipykernel/__main__.py'), 'app': <module 'ipykernel.kernelapp' from '/Users/Antho.../python3.5/site-packages/ipykernel/kernelapp.py'>}\n     86     return run_globals\n     87 \n     88 def _run_module_code(code, init_globals=None,\n     89                     mod_name=None, mod_spec=None,\n\n...........................................................................\n/Users/AnthonyAbercrombie/anaconda/lib/python3.5/site-packages/ipykernel/__main__.py in <module>()\n      1 \n      2 \n----> 3 \n      4 if __name__ == '__main__':\n      5     from ipykernel import kernelapp as app\n      6     app.launch_new_instance()\n      7 \n      8 \n      9 \n     10 \n\n...........................................................................\n/Users/AnthonyAbercrombie/anaconda/lib/python3.5/site-packages/traitlets/config/application.py in launch_instance(cls=<class 'ipykernel.kernelapp.IPKernelApp'>, argv=None, **kwargs={})\n    584         \n    585         If a global instance already exists, this reinitializes and starts it\n    586         \"\"\"\n    587         app = cls.instance(**kwargs)\n    588         app.initialize(argv)\n--> 589         app.start()\n        app.start = <bound method IPKernelApp.start of <ipykernel.kernelapp.IPKernelApp object>>\n    590 \n    591 #-----------------------------------------------------------------------------\n    592 # utility functions, for convenience\n    593 #-----------------------------------------------------------------------------\n\n...........................................................................\n/Users/AnthonyAbercrombie/anaconda/lib/python3.5/site-packages/ipykernel/kernelapp.py in start(self=<ipykernel.kernelapp.IPKernelApp object>)\n    400         \n    401         if self.poller is not None:\n    402             self.poller.start()\n    403         self.kernel.start()\n    404         try:\n--> 405             ioloop.IOLoop.instance().start()\n    406         except KeyboardInterrupt:\n    407             pass\n    408 \n    409 launch_new_instance = IPKernelApp.launch_instance\n\n...........................................................................\n/Users/AnthonyAbercrombie/anaconda/lib/python3.5/site-packages/zmq/eventloop/ioloop.py in start(self=<zmq.eventloop.ioloop.ZMQIOLoop object>)\n    157             PollIOLoop.configure(ZMQIOLoop)\n    158         return PollIOLoop.current(*args, **kwargs)\n    159     \n    160     def start(self):\n    161         try:\n--> 162             super(ZMQIOLoop, self).start()\n        self.start = <bound method ZMQIOLoop.start of <zmq.eventloop.ioloop.ZMQIOLoop object>>\n    163         except ZMQError as e:\n    164             if e.errno == ETERM:\n    165                 # quietly return on ETERM\n    166                 pass\n\n...........................................................................\n/Users/AnthonyAbercrombie/anaconda/lib/python3.5/site-packages/tornado/ioloop.py in start(self=<zmq.eventloop.ioloop.ZMQIOLoop object>)\n    878                 self._events.update(event_pairs)\n    879                 while self._events:\n    880                     fd, events = self._events.popitem()\n    881                     try:\n    882                         fd_obj, handler_func = self._handlers[fd]\n--> 883                         handler_func(fd_obj, events)\n        handler_func = <function wrap.<locals>.null_wrapper>\n        fd_obj = <zmq.sugar.socket.Socket object>\n        events = 1\n    884                     except (OSError, IOError) as e:\n    885                         if errno_from_exception(e) == errno.EPIPE:\n    886                             # Happens when the client closes the connection\n    887                             pass\n\n...........................................................................\n/Users/AnthonyAbercrombie/anaconda/lib/python3.5/site-packages/tornado/stack_context.py in null_wrapper(*args=(<zmq.sugar.socket.Socket object>, 1), **kwargs={})\n    270         # Fast path when there are no active contexts.\n    271         def null_wrapper(*args, **kwargs):\n    272             try:\n    273                 current_state = _state.contexts\n    274                 _state.contexts = cap_contexts[0]\n--> 275                 return fn(*args, **kwargs)\n        args = (<zmq.sugar.socket.Socket object>, 1)\n        kwargs = {}\n    276             finally:\n    277                 _state.contexts = current_state\n    278         null_wrapper._wrapped = True\n    279         return null_wrapper\n\n...........................................................................\n/Users/AnthonyAbercrombie/anaconda/lib/python3.5/site-packages/zmq/eventloop/zmqstream.py in _handle_events(self=<zmq.eventloop.zmqstream.ZMQStream object>, fd=<zmq.sugar.socket.Socket object>, events=1)\n    435             # dispatch events:\n    436             if events & IOLoop.ERROR:\n    437                 gen_log.error(\"got POLLERR event on ZMQStream, which doesn't make sense\")\n    438                 return\n    439             if events & IOLoop.READ:\n--> 440                 self._handle_recv()\n        self._handle_recv = <bound method ZMQStream._handle_recv of <zmq.eventloop.zmqstream.ZMQStream object>>\n    441                 if not self.socket:\n    442                     return\n    443             if events & IOLoop.WRITE:\n    444                 self._handle_send()\n\n...........................................................................\n/Users/AnthonyAbercrombie/anaconda/lib/python3.5/site-packages/zmq/eventloop/zmqstream.py in _handle_recv(self=<zmq.eventloop.zmqstream.ZMQStream object>)\n    467                 gen_log.error(\"RECV Error: %s\"%zmq.strerror(e.errno))\n    468         else:\n    469             if self._recv_callback:\n    470                 callback = self._recv_callback\n    471                 # self._recv_callback = None\n--> 472                 self._run_callback(callback, msg)\n        self._run_callback = <bound method ZMQStream._run_callback of <zmq.eventloop.zmqstream.ZMQStream object>>\n        callback = <function wrap.<locals>.null_wrapper>\n        msg = [<zmq.sugar.frame.Frame object>, <zmq.sugar.frame.Frame object>, <zmq.sugar.frame.Frame object>, <zmq.sugar.frame.Frame object>, <zmq.sugar.frame.Frame object>, <zmq.sugar.frame.Frame object>, <zmq.sugar.frame.Frame object>]\n    473                 \n    474         # self.update_state()\n    475         \n    476 \n\n...........................................................................\n/Users/AnthonyAbercrombie/anaconda/lib/python3.5/site-packages/zmq/eventloop/zmqstream.py in _run_callback(self=<zmq.eventloop.zmqstream.ZMQStream object>, callback=<function wrap.<locals>.null_wrapper>, *args=([<zmq.sugar.frame.Frame object>, <zmq.sugar.frame.Frame object>, <zmq.sugar.frame.Frame object>, <zmq.sugar.frame.Frame object>, <zmq.sugar.frame.Frame object>, <zmq.sugar.frame.Frame object>, <zmq.sugar.frame.Frame object>],), **kwargs={})\n    409         close our socket.\"\"\"\n    410         try:\n    411             # Use a NullContext to ensure that all StackContexts are run\n    412             # inside our blanket exception handler rather than outside.\n    413             with stack_context.NullContext():\n--> 414                 callback(*args, **kwargs)\n        callback = <function wrap.<locals>.null_wrapper>\n        args = ([<zmq.sugar.frame.Frame object>, <zmq.sugar.frame.Frame object>, <zmq.sugar.frame.Frame object>, <zmq.sugar.frame.Frame object>, <zmq.sugar.frame.Frame object>, <zmq.sugar.frame.Frame object>, <zmq.sugar.frame.Frame object>],)\n        kwargs = {}\n    415         except:\n    416             gen_log.error(\"Uncaught exception, closing connection.\",\n    417                           exc_info=True)\n    418             # Close the socket on an uncaught exception from a user callback\n\n...........................................................................\n/Users/AnthonyAbercrombie/anaconda/lib/python3.5/site-packages/tornado/stack_context.py in null_wrapper(*args=([<zmq.sugar.frame.Frame object>, <zmq.sugar.frame.Frame object>, <zmq.sugar.frame.Frame object>, <zmq.sugar.frame.Frame object>, <zmq.sugar.frame.Frame object>, <zmq.sugar.frame.Frame object>, <zmq.sugar.frame.Frame object>],), **kwargs={})\n    270         # Fast path when there are no active contexts.\n    271         def null_wrapper(*args, **kwargs):\n    272             try:\n    273                 current_state = _state.contexts\n    274                 _state.contexts = cap_contexts[0]\n--> 275                 return fn(*args, **kwargs)\n        args = ([<zmq.sugar.frame.Frame object>, <zmq.sugar.frame.Frame object>, <zmq.sugar.frame.Frame object>, <zmq.sugar.frame.Frame object>, <zmq.sugar.frame.Frame object>, <zmq.sugar.frame.Frame object>, <zmq.sugar.frame.Frame object>],)\n        kwargs = {}\n    276             finally:\n    277                 _state.contexts = current_state\n    278         null_wrapper._wrapped = True\n    279         return null_wrapper\n\n...........................................................................\n/Users/AnthonyAbercrombie/anaconda/lib/python3.5/site-packages/ipykernel/kernelbase.py in dispatcher(msg=[<zmq.sugar.frame.Frame object>, <zmq.sugar.frame.Frame object>, <zmq.sugar.frame.Frame object>, <zmq.sugar.frame.Frame object>, <zmq.sugar.frame.Frame object>, <zmq.sugar.frame.Frame object>, <zmq.sugar.frame.Frame object>])\n    255         if self.control_stream:\n    256             self.control_stream.on_recv(self.dispatch_control, copy=False)\n    257 \n    258         def make_dispatcher(stream):\n    259             def dispatcher(msg):\n--> 260                 return self.dispatch_shell(stream, msg)\n        msg = [<zmq.sugar.frame.Frame object>, <zmq.sugar.frame.Frame object>, <zmq.sugar.frame.Frame object>, <zmq.sugar.frame.Frame object>, <zmq.sugar.frame.Frame object>, <zmq.sugar.frame.Frame object>, <zmq.sugar.frame.Frame object>]\n    261             return dispatcher\n    262 \n    263         for s in self.shell_streams:\n    264             s.on_recv(make_dispatcher(s), copy=False)\n\n...........................................................................\n/Users/AnthonyAbercrombie/anaconda/lib/python3.5/site-packages/ipykernel/kernelbase.py in dispatch_shell(self=<ipykernel.ipkernel.IPythonKernel object>, stream=<zmq.eventloop.zmqstream.ZMQStream object>, msg={'buffers': [], 'content': {'allow_stdin': True, 'code': '# Gridsearched Multinomial Naive Bayes\\nmnb_d2v =..._test, d2v_platform.y_test, model=mnb_d2v, kf=kf)', 'silent': False, 'stop_on_error': True, 'store_history': True, 'user_expressions': {}}, 'header': {'date': '2016-12-15T06:58:16.402202', 'msg_id': '2556C506EB31492CA3E8DDD5F35614E1', 'msg_type': 'execute_request', 'session': '17023023C91C46E1A8B31FC49A09B16E', 'username': 'username', 'version': '5.0'}, 'metadata': {}, 'msg_id': '2556C506EB31492CA3E8DDD5F35614E1', 'msg_type': 'execute_request', 'parent_header': {}})\n    207             self.log.error(\"UNKNOWN MESSAGE TYPE: %r\", msg_type)\n    208         else:\n    209             self.log.debug(\"%s: %s\", msg_type, msg)\n    210             self.pre_handler_hook()\n    211             try:\n--> 212                 handler(stream, idents, msg)\n        handler = <bound method Kernel.execute_request of <ipykernel.ipkernel.IPythonKernel object>>\n        stream = <zmq.eventloop.zmqstream.ZMQStream object>\n        idents = [b'17023023C91C46E1A8B31FC49A09B16E']\n        msg = {'buffers': [], 'content': {'allow_stdin': True, 'code': '# Gridsearched Multinomial Naive Bayes\\nmnb_d2v =..._test, d2v_platform.y_test, model=mnb_d2v, kf=kf)', 'silent': False, 'stop_on_error': True, 'store_history': True, 'user_expressions': {}}, 'header': {'date': '2016-12-15T06:58:16.402202', 'msg_id': '2556C506EB31492CA3E8DDD5F35614E1', 'msg_type': 'execute_request', 'session': '17023023C91C46E1A8B31FC49A09B16E', 'username': 'username', 'version': '5.0'}, 'metadata': {}, 'msg_id': '2556C506EB31492CA3E8DDD5F35614E1', 'msg_type': 'execute_request', 'parent_header': {}}\n    213             except Exception:\n    214                 self.log.error(\"Exception in message handler:\", exc_info=True)\n    215             finally:\n    216                 self.post_handler_hook()\n\n...........................................................................\n/Users/AnthonyAbercrombie/anaconda/lib/python3.5/site-packages/ipykernel/kernelbase.py in execute_request(self=<ipykernel.ipkernel.IPythonKernel object>, stream=<zmq.eventloop.zmqstream.ZMQStream object>, ident=[b'17023023C91C46E1A8B31FC49A09B16E'], parent={'buffers': [], 'content': {'allow_stdin': True, 'code': '# Gridsearched Multinomial Naive Bayes\\nmnb_d2v =..._test, d2v_platform.y_test, model=mnb_d2v, kf=kf)', 'silent': False, 'stop_on_error': True, 'store_history': True, 'user_expressions': {}}, 'header': {'date': '2016-12-15T06:58:16.402202', 'msg_id': '2556C506EB31492CA3E8DDD5F35614E1', 'msg_type': 'execute_request', 'session': '17023023C91C46E1A8B31FC49A09B16E', 'username': 'username', 'version': '5.0'}, 'metadata': {}, 'msg_id': '2556C506EB31492CA3E8DDD5F35614E1', 'msg_type': 'execute_request', 'parent_header': {}})\n    365         if not silent:\n    366             self.execution_count += 1\n    367             self._publish_execute_input(code, parent, self.execution_count)\n    368 \n    369         reply_content = self.do_execute(code, silent, store_history,\n--> 370                                         user_expressions, allow_stdin)\n        user_expressions = {}\n        allow_stdin = True\n    371 \n    372         # Flush output before sending the reply.\n    373         sys.stdout.flush()\n    374         sys.stderr.flush()\n\n...........................................................................\n/Users/AnthonyAbercrombie/anaconda/lib/python3.5/site-packages/ipykernel/ipkernel.py in do_execute(self=<ipykernel.ipkernel.IPythonKernel object>, code='# Gridsearched Multinomial Naive Bayes\\nmnb_d2v =..._test, d2v_platform.y_test, model=mnb_d2v, kf=kf)', silent=False, store_history=True, user_expressions={}, allow_stdin=True)\n    170 \n    171         reply_content = {}\n    172         # FIXME: the shell calls the exception handler itself.\n    173         shell._reply_content = None\n    174         try:\n--> 175             shell.run_cell(code, store_history=store_history, silent=silent)\n        shell.run_cell = <bound method InteractiveShell.run_cell of <ipykernel.zmqshell.ZMQInteractiveShell object>>\n        code = '# Gridsearched Multinomial Naive Bayes\\nmnb_d2v =..._test, d2v_platform.y_test, model=mnb_d2v, kf=kf)'\n        store_history = True\n        silent = False\n    176         except:\n    177             status = u'error'\n    178             # FIXME: this code right now isn't being used yet by default,\n    179             # because the run_cell() call above directly fires off exception\n\n...........................................................................\n/Users/AnthonyAbercrombie/anaconda/lib/python3.5/site-packages/IPython/core/interactiveshell.py in run_cell(self=<ipykernel.zmqshell.ZMQInteractiveShell object>, raw_cell='# Gridsearched Multinomial Naive Bayes\\nmnb_d2v =..._test, d2v_platform.y_test, model=mnb_d2v, kf=kf)', store_history=True, silent=False, shell_futures=True)\n   2897                 self.displayhook.exec_result = result\n   2898 \n   2899                 # Execute the user code\n   2900                 interactivity = \"none\" if silent else self.ast_node_interactivity\n   2901                 self.run_ast_nodes(code_ast.body, cell_name,\n-> 2902                    interactivity=interactivity, compiler=compiler, result=result)\n        interactivity = 'last_expr'\n        compiler = <IPython.core.compilerop.CachingCompiler object>\n   2903 \n   2904                 # Reset this so later displayed values do not modify the\n   2905                 # ExecutionResult\n   2906                 self.displayhook.exec_result = None\n\n...........................................................................\n/Users/AnthonyAbercrombie/anaconda/lib/python3.5/site-packages/IPython/core/interactiveshell.py in run_ast_nodes(self=<ipykernel.zmqshell.ZMQInteractiveShell object>, nodelist=[<_ast.Assign object>, <_ast.Assign object>], cell_name='<ipython-input-179-5b023423b9a4>', interactivity='none', compiler=<IPython.core.compilerop.CachingCompiler object>, result=<IPython.core.interactiveshell.ExecutionResult object>)\n   3001 \n   3002         try:\n   3003             for i, node in enumerate(to_run_exec):\n   3004                 mod = ast.Module([node])\n   3005                 code = compiler(mod, cell_name, \"exec\")\n-> 3006                 if self.run_code(code, result):\n        self.run_code = <bound method InteractiveShell.run_code of <ipykernel.zmqshell.ZMQInteractiveShell object>>\n        code = <code object <module> at 0x184b80930, file \"<ipython-input-179-5b023423b9a4>\", line 2>\n        result = <IPython.core.interactiveshell.ExecutionResult object>\n   3007                     return True\n   3008 \n   3009             for i, node in enumerate(to_run_interactive):\n   3010                 mod = ast.Interactive([node])\n\n...........................................................................\n/Users/AnthonyAbercrombie/anaconda/lib/python3.5/site-packages/IPython/core/interactiveshell.py in run_code(self=<ipykernel.zmqshell.ZMQInteractiveShell object>, code_obj=<code object <module> at 0x184b80930, file \"<ipython-input-179-5b023423b9a4>\", line 2>, result=<IPython.core.interactiveshell.ExecutionResult object>)\n   3061         outflag = 1  # happens in more places, so it's easier as default\n   3062         try:\n   3063             try:\n   3064                 self.hooks.pre_run_code_hook()\n   3065                 #rprint('Running code', repr(code_obj)) # dbg\n-> 3066                 exec(code_obj, self.user_global_ns, self.user_ns)\n        code_obj = <code object <module> at 0x184b80930, file \"<ipython-input-179-5b023423b9a4>\", line 2>\n        self.user_global_ns = {'ALLOW_THREADS': 1, 'AdaBoostClassifier': <class 'sklearn.ensemble.weight_boosting.AdaBoostClassifier'>, 'AdaBoostRegressor': <class 'sklearn.ensemble.weight_boosting.AdaBoostRegressor'>, 'Annotation': <class 'matplotlib.text.Annotation'>, 'Arrow': <class 'matplotlib.patches.Arrow'>, 'Artist': <class 'matplotlib.artist.Artist'>, 'AutoLocator': <class 'matplotlib.ticker.AutoLocator'>, 'Axes': <class 'matplotlib.axes._axes.Axes'>, 'BUFSIZE': 8192, 'Button': <class 'matplotlib.widgets.Button'>, ...}\n        self.user_ns = {'ALLOW_THREADS': 1, 'AdaBoostClassifier': <class 'sklearn.ensemble.weight_boosting.AdaBoostClassifier'>, 'AdaBoostRegressor': <class 'sklearn.ensemble.weight_boosting.AdaBoostRegressor'>, 'Annotation': <class 'matplotlib.text.Annotation'>, 'Arrow': <class 'matplotlib.patches.Arrow'>, 'Artist': <class 'matplotlib.artist.Artist'>, 'AutoLocator': <class 'matplotlib.ticker.AutoLocator'>, 'Axes': <class 'matplotlib.axes._axes.Axes'>, 'BUFSIZE': 8192, 'Button': <class 'matplotlib.widgets.Button'>, ...}\n   3067             finally:\n   3068                 # Reset our crash handler in place\n   3069                 sys.excepthook = old_excepthook\n   3070         except SystemExit as e:\n\n...........................................................................\n/Users/AnthonyAbercrombie/gU/DSCI6004-student/final_project/<ipython-input-179-5b023423b9a4> in <module>()\n      1 \n----> 2 \n      3 \n      4 \n      5 # Gridsearched Multinomial Naive Bayes\n      6 mnb_d2v = d2v_platform.MNB_Gridsearch()\n      7 eval_d2v_dict = kfold_evaluation(d2v_platform.x_test, d2v_platform.y_test, model=mnb_d2v, kf=kf)\n      8 \n      9 \n     10 \n\n...........................................................................\n/Users/AnthonyAbercrombie/gU/DSCI6004-student/final_project/model.py in MNB_Gridsearch(self=<model.Classify_Thread object>)\n    141                                      mnb_grid,\n    142                                      n_jobs=-1,\n    143                                      verbose=True,\n    144                                      scoring='f1_macro')\n    145         \n--> 146         mnb_gridsearch.fit(self.x_train, self.y_train)\n        mnb_gridsearch.fit = <bound method GridSearchCV.fit of GridSearchCV(c...t=True, scoring='f1_macro',\n       verbose=True)>\n        self.x_train = array([[-0.1486951 , -0.01766709, -0.06383126, ....       -0.0024603 ,  0.04538249]], dtype=float32)\n        self.y_train = array([2, 4, 3, ..., 5, 5, 0])\n    147         return mnb_gridsearch.best_estimator_\n    148    \n    149     def RandomForest(self):\n    150         rf = RandomForestClassifier()\n\n...........................................................................\n/Users/AnthonyAbercrombie/anaconda/lib/python3.5/site-packages/sklearn/grid_search.py in fit(self=GridSearchCV(cv=None, error_score='raise',\n     ...it=True, scoring='f1_macro',\n       verbose=True), X=array([[-0.1486951 , -0.01766709, -0.06383126, ....       -0.0024603 ,  0.04538249]], dtype=float32), y=array([2, 4, 3, ..., 5, 5, 0]))\n    808         y : array-like, shape = [n_samples] or [n_samples, n_output], optional\n    809             Target relative to X for classification or regression;\n    810             None for unsupervised learning.\n    811 \n    812         \"\"\"\n--> 813         return self._fit(X, y, ParameterGrid(self.param_grid))\n        self._fit = <bound method BaseSearchCV._fit of GridSearchCV(...t=True, scoring='f1_macro',\n       verbose=True)>\n        X = array([[-0.1486951 , -0.01766709, -0.06383126, ....       -0.0024603 ,  0.04538249]], dtype=float32)\n        y = array([2, 4, 3, ..., 5, 5, 0])\n        self.param_grid = {'alpha': [0.1, 0.5, 1.0, 2.0], 'fit_prior': [True, False]}\n    814 \n    815 \n    816 class RandomizedSearchCV(BaseSearchCV):\n    817     \"\"\"Randomized search on hyper parameters.\n\n...........................................................................\n/Users/AnthonyAbercrombie/anaconda/lib/python3.5/site-packages/sklearn/grid_search.py in _fit(self=GridSearchCV(cv=None, error_score='raise',\n     ...it=True, scoring='f1_macro',\n       verbose=True), X=array([[-0.1486951 , -0.01766709, -0.06383126, ....       -0.0024603 ,  0.04538249]], dtype=float32), y=array([2, 4, 3, ..., 5, 5, 0]), parameter_iterable=<sklearn.grid_search.ParameterGrid object>)\n    556         )(\n    557             delayed(_fit_and_score)(clone(base_estimator), X, y, self.scorer_,\n    558                                     train, test, self.verbose, parameters,\n    559                                     self.fit_params, return_parameters=True,\n    560                                     error_score=self.error_score)\n--> 561                 for parameters in parameter_iterable\n        parameters = undefined\n        parameter_iterable = <sklearn.grid_search.ParameterGrid object>\n    562                 for train, test in cv)\n    563 \n    564         # Out is a list of triplet: score, estimator, n_test_samples\n    565         n_fits = len(out)\n\n...........................................................................\n/Users/AnthonyAbercrombie/anaconda/lib/python3.5/site-packages/sklearn/externals/joblib/parallel.py in __call__(self=Parallel(n_jobs=-1), iterable=<generator object BaseSearchCV._fit.<locals>.<genexpr>>)\n    763             if pre_dispatch == \"all\" or n_jobs == 1:\n    764                 # The iterable was consumed all at once by the above for loop.\n    765                 # No need to wait for async callbacks to trigger to\n    766                 # consumption.\n    767                 self._iterating = False\n--> 768             self.retrieve()\n        self.retrieve = <bound method Parallel.retrieve of Parallel(n_jobs=-1)>\n    769             # Make sure that we get a last message telling us we are done\n    770             elapsed_time = time.time() - self._start_time\n    771             self._print('Done %3i out of %3i | elapsed: %s finished',\n    772                         (len(self._output), len(self._output),\n\n---------------------------------------------------------------------------\nSub-process traceback:\n---------------------------------------------------------------------------\nValueError                                         Thu Dec 15 06:58:16 2016\nPID: 23820      Python 3.5.1: /Users/AnthonyAbercrombie/anaconda/bin/python\n...........................................................................\n/Users/AnthonyAbercrombie/anaconda/lib/python3.5/site-packages/sklearn/externals/joblib/parallel.py in __call__(self=<sklearn.externals.joblib.parallel.BatchedCalls object>)\n    126     def __init__(self, iterator_slice):\n    127         self.items = list(iterator_slice)\n    128         self._size = len(self.items)\n    129 \n    130     def __call__(self):\n--> 131         return [func(*args, **kwargs) for func, args, kwargs in self.items]\n        self.items = [(<function _fit_and_score>, (MultinomialNB(alpha=0.1, class_prior=None, fit_prior=True), memmap([[-0.1486951 , -0.01766709, -0.06383126, ...       -0.0024603 ,  0.04538249]], dtype=float32), array([2, 4, 3, ..., 5, 5, 0]), make_scorer(f1_score, average=macro, pos_label=None), array([1385, 1392, 1396, ..., 4497, 4498, 4499]), array([   0,    1,    2, ..., 1662, 1672, 1676]), True, {'alpha': 0.1, 'fit_prior': True}, {}), {'error_score': 'raise', 'return_parameters': True})]\n    132 \n    133     def __len__(self):\n    134         return self._size\n    135 \n\n...........................................................................\n/Users/AnthonyAbercrombie/anaconda/lib/python3.5/site-packages/sklearn/externals/joblib/parallel.py in <listcomp>(.0=<list_iterator object>)\n    126     def __init__(self, iterator_slice):\n    127         self.items = list(iterator_slice)\n    128         self._size = len(self.items)\n    129 \n    130     def __call__(self):\n--> 131         return [func(*args, **kwargs) for func, args, kwargs in self.items]\n        func = <function _fit_and_score>\n        args = (MultinomialNB(alpha=0.1, class_prior=None, fit_prior=True), memmap([[-0.1486951 , -0.01766709, -0.06383126, ...       -0.0024603 ,  0.04538249]], dtype=float32), array([2, 4, 3, ..., 5, 5, 0]), make_scorer(f1_score, average=macro, pos_label=None), array([1385, 1392, 1396, ..., 4497, 4498, 4499]), array([   0,    1,    2, ..., 1662, 1672, 1676]), True, {'alpha': 0.1, 'fit_prior': True}, {})\n        kwargs = {'error_score': 'raise', 'return_parameters': True}\n    132 \n    133     def __len__(self):\n    134         return self._size\n    135 \n\n...........................................................................\n/Users/AnthonyAbercrombie/anaconda/lib/python3.5/site-packages/sklearn/cross_validation.py in _fit_and_score(estimator=MultinomialNB(alpha=0.1, class_prior=None, fit_prior=True), X=memmap([[-0.1486951 , -0.01766709, -0.06383126, ...       -0.0024603 ,  0.04538249]], dtype=float32), y=array([2, 4, 3, ..., 5, 5, 0]), scorer=make_scorer(f1_score, average=macro, pos_label=None), train=array([1385, 1392, 1396, ..., 4497, 4498, 4499]), test=array([   0,    1,    2, ..., 1662, 1672, 1676]), verbose=True, parameters={'alpha': 0.1, 'fit_prior': True}, fit_params={}, return_train_score=False, return_parameters=True, error_score='raise')\n   1608 \n   1609     try:\n   1610         if y_train is None:\n   1611             estimator.fit(X_train, **fit_params)\n   1612         else:\n-> 1613             estimator.fit(X_train, y_train, **fit_params)\n        estimator.fit = <bound method BaseDiscreteNB.fit of MultinomialNB(alpha=0.1, class_prior=None, fit_prior=True)>\n        X_train = memmap([[-0.08841698, -0.01179719, -0.03438913, ...       -0.0024603 ,  0.04538249]], dtype=float32)\n        y_train = array([4, 4, 4, ..., 5, 5, 0])\n        fit_params = {}\n   1614 \n   1615     except Exception as e:\n   1616         if error_score == 'raise':\n   1617             raise\n\n...........................................................................\n/Users/AnthonyAbercrombie/anaconda/lib/python3.5/site-packages/sklearn/naive_bayes.py in fit(self=MultinomialNB(alpha=0.1, class_prior=None, fit_prior=True), X=array([[-0.08841698, -0.01179719, -0.03438913, ....       -0.0024603 ,  0.04538249]], dtype=float32), y=array([4, 4, 4, ..., 5, 5, 0]), sample_weight=None)\n    582         # and feature log probas\n    583         n_effective_classes = Y.shape[1]\n    584         self.class_count_ = np.zeros(n_effective_classes, dtype=np.float64)\n    585         self.feature_count_ = np.zeros((n_effective_classes, n_features),\n    586                                        dtype=np.float64)\n--> 587         self._count(X, Y)\n        self._count = <bound method MultinomialNB._count of MultinomialNB(alpha=0.1, class_prior=None, fit_prior=True)>\n        X = array([[-0.08841698, -0.01179719, -0.03438913, ....       -0.0024603 ,  0.04538249]], dtype=float32)\n        Y = array([[ 0.,  0.,  0.,  0.,  1.,  0.],\n       [ ...0.,  1.],\n       [ 1.,  0.,  0.,  0.,  0.,  0.]])\n    588         self._update_feature_log_prob()\n    589         self._update_class_log_prior(class_prior=class_prior)\n    590         return self\n    591 \n\n...........................................................................\n/Users/AnthonyAbercrombie/anaconda/lib/python3.5/site-packages/sklearn/naive_bayes.py in _count(self=MultinomialNB(alpha=0.1, class_prior=None, fit_prior=True), X=array([[-0.08841698, -0.01179719, -0.03438913, ....       -0.0024603 ,  0.04538249]], dtype=float32), Y=array([[ 0.,  0.,  0.,  0.,  1.,  0.],\n       [ ...0.,  1.],\n       [ 1.,  0.,  0.,  0.,  0.,  0.]]))\n    685         self.class_prior = class_prior\n    686 \n    687     def _count(self, X, Y):\n    688         \"\"\"Count and smooth feature occurrences.\"\"\"\n    689         if np.any((X.data if issparse(X) else X) < 0):\n--> 690             raise ValueError(\"Input X must be non-negative\")\n    691         self.feature_count_ += safe_sparse_dot(Y.T, X)\n    692         self.class_count_ += Y.sum(axis=0)\n    693 \n    694     def _update_feature_log_prob(self):\n\nValueError: Input X must be non-negative\n___________________________________________________________________________",
     "output_type": "error",
     "traceback": [
      "\u001b[0;31m---------------------------------------------------------------------------\u001b[0m",
      "\u001b[0;31mRemoteTraceback\u001b[0m                           Traceback (most recent call last)",
      "\u001b[0;31mRemoteTraceback\u001b[0m: \n\"\"\"\nTraceback (most recent call last):\n  File \"/Users/AnthonyAbercrombie/anaconda/lib/python3.5/site-packages/sklearn/externals/joblib/_parallel_backends.py\", line 340, in __call__\n    return self.func(*args, **kwargs)\n  File \"/Users/AnthonyAbercrombie/anaconda/lib/python3.5/site-packages/sklearn/externals/joblib/parallel.py\", line 131, in __call__\n    return [func(*args, **kwargs) for func, args, kwargs in self.items]\n  File \"/Users/AnthonyAbercrombie/anaconda/lib/python3.5/site-packages/sklearn/externals/joblib/parallel.py\", line 131, in <listcomp>\n    return [func(*args, **kwargs) for func, args, kwargs in self.items]\n  File \"/Users/AnthonyAbercrombie/anaconda/lib/python3.5/site-packages/sklearn/cross_validation.py\", line 1613, in _fit_and_score\n    estimator.fit(X_train, y_train, **fit_params)\n  File \"/Users/AnthonyAbercrombie/anaconda/lib/python3.5/site-packages/sklearn/naive_bayes.py\", line 587, in fit\n    self._count(X, Y)\n  File \"/Users/AnthonyAbercrombie/anaconda/lib/python3.5/site-packages/sklearn/naive_bayes.py\", line 690, in _count\n    raise ValueError(\"Input X must be non-negative\")\nValueError: Input X must be non-negative\n\nDuring handling of the above exception, another exception occurred:\n\nTraceback (most recent call last):\n  File \"/Users/AnthonyAbercrombie/anaconda/lib/python3.5/multiprocessing/pool.py\", line 119, in worker\n    result = (True, func(*args, **kwds))\n  File \"/Users/AnthonyAbercrombie/anaconda/lib/python3.5/site-packages/sklearn/externals/joblib/_parallel_backends.py\", line 349, in __call__\n    raise TransportableException(text, e_type)\nsklearn.externals.joblib.my_exceptions.TransportableException: TransportableException\n___________________________________________________________________________\nValueError                                         Thu Dec 15 06:58:16 2016\nPID: 23820      Python 3.5.1: /Users/AnthonyAbercrombie/anaconda/bin/python\n...........................................................................\n/Users/AnthonyAbercrombie/anaconda/lib/python3.5/site-packages/sklearn/externals/joblib/parallel.py in __call__(self=<sklearn.externals.joblib.parallel.BatchedCalls object>)\n    126     def __init__(self, iterator_slice):\n    127         self.items = list(iterator_slice)\n    128         self._size = len(self.items)\n    129 \n    130     def __call__(self):\n--> 131         return [func(*args, **kwargs) for func, args, kwargs in self.items]\n        self.items = [(<function _fit_and_score>, (MultinomialNB(alpha=0.1, class_prior=None, fit_prior=True), memmap([[-0.1486951 , -0.01766709, -0.06383126, ...       -0.0024603 ,  0.04538249]], dtype=float32), array([2, 4, 3, ..., 5, 5, 0]), make_scorer(f1_score, average=macro, pos_label=None), array([1385, 1392, 1396, ..., 4497, 4498, 4499]), array([   0,    1,    2, ..., 1662, 1672, 1676]), True, {'alpha': 0.1, 'fit_prior': True}, {}), {'error_score': 'raise', 'return_parameters': True})]\n    132 \n    133     def __len__(self):\n    134         return self._size\n    135 \n\n...........................................................................\n/Users/AnthonyAbercrombie/anaconda/lib/python3.5/site-packages/sklearn/externals/joblib/parallel.py in <listcomp>(.0=<list_iterator object>)\n    126     def __init__(self, iterator_slice):\n    127         self.items = list(iterator_slice)\n    128         self._size = len(self.items)\n    129 \n    130     def __call__(self):\n--> 131         return [func(*args, **kwargs) for func, args, kwargs in self.items]\n        func = <function _fit_and_score>\n        args = (MultinomialNB(alpha=0.1, class_prior=None, fit_prior=True), memmap([[-0.1486951 , -0.01766709, -0.06383126, ...       -0.0024603 ,  0.04538249]], dtype=float32), array([2, 4, 3, ..., 5, 5, 0]), make_scorer(f1_score, average=macro, pos_label=None), array([1385, 1392, 1396, ..., 4497, 4498, 4499]), array([   0,    1,    2, ..., 1662, 1672, 1676]), True, {'alpha': 0.1, 'fit_prior': True}, {})\n        kwargs = {'error_score': 'raise', 'return_parameters': True}\n    132 \n    133     def __len__(self):\n    134         return self._size\n    135 \n\n...........................................................................\n/Users/AnthonyAbercrombie/anaconda/lib/python3.5/site-packages/sklearn/cross_validation.py in _fit_and_score(estimator=MultinomialNB(alpha=0.1, class_prior=None, fit_prior=True), X=memmap([[-0.1486951 , -0.01766709, -0.06383126, ...       -0.0024603 ,  0.04538249]], dtype=float32), y=array([2, 4, 3, ..., 5, 5, 0]), scorer=make_scorer(f1_score, average=macro, pos_label=None), train=array([1385, 1392, 1396, ..., 4497, 4498, 4499]), test=array([   0,    1,    2, ..., 1662, 1672, 1676]), verbose=True, parameters={'alpha': 0.1, 'fit_prior': True}, fit_params={}, return_train_score=False, return_parameters=True, error_score='raise')\n   1608 \n   1609     try:\n   1610         if y_train is None:\n   1611             estimator.fit(X_train, **fit_params)\n   1612         else:\n-> 1613             estimator.fit(X_train, y_train, **fit_params)\n        estimator.fit = <bound method BaseDiscreteNB.fit of MultinomialNB(alpha=0.1, class_prior=None, fit_prior=True)>\n        X_train = memmap([[-0.08841698, -0.01179719, -0.03438913, ...       -0.0024603 ,  0.04538249]], dtype=float32)\n        y_train = array([4, 4, 4, ..., 5, 5, 0])\n        fit_params = {}\n   1614 \n   1615     except Exception as e:\n   1616         if error_score == 'raise':\n   1617             raise\n\n...........................................................................\n/Users/AnthonyAbercrombie/anaconda/lib/python3.5/site-packages/sklearn/naive_bayes.py in fit(self=MultinomialNB(alpha=0.1, class_prior=None, fit_prior=True), X=array([[-0.08841698, -0.01179719, -0.03438913, ....       -0.0024603 ,  0.04538249]], dtype=float32), y=array([4, 4, 4, ..., 5, 5, 0]), sample_weight=None)\n    582         # and feature log probas\n    583         n_effective_classes = Y.shape[1]\n    584         self.class_count_ = np.zeros(n_effective_classes, dtype=np.float64)\n    585         self.feature_count_ = np.zeros((n_effective_classes, n_features),\n    586                                        dtype=np.float64)\n--> 587         self._count(X, Y)\n        self._count = <bound method MultinomialNB._count of MultinomialNB(alpha=0.1, class_prior=None, fit_prior=True)>\n        X = array([[-0.08841698, -0.01179719, -0.03438913, ....       -0.0024603 ,  0.04538249]], dtype=float32)\n        Y = array([[ 0.,  0.,  0.,  0.,  1.,  0.],\n       [ ...0.,  1.],\n       [ 1.,  0.,  0.,  0.,  0.,  0.]])\n    588         self._update_feature_log_prob()\n    589         self._update_class_log_prior(class_prior=class_prior)\n    590         return self\n    591 \n\n...........................................................................\n/Users/AnthonyAbercrombie/anaconda/lib/python3.5/site-packages/sklearn/naive_bayes.py in _count(self=MultinomialNB(alpha=0.1, class_prior=None, fit_prior=True), X=array([[-0.08841698, -0.01179719, -0.03438913, ....       -0.0024603 ,  0.04538249]], dtype=float32), Y=array([[ 0.,  0.,  0.,  0.,  1.,  0.],\n       [ ...0.,  1.],\n       [ 1.,  0.,  0.,  0.,  0.,  0.]]))\n    685         self.class_prior = class_prior\n    686 \n    687     def _count(self, X, Y):\n    688         \"\"\"Count and smooth feature occurrences.\"\"\"\n    689         if np.any((X.data if issparse(X) else X) < 0):\n--> 690             raise ValueError(\"Input X must be non-negative\")\n    691         self.feature_count_ += safe_sparse_dot(Y.T, X)\n    692         self.class_count_ += Y.sum(axis=0)\n    693 \n    694     def _update_feature_log_prob(self):\n\nValueError: Input X must be non-negative\n___________________________________________________________________________\n\"\"\"",
      "\nThe above exception was the direct cause of the following exception:\n",
      "\u001b[0;31mTransportableException\u001b[0m                    Traceback (most recent call last)",
      "\u001b[0;32m/Users/AnthonyAbercrombie/anaconda/lib/python3.5/site-packages/sklearn/externals/joblib/parallel.py\u001b[0m in \u001b[0;36mretrieve\u001b[0;34m(self)\u001b[0m\n\u001b[1;32m    681\u001b[0m                 \u001b[0;32mif\u001b[0m \u001b[0;34m'timeout'\u001b[0m \u001b[0;32min\u001b[0m \u001b[0mgetfullargspec\u001b[0m\u001b[0;34m(\u001b[0m\u001b[0mjob\u001b[0m\u001b[0;34m.\u001b[0m\u001b[0mget\u001b[0m\u001b[0;34m)\u001b[0m\u001b[0;34m.\u001b[0m\u001b[0margs\u001b[0m\u001b[0;34m:\u001b[0m\u001b[0;34m\u001b[0m\u001b[0m\n\u001b[0;32m--> 682\u001b[0;31m                     \u001b[0mself\u001b[0m\u001b[0;34m.\u001b[0m\u001b[0m_output\u001b[0m\u001b[0;34m.\u001b[0m\u001b[0mextend\u001b[0m\u001b[0;34m(\u001b[0m\u001b[0mjob\u001b[0m\u001b[0;34m.\u001b[0m\u001b[0mget\u001b[0m\u001b[0;34m(\u001b[0m\u001b[0mtimeout\u001b[0m\u001b[0;34m=\u001b[0m\u001b[0mself\u001b[0m\u001b[0;34m.\u001b[0m\u001b[0mtimeout\u001b[0m\u001b[0;34m)\u001b[0m\u001b[0;34m)\u001b[0m\u001b[0;34m\u001b[0m\u001b[0m\n\u001b[0m\u001b[1;32m    683\u001b[0m                 \u001b[0;32melse\u001b[0m\u001b[0;34m:\u001b[0m\u001b[0;34m\u001b[0m\u001b[0m\n",
      "\u001b[0;32m/Users/AnthonyAbercrombie/anaconda/lib/python3.5/multiprocessing/pool.py\u001b[0m in \u001b[0;36mget\u001b[0;34m(self, timeout)\u001b[0m\n\u001b[1;32m    607\u001b[0m         \u001b[0;32melse\u001b[0m\u001b[0;34m:\u001b[0m\u001b[0;34m\u001b[0m\u001b[0m\n\u001b[0;32m--> 608\u001b[0;31m             \u001b[0;32mraise\u001b[0m \u001b[0mself\u001b[0m\u001b[0;34m.\u001b[0m\u001b[0m_value\u001b[0m\u001b[0;34m\u001b[0m\u001b[0m\n\u001b[0m\u001b[1;32m    609\u001b[0m \u001b[0;34m\u001b[0m\u001b[0m\n",
      "\u001b[0;31mTransportableException\u001b[0m: TransportableException\n___________________________________________________________________________\nValueError                                         Thu Dec 15 06:58:16 2016\nPID: 23820      Python 3.5.1: /Users/AnthonyAbercrombie/anaconda/bin/python\n...........................................................................\n/Users/AnthonyAbercrombie/anaconda/lib/python3.5/site-packages/sklearn/externals/joblib/parallel.py in __call__(self=<sklearn.externals.joblib.parallel.BatchedCalls object>)\n    126     def __init__(self, iterator_slice):\n    127         self.items = list(iterator_slice)\n    128         self._size = len(self.items)\n    129 \n    130     def __call__(self):\n--> 131         return [func(*args, **kwargs) for func, args, kwargs in self.items]\n        self.items = [(<function _fit_and_score>, (MultinomialNB(alpha=0.1, class_prior=None, fit_prior=True), memmap([[-0.1486951 , -0.01766709, -0.06383126, ...       -0.0024603 ,  0.04538249]], dtype=float32), array([2, 4, 3, ..., 5, 5, 0]), make_scorer(f1_score, average=macro, pos_label=None), array([1385, 1392, 1396, ..., 4497, 4498, 4499]), array([   0,    1,    2, ..., 1662, 1672, 1676]), True, {'alpha': 0.1, 'fit_prior': True}, {}), {'error_score': 'raise', 'return_parameters': True})]\n    132 \n    133     def __len__(self):\n    134         return self._size\n    135 \n\n...........................................................................\n/Users/AnthonyAbercrombie/anaconda/lib/python3.5/site-packages/sklearn/externals/joblib/parallel.py in <listcomp>(.0=<list_iterator object>)\n    126     def __init__(self, iterator_slice):\n    127         self.items = list(iterator_slice)\n    128         self._size = len(self.items)\n    129 \n    130     def __call__(self):\n--> 131         return [func(*args, **kwargs) for func, args, kwargs in self.items]\n        func = <function _fit_and_score>\n        args = (MultinomialNB(alpha=0.1, class_prior=None, fit_prior=True), memmap([[-0.1486951 , -0.01766709, -0.06383126, ...       -0.0024603 ,  0.04538249]], dtype=float32), array([2, 4, 3, ..., 5, 5, 0]), make_scorer(f1_score, average=macro, pos_label=None), array([1385, 1392, 1396, ..., 4497, 4498, 4499]), array([   0,    1,    2, ..., 1662, 1672, 1676]), True, {'alpha': 0.1, 'fit_prior': True}, {})\n        kwargs = {'error_score': 'raise', 'return_parameters': True}\n    132 \n    133     def __len__(self):\n    134         return self._size\n    135 \n\n...........................................................................\n/Users/AnthonyAbercrombie/anaconda/lib/python3.5/site-packages/sklearn/cross_validation.py in _fit_and_score(estimator=MultinomialNB(alpha=0.1, class_prior=None, fit_prior=True), X=memmap([[-0.1486951 , -0.01766709, -0.06383126, ...       -0.0024603 ,  0.04538249]], dtype=float32), y=array([2, 4, 3, ..., 5, 5, 0]), scorer=make_scorer(f1_score, average=macro, pos_label=None), train=array([1385, 1392, 1396, ..., 4497, 4498, 4499]), test=array([   0,    1,    2, ..., 1662, 1672, 1676]), verbose=True, parameters={'alpha': 0.1, 'fit_prior': True}, fit_params={}, return_train_score=False, return_parameters=True, error_score='raise')\n   1608 \n   1609     try:\n   1610         if y_train is None:\n   1611             estimator.fit(X_train, **fit_params)\n   1612         else:\n-> 1613             estimator.fit(X_train, y_train, **fit_params)\n        estimator.fit = <bound method BaseDiscreteNB.fit of MultinomialNB(alpha=0.1, class_prior=None, fit_prior=True)>\n        X_train = memmap([[-0.08841698, -0.01179719, -0.03438913, ...       -0.0024603 ,  0.04538249]], dtype=float32)\n        y_train = array([4, 4, 4, ..., 5, 5, 0])\n        fit_params = {}\n   1614 \n   1615     except Exception as e:\n   1616         if error_score == 'raise':\n   1617             raise\n\n...........................................................................\n/Users/AnthonyAbercrombie/anaconda/lib/python3.5/site-packages/sklearn/naive_bayes.py in fit(self=MultinomialNB(alpha=0.1, class_prior=None, fit_prior=True), X=array([[-0.08841698, -0.01179719, -0.03438913, ....       -0.0024603 ,  0.04538249]], dtype=float32), y=array([4, 4, 4, ..., 5, 5, 0]), sample_weight=None)\n    582         # and feature log probas\n    583         n_effective_classes = Y.shape[1]\n    584         self.class_count_ = np.zeros(n_effective_classes, dtype=np.float64)\n    585         self.feature_count_ = np.zeros((n_effective_classes, n_features),\n    586                                        dtype=np.float64)\n--> 587         self._count(X, Y)\n        self._count = <bound method MultinomialNB._count of MultinomialNB(alpha=0.1, class_prior=None, fit_prior=True)>\n        X = array([[-0.08841698, -0.01179719, -0.03438913, ....       -0.0024603 ,  0.04538249]], dtype=float32)\n        Y = array([[ 0.,  0.,  0.,  0.,  1.,  0.],\n       [ ...0.,  1.],\n       [ 1.,  0.,  0.,  0.,  0.,  0.]])\n    588         self._update_feature_log_prob()\n    589         self._update_class_log_prior(class_prior=class_prior)\n    590         return self\n    591 \n\n...........................................................................\n/Users/AnthonyAbercrombie/anaconda/lib/python3.5/site-packages/sklearn/naive_bayes.py in _count(self=MultinomialNB(alpha=0.1, class_prior=None, fit_prior=True), X=array([[-0.08841698, -0.01179719, -0.03438913, ....       -0.0024603 ,  0.04538249]], dtype=float32), Y=array([[ 0.,  0.,  0.,  0.,  1.,  0.],\n       [ ...0.,  1.],\n       [ 1.,  0.,  0.,  0.,  0.,  0.]]))\n    685         self.class_prior = class_prior\n    686 \n    687     def _count(self, X, Y):\n    688         \"\"\"Count and smooth feature occurrences.\"\"\"\n    689         if np.any((X.data if issparse(X) else X) < 0):\n--> 690             raise ValueError(\"Input X must be non-negative\")\n    691         self.feature_count_ += safe_sparse_dot(Y.T, X)\n    692         self.class_count_ += Y.sum(axis=0)\n    693 \n    694     def _update_feature_log_prob(self):\n\nValueError: Input X must be non-negative\n___________________________________________________________________________",
      "\nDuring handling of the above exception, another exception occurred:\n",
      "\u001b[0;31mJoblibValueError\u001b[0m                          Traceback (most recent call last)",
      "\u001b[0;32m<ipython-input-179-5b023423b9a4>\u001b[0m in \u001b[0;36m<module>\u001b[0;34m()\u001b[0m\n\u001b[1;32m      1\u001b[0m \u001b[0;31m# Gridsearched Multinomial Naive Bayes\u001b[0m\u001b[0;34m\u001b[0m\u001b[0;34m\u001b[0m\u001b[0m\n\u001b[0;32m----> 2\u001b[0;31m \u001b[0mmnb_d2v\u001b[0m \u001b[0;34m=\u001b[0m \u001b[0md2v_platform\u001b[0m\u001b[0;34m.\u001b[0m\u001b[0mMNB_Gridsearch\u001b[0m\u001b[0;34m(\u001b[0m\u001b[0;34m)\u001b[0m\u001b[0;34m\u001b[0m\u001b[0m\n\u001b[0m\u001b[1;32m      3\u001b[0m \u001b[0meval_d2v_dict\u001b[0m \u001b[0;34m=\u001b[0m \u001b[0mkfold_evaluation\u001b[0m\u001b[0;34m(\u001b[0m\u001b[0md2v_platform\u001b[0m\u001b[0;34m.\u001b[0m\u001b[0mx_test\u001b[0m\u001b[0;34m,\u001b[0m \u001b[0md2v_platform\u001b[0m\u001b[0;34m.\u001b[0m\u001b[0my_test\u001b[0m\u001b[0;34m,\u001b[0m \u001b[0mmodel\u001b[0m\u001b[0;34m=\u001b[0m\u001b[0mmnb_d2v\u001b[0m\u001b[0;34m,\u001b[0m \u001b[0mkf\u001b[0m\u001b[0;34m=\u001b[0m\u001b[0mkf\u001b[0m\u001b[0;34m)\u001b[0m\u001b[0;34m\u001b[0m\u001b[0m\n",
      "\u001b[0;32m/Users/AnthonyAbercrombie/gU/DSCI6004-student/final_project/model.py\u001b[0m in \u001b[0;36mMNB_Gridsearch\u001b[0;34m(self)\u001b[0m\n\u001b[1;32m    144\u001b[0m                                      scoring='f1_macro')\n\u001b[1;32m    145\u001b[0m \u001b[0;34m\u001b[0m\u001b[0m\n\u001b[0;32m--> 146\u001b[0;31m         \u001b[0mmnb_gridsearch\u001b[0m\u001b[0;34m.\u001b[0m\u001b[0mfit\u001b[0m\u001b[0;34m(\u001b[0m\u001b[0mself\u001b[0m\u001b[0;34m.\u001b[0m\u001b[0mx_train\u001b[0m\u001b[0;34m,\u001b[0m \u001b[0mself\u001b[0m\u001b[0;34m.\u001b[0m\u001b[0my_train\u001b[0m\u001b[0;34m)\u001b[0m\u001b[0;34m\u001b[0m\u001b[0m\n\u001b[0m\u001b[1;32m    147\u001b[0m         \u001b[0;32mreturn\u001b[0m \u001b[0mmnb_gridsearch\u001b[0m\u001b[0;34m.\u001b[0m\u001b[0mbest_estimator_\u001b[0m\u001b[0;34m\u001b[0m\u001b[0m\n\u001b[1;32m    148\u001b[0m \u001b[0;34m\u001b[0m\u001b[0m\n",
      "\u001b[0;32m/Users/AnthonyAbercrombie/anaconda/lib/python3.5/site-packages/sklearn/grid_search.py\u001b[0m in \u001b[0;36mfit\u001b[0;34m(self, X, y)\u001b[0m\n\u001b[1;32m    811\u001b[0m \u001b[0;34m\u001b[0m\u001b[0m\n\u001b[1;32m    812\u001b[0m         \"\"\"\n\u001b[0;32m--> 813\u001b[0;31m         \u001b[0;32mreturn\u001b[0m \u001b[0mself\u001b[0m\u001b[0;34m.\u001b[0m\u001b[0m_fit\u001b[0m\u001b[0;34m(\u001b[0m\u001b[0mX\u001b[0m\u001b[0;34m,\u001b[0m \u001b[0my\u001b[0m\u001b[0;34m,\u001b[0m \u001b[0mParameterGrid\u001b[0m\u001b[0;34m(\u001b[0m\u001b[0mself\u001b[0m\u001b[0;34m.\u001b[0m\u001b[0mparam_grid\u001b[0m\u001b[0;34m)\u001b[0m\u001b[0;34m)\u001b[0m\u001b[0;34m\u001b[0m\u001b[0m\n\u001b[0m\u001b[1;32m    814\u001b[0m \u001b[0;34m\u001b[0m\u001b[0m\n\u001b[1;32m    815\u001b[0m \u001b[0;34m\u001b[0m\u001b[0m\n",
      "\u001b[0;32m/Users/AnthonyAbercrombie/anaconda/lib/python3.5/site-packages/sklearn/grid_search.py\u001b[0m in \u001b[0;36m_fit\u001b[0;34m(self, X, y, parameter_iterable)\u001b[0m\n\u001b[1;32m    559\u001b[0m                                     \u001b[0mself\u001b[0m\u001b[0;34m.\u001b[0m\u001b[0mfit_params\u001b[0m\u001b[0;34m,\u001b[0m \u001b[0mreturn_parameters\u001b[0m\u001b[0;34m=\u001b[0m\u001b[0;32mTrue\u001b[0m\u001b[0;34m,\u001b[0m\u001b[0;34m\u001b[0m\u001b[0m\n\u001b[1;32m    560\u001b[0m                                     error_score=self.error_score)\n\u001b[0;32m--> 561\u001b[0;31m                 \u001b[0;32mfor\u001b[0m \u001b[0mparameters\u001b[0m \u001b[0;32min\u001b[0m \u001b[0mparameter_iterable\u001b[0m\u001b[0;34m\u001b[0m\u001b[0m\n\u001b[0m\u001b[1;32m    562\u001b[0m                 for train, test in cv)\n\u001b[1;32m    563\u001b[0m \u001b[0;34m\u001b[0m\u001b[0m\n",
      "\u001b[0;32m/Users/AnthonyAbercrombie/anaconda/lib/python3.5/site-packages/sklearn/externals/joblib/parallel.py\u001b[0m in \u001b[0;36m__call__\u001b[0;34m(self, iterable)\u001b[0m\n\u001b[1;32m    766\u001b[0m                 \u001b[0;31m# consumption.\u001b[0m\u001b[0;34m\u001b[0m\u001b[0;34m\u001b[0m\u001b[0m\n\u001b[1;32m    767\u001b[0m                 \u001b[0mself\u001b[0m\u001b[0;34m.\u001b[0m\u001b[0m_iterating\u001b[0m \u001b[0;34m=\u001b[0m \u001b[0;32mFalse\u001b[0m\u001b[0;34m\u001b[0m\u001b[0m\n\u001b[0;32m--> 768\u001b[0;31m             \u001b[0mself\u001b[0m\u001b[0;34m.\u001b[0m\u001b[0mretrieve\u001b[0m\u001b[0;34m(\u001b[0m\u001b[0;34m)\u001b[0m\u001b[0;34m\u001b[0m\u001b[0m\n\u001b[0m\u001b[1;32m    769\u001b[0m             \u001b[0;31m# Make sure that we get a last message telling us we are done\u001b[0m\u001b[0;34m\u001b[0m\u001b[0;34m\u001b[0m\u001b[0m\n\u001b[1;32m    770\u001b[0m             \u001b[0melapsed_time\u001b[0m \u001b[0;34m=\u001b[0m \u001b[0mtime\u001b[0m\u001b[0;34m.\u001b[0m\u001b[0mtime\u001b[0m\u001b[0;34m(\u001b[0m\u001b[0;34m)\u001b[0m \u001b[0;34m-\u001b[0m \u001b[0mself\u001b[0m\u001b[0;34m.\u001b[0m\u001b[0m_start_time\u001b[0m\u001b[0;34m\u001b[0m\u001b[0m\n",
      "\u001b[0;32m/Users/AnthonyAbercrombie/anaconda/lib/python3.5/site-packages/sklearn/externals/joblib/parallel.py\u001b[0m in \u001b[0;36mretrieve\u001b[0;34m(self)\u001b[0m\n\u001b[1;32m    717\u001b[0m                     \u001b[0mensure_ready\u001b[0m \u001b[0;34m=\u001b[0m \u001b[0mself\u001b[0m\u001b[0;34m.\u001b[0m\u001b[0m_managed_backend\u001b[0m\u001b[0;34m\u001b[0m\u001b[0m\n\u001b[1;32m    718\u001b[0m                     \u001b[0mbackend\u001b[0m\u001b[0;34m.\u001b[0m\u001b[0mabort_everything\u001b[0m\u001b[0;34m(\u001b[0m\u001b[0mensure_ready\u001b[0m\u001b[0;34m=\u001b[0m\u001b[0mensure_ready\u001b[0m\u001b[0;34m)\u001b[0m\u001b[0;34m\u001b[0m\u001b[0m\n\u001b[0;32m--> 719\u001b[0;31m                 \u001b[0;32mraise\u001b[0m \u001b[0mexception\u001b[0m\u001b[0;34m\u001b[0m\u001b[0m\n\u001b[0m\u001b[1;32m    720\u001b[0m \u001b[0;34m\u001b[0m\u001b[0m\n\u001b[1;32m    721\u001b[0m     \u001b[0;32mdef\u001b[0m \u001b[0m__call__\u001b[0m\u001b[0;34m(\u001b[0m\u001b[0mself\u001b[0m\u001b[0;34m,\u001b[0m \u001b[0miterable\u001b[0m\u001b[0;34m)\u001b[0m\u001b[0;34m:\u001b[0m\u001b[0;34m\u001b[0m\u001b[0m\n",
      "\u001b[0;31mJoblibValueError\u001b[0m: JoblibValueError\n___________________________________________________________________________\nMultiprocessing exception:\n...........................................................................\n/Users/AnthonyAbercrombie/anaconda/lib/python3.5/runpy.py in _run_module_as_main(mod_name='ipykernel.__main__', alter_argv=1)\n    165         sys.exit(msg)\n    166     main_globals = sys.modules[\"__main__\"].__dict__\n    167     if alter_argv:\n    168         sys.argv[0] = mod_spec.origin\n    169     return _run_code(code, main_globals, None,\n--> 170                      \"__main__\", mod_spec)\n        mod_spec = ModuleSpec(name='ipykernel.__main__', loader=<_f...b/python3.5/site-packages/ipykernel/__main__.py')\n    171 \n    172 def run_module(mod_name, init_globals=None,\n    173                run_name=None, alter_sys=False):\n    174     \"\"\"Execute a module's code without importing it\n\n...........................................................................\n/Users/AnthonyAbercrombie/anaconda/lib/python3.5/runpy.py in _run_code(code=<code object <module> at 0x1027c85d0, file \"/Use...3.5/site-packages/ipykernel/__main__.py\", line 1>, run_globals={'__builtins__': <module 'builtins' (built-in)>, '__cached__': '/Users/AnthonyAbercrombie/anaconda/lib/python3.5...ges/ipykernel/__pycache__/__main__.cpython-35.pyc', '__doc__': None, '__file__': '/Users/AnthonyAbercrombie/anaconda/lib/python3.5/site-packages/ipykernel/__main__.py', '__loader__': <_frozen_importlib_external.SourceFileLoader object>, '__name__': '__main__', '__package__': 'ipykernel', '__spec__': ModuleSpec(name='ipykernel.__main__', loader=<_f...b/python3.5/site-packages/ipykernel/__main__.py'), 'app': <module 'ipykernel.kernelapp' from '/Users/Antho.../python3.5/site-packages/ipykernel/kernelapp.py'>}, init_globals=None, mod_name='__main__', mod_spec=ModuleSpec(name='ipykernel.__main__', loader=<_f...b/python3.5/site-packages/ipykernel/__main__.py'), pkg_name='ipykernel', script_name=None)\n     80                        __cached__ = cached,\n     81                        __doc__ = None,\n     82                        __loader__ = loader,\n     83                        __package__ = pkg_name,\n     84                        __spec__ = mod_spec)\n---> 85     exec(code, run_globals)\n        code = <code object <module> at 0x1027c85d0, file \"/Use...3.5/site-packages/ipykernel/__main__.py\", line 1>\n        run_globals = {'__builtins__': <module 'builtins' (built-in)>, '__cached__': '/Users/AnthonyAbercrombie/anaconda/lib/python3.5...ges/ipykernel/__pycache__/__main__.cpython-35.pyc', '__doc__': None, '__file__': '/Users/AnthonyAbercrombie/anaconda/lib/python3.5/site-packages/ipykernel/__main__.py', '__loader__': <_frozen_importlib_external.SourceFileLoader object>, '__name__': '__main__', '__package__': 'ipykernel', '__spec__': ModuleSpec(name='ipykernel.__main__', loader=<_f...b/python3.5/site-packages/ipykernel/__main__.py'), 'app': <module 'ipykernel.kernelapp' from '/Users/Antho.../python3.5/site-packages/ipykernel/kernelapp.py'>}\n     86     return run_globals\n     87 \n     88 def _run_module_code(code, init_globals=None,\n     89                     mod_name=None, mod_spec=None,\n\n...........................................................................\n/Users/AnthonyAbercrombie/anaconda/lib/python3.5/site-packages/ipykernel/__main__.py in <module>()\n      1 \n      2 \n----> 3 \n      4 if __name__ == '__main__':\n      5     from ipykernel import kernelapp as app\n      6     app.launch_new_instance()\n      7 \n      8 \n      9 \n     10 \n\n...........................................................................\n/Users/AnthonyAbercrombie/anaconda/lib/python3.5/site-packages/traitlets/config/application.py in launch_instance(cls=<class 'ipykernel.kernelapp.IPKernelApp'>, argv=None, **kwargs={})\n    584         \n    585         If a global instance already exists, this reinitializes and starts it\n    586         \"\"\"\n    587         app = cls.instance(**kwargs)\n    588         app.initialize(argv)\n--> 589         app.start()\n        app.start = <bound method IPKernelApp.start of <ipykernel.kernelapp.IPKernelApp object>>\n    590 \n    591 #-----------------------------------------------------------------------------\n    592 # utility functions, for convenience\n    593 #-----------------------------------------------------------------------------\n\n...........................................................................\n/Users/AnthonyAbercrombie/anaconda/lib/python3.5/site-packages/ipykernel/kernelapp.py in start(self=<ipykernel.kernelapp.IPKernelApp object>)\n    400         \n    401         if self.poller is not None:\n    402             self.poller.start()\n    403         self.kernel.start()\n    404         try:\n--> 405             ioloop.IOLoop.instance().start()\n    406         except KeyboardInterrupt:\n    407             pass\n    408 \n    409 launch_new_instance = IPKernelApp.launch_instance\n\n...........................................................................\n/Users/AnthonyAbercrombie/anaconda/lib/python3.5/site-packages/zmq/eventloop/ioloop.py in start(self=<zmq.eventloop.ioloop.ZMQIOLoop object>)\n    157             PollIOLoop.configure(ZMQIOLoop)\n    158         return PollIOLoop.current(*args, **kwargs)\n    159     \n    160     def start(self):\n    161         try:\n--> 162             super(ZMQIOLoop, self).start()\n        self.start = <bound method ZMQIOLoop.start of <zmq.eventloop.ioloop.ZMQIOLoop object>>\n    163         except ZMQError as e:\n    164             if e.errno == ETERM:\n    165                 # quietly return on ETERM\n    166                 pass\n\n...........................................................................\n/Users/AnthonyAbercrombie/anaconda/lib/python3.5/site-packages/tornado/ioloop.py in start(self=<zmq.eventloop.ioloop.ZMQIOLoop object>)\n    878                 self._events.update(event_pairs)\n    879                 while self._events:\n    880                     fd, events = self._events.popitem()\n    881                     try:\n    882                         fd_obj, handler_func = self._handlers[fd]\n--> 883                         handler_func(fd_obj, events)\n        handler_func = <function wrap.<locals>.null_wrapper>\n        fd_obj = <zmq.sugar.socket.Socket object>\n        events = 1\n    884                     except (OSError, IOError) as e:\n    885                         if errno_from_exception(e) == errno.EPIPE:\n    886                             # Happens when the client closes the connection\n    887                             pass\n\n...........................................................................\n/Users/AnthonyAbercrombie/anaconda/lib/python3.5/site-packages/tornado/stack_context.py in null_wrapper(*args=(<zmq.sugar.socket.Socket object>, 1), **kwargs={})\n    270         # Fast path when there are no active contexts.\n    271         def null_wrapper(*args, **kwargs):\n    272             try:\n    273                 current_state = _state.contexts\n    274                 _state.contexts = cap_contexts[0]\n--> 275                 return fn(*args, **kwargs)\n        args = (<zmq.sugar.socket.Socket object>, 1)\n        kwargs = {}\n    276             finally:\n    277                 _state.contexts = current_state\n    278         null_wrapper._wrapped = True\n    279         return null_wrapper\n\n...........................................................................\n/Users/AnthonyAbercrombie/anaconda/lib/python3.5/site-packages/zmq/eventloop/zmqstream.py in _handle_events(self=<zmq.eventloop.zmqstream.ZMQStream object>, fd=<zmq.sugar.socket.Socket object>, events=1)\n    435             # dispatch events:\n    436             if events & IOLoop.ERROR:\n    437                 gen_log.error(\"got POLLERR event on ZMQStream, which doesn't make sense\")\n    438                 return\n    439             if events & IOLoop.READ:\n--> 440                 self._handle_recv()\n        self._handle_recv = <bound method ZMQStream._handle_recv of <zmq.eventloop.zmqstream.ZMQStream object>>\n    441                 if not self.socket:\n    442                     return\n    443             if events & IOLoop.WRITE:\n    444                 self._handle_send()\n\n...........................................................................\n/Users/AnthonyAbercrombie/anaconda/lib/python3.5/site-packages/zmq/eventloop/zmqstream.py in _handle_recv(self=<zmq.eventloop.zmqstream.ZMQStream object>)\n    467                 gen_log.error(\"RECV Error: %s\"%zmq.strerror(e.errno))\n    468         else:\n    469             if self._recv_callback:\n    470                 callback = self._recv_callback\n    471                 # self._recv_callback = None\n--> 472                 self._run_callback(callback, msg)\n        self._run_callback = <bound method ZMQStream._run_callback of <zmq.eventloop.zmqstream.ZMQStream object>>\n        callback = <function wrap.<locals>.null_wrapper>\n        msg = [<zmq.sugar.frame.Frame object>, <zmq.sugar.frame.Frame object>, <zmq.sugar.frame.Frame object>, <zmq.sugar.frame.Frame object>, <zmq.sugar.frame.Frame object>, <zmq.sugar.frame.Frame object>, <zmq.sugar.frame.Frame object>]\n    473                 \n    474         # self.update_state()\n    475         \n    476 \n\n...........................................................................\n/Users/AnthonyAbercrombie/anaconda/lib/python3.5/site-packages/zmq/eventloop/zmqstream.py in _run_callback(self=<zmq.eventloop.zmqstream.ZMQStream object>, callback=<function wrap.<locals>.null_wrapper>, *args=([<zmq.sugar.frame.Frame object>, <zmq.sugar.frame.Frame object>, <zmq.sugar.frame.Frame object>, <zmq.sugar.frame.Frame object>, <zmq.sugar.frame.Frame object>, <zmq.sugar.frame.Frame object>, <zmq.sugar.frame.Frame object>],), **kwargs={})\n    409         close our socket.\"\"\"\n    410         try:\n    411             # Use a NullContext to ensure that all StackContexts are run\n    412             # inside our blanket exception handler rather than outside.\n    413             with stack_context.NullContext():\n--> 414                 callback(*args, **kwargs)\n        callback = <function wrap.<locals>.null_wrapper>\n        args = ([<zmq.sugar.frame.Frame object>, <zmq.sugar.frame.Frame object>, <zmq.sugar.frame.Frame object>, <zmq.sugar.frame.Frame object>, <zmq.sugar.frame.Frame object>, <zmq.sugar.frame.Frame object>, <zmq.sugar.frame.Frame object>],)\n        kwargs = {}\n    415         except:\n    416             gen_log.error(\"Uncaught exception, closing connection.\",\n    417                           exc_info=True)\n    418             # Close the socket on an uncaught exception from a user callback\n\n...........................................................................\n/Users/AnthonyAbercrombie/anaconda/lib/python3.5/site-packages/tornado/stack_context.py in null_wrapper(*args=([<zmq.sugar.frame.Frame object>, <zmq.sugar.frame.Frame object>, <zmq.sugar.frame.Frame object>, <zmq.sugar.frame.Frame object>, <zmq.sugar.frame.Frame object>, <zmq.sugar.frame.Frame object>, <zmq.sugar.frame.Frame object>],), **kwargs={})\n    270         # Fast path when there are no active contexts.\n    271         def null_wrapper(*args, **kwargs):\n    272             try:\n    273                 current_state = _state.contexts\n    274                 _state.contexts = cap_contexts[0]\n--> 275                 return fn(*args, **kwargs)\n        args = ([<zmq.sugar.frame.Frame object>, <zmq.sugar.frame.Frame object>, <zmq.sugar.frame.Frame object>, <zmq.sugar.frame.Frame object>, <zmq.sugar.frame.Frame object>, <zmq.sugar.frame.Frame object>, <zmq.sugar.frame.Frame object>],)\n        kwargs = {}\n    276             finally:\n    277                 _state.contexts = current_state\n    278         null_wrapper._wrapped = True\n    279         return null_wrapper\n\n...........................................................................\n/Users/AnthonyAbercrombie/anaconda/lib/python3.5/site-packages/ipykernel/kernelbase.py in dispatcher(msg=[<zmq.sugar.frame.Frame object>, <zmq.sugar.frame.Frame object>, <zmq.sugar.frame.Frame object>, <zmq.sugar.frame.Frame object>, <zmq.sugar.frame.Frame object>, <zmq.sugar.frame.Frame object>, <zmq.sugar.frame.Frame object>])\n    255         if self.control_stream:\n    256             self.control_stream.on_recv(self.dispatch_control, copy=False)\n    257 \n    258         def make_dispatcher(stream):\n    259             def dispatcher(msg):\n--> 260                 return self.dispatch_shell(stream, msg)\n        msg = [<zmq.sugar.frame.Frame object>, <zmq.sugar.frame.Frame object>, <zmq.sugar.frame.Frame object>, <zmq.sugar.frame.Frame object>, <zmq.sugar.frame.Frame object>, <zmq.sugar.frame.Frame object>, <zmq.sugar.frame.Frame object>]\n    261             return dispatcher\n    262 \n    263         for s in self.shell_streams:\n    264             s.on_recv(make_dispatcher(s), copy=False)\n\n...........................................................................\n/Users/AnthonyAbercrombie/anaconda/lib/python3.5/site-packages/ipykernel/kernelbase.py in dispatch_shell(self=<ipykernel.ipkernel.IPythonKernel object>, stream=<zmq.eventloop.zmqstream.ZMQStream object>, msg={'buffers': [], 'content': {'allow_stdin': True, 'code': '# Gridsearched Multinomial Naive Bayes\\nmnb_d2v =..._test, d2v_platform.y_test, model=mnb_d2v, kf=kf)', 'silent': False, 'stop_on_error': True, 'store_history': True, 'user_expressions': {}}, 'header': {'date': '2016-12-15T06:58:16.402202', 'msg_id': '2556C506EB31492CA3E8DDD5F35614E1', 'msg_type': 'execute_request', 'session': '17023023C91C46E1A8B31FC49A09B16E', 'username': 'username', 'version': '5.0'}, 'metadata': {}, 'msg_id': '2556C506EB31492CA3E8DDD5F35614E1', 'msg_type': 'execute_request', 'parent_header': {}})\n    207             self.log.error(\"UNKNOWN MESSAGE TYPE: %r\", msg_type)\n    208         else:\n    209             self.log.debug(\"%s: %s\", msg_type, msg)\n    210             self.pre_handler_hook()\n    211             try:\n--> 212                 handler(stream, idents, msg)\n        handler = <bound method Kernel.execute_request of <ipykernel.ipkernel.IPythonKernel object>>\n        stream = <zmq.eventloop.zmqstream.ZMQStream object>\n        idents = [b'17023023C91C46E1A8B31FC49A09B16E']\n        msg = {'buffers': [], 'content': {'allow_stdin': True, 'code': '# Gridsearched Multinomial Naive Bayes\\nmnb_d2v =..._test, d2v_platform.y_test, model=mnb_d2v, kf=kf)', 'silent': False, 'stop_on_error': True, 'store_history': True, 'user_expressions': {}}, 'header': {'date': '2016-12-15T06:58:16.402202', 'msg_id': '2556C506EB31492CA3E8DDD5F35614E1', 'msg_type': 'execute_request', 'session': '17023023C91C46E1A8B31FC49A09B16E', 'username': 'username', 'version': '5.0'}, 'metadata': {}, 'msg_id': '2556C506EB31492CA3E8DDD5F35614E1', 'msg_type': 'execute_request', 'parent_header': {}}\n    213             except Exception:\n    214                 self.log.error(\"Exception in message handler:\", exc_info=True)\n    215             finally:\n    216                 self.post_handler_hook()\n\n...........................................................................\n/Users/AnthonyAbercrombie/anaconda/lib/python3.5/site-packages/ipykernel/kernelbase.py in execute_request(self=<ipykernel.ipkernel.IPythonKernel object>, stream=<zmq.eventloop.zmqstream.ZMQStream object>, ident=[b'17023023C91C46E1A8B31FC49A09B16E'], parent={'buffers': [], 'content': {'allow_stdin': True, 'code': '# Gridsearched Multinomial Naive Bayes\\nmnb_d2v =..._test, d2v_platform.y_test, model=mnb_d2v, kf=kf)', 'silent': False, 'stop_on_error': True, 'store_history': True, 'user_expressions': {}}, 'header': {'date': '2016-12-15T06:58:16.402202', 'msg_id': '2556C506EB31492CA3E8DDD5F35614E1', 'msg_type': 'execute_request', 'session': '17023023C91C46E1A8B31FC49A09B16E', 'username': 'username', 'version': '5.0'}, 'metadata': {}, 'msg_id': '2556C506EB31492CA3E8DDD5F35614E1', 'msg_type': 'execute_request', 'parent_header': {}})\n    365         if not silent:\n    366             self.execution_count += 1\n    367             self._publish_execute_input(code, parent, self.execution_count)\n    368 \n    369         reply_content = self.do_execute(code, silent, store_history,\n--> 370                                         user_expressions, allow_stdin)\n        user_expressions = {}\n        allow_stdin = True\n    371 \n    372         # Flush output before sending the reply.\n    373         sys.stdout.flush()\n    374         sys.stderr.flush()\n\n...........................................................................\n/Users/AnthonyAbercrombie/anaconda/lib/python3.5/site-packages/ipykernel/ipkernel.py in do_execute(self=<ipykernel.ipkernel.IPythonKernel object>, code='# Gridsearched Multinomial Naive Bayes\\nmnb_d2v =..._test, d2v_platform.y_test, model=mnb_d2v, kf=kf)', silent=False, store_history=True, user_expressions={}, allow_stdin=True)\n    170 \n    171         reply_content = {}\n    172         # FIXME: the shell calls the exception handler itself.\n    173         shell._reply_content = None\n    174         try:\n--> 175             shell.run_cell(code, store_history=store_history, silent=silent)\n        shell.run_cell = <bound method InteractiveShell.run_cell of <ipykernel.zmqshell.ZMQInteractiveShell object>>\n        code = '# Gridsearched Multinomial Naive Bayes\\nmnb_d2v =..._test, d2v_platform.y_test, model=mnb_d2v, kf=kf)'\n        store_history = True\n        silent = False\n    176         except:\n    177             status = u'error'\n    178             # FIXME: this code right now isn't being used yet by default,\n    179             # because the run_cell() call above directly fires off exception\n\n...........................................................................\n/Users/AnthonyAbercrombie/anaconda/lib/python3.5/site-packages/IPython/core/interactiveshell.py in run_cell(self=<ipykernel.zmqshell.ZMQInteractiveShell object>, raw_cell='# Gridsearched Multinomial Naive Bayes\\nmnb_d2v =..._test, d2v_platform.y_test, model=mnb_d2v, kf=kf)', store_history=True, silent=False, shell_futures=True)\n   2897                 self.displayhook.exec_result = result\n   2898 \n   2899                 # Execute the user code\n   2900                 interactivity = \"none\" if silent else self.ast_node_interactivity\n   2901                 self.run_ast_nodes(code_ast.body, cell_name,\n-> 2902                    interactivity=interactivity, compiler=compiler, result=result)\n        interactivity = 'last_expr'\n        compiler = <IPython.core.compilerop.CachingCompiler object>\n   2903 \n   2904                 # Reset this so later displayed values do not modify the\n   2905                 # ExecutionResult\n   2906                 self.displayhook.exec_result = None\n\n...........................................................................\n/Users/AnthonyAbercrombie/anaconda/lib/python3.5/site-packages/IPython/core/interactiveshell.py in run_ast_nodes(self=<ipykernel.zmqshell.ZMQInteractiveShell object>, nodelist=[<_ast.Assign object>, <_ast.Assign object>], cell_name='<ipython-input-179-5b023423b9a4>', interactivity='none', compiler=<IPython.core.compilerop.CachingCompiler object>, result=<IPython.core.interactiveshell.ExecutionResult object>)\n   3001 \n   3002         try:\n   3003             for i, node in enumerate(to_run_exec):\n   3004                 mod = ast.Module([node])\n   3005                 code = compiler(mod, cell_name, \"exec\")\n-> 3006                 if self.run_code(code, result):\n        self.run_code = <bound method InteractiveShell.run_code of <ipykernel.zmqshell.ZMQInteractiveShell object>>\n        code = <code object <module> at 0x184b80930, file \"<ipython-input-179-5b023423b9a4>\", line 2>\n        result = <IPython.core.interactiveshell.ExecutionResult object>\n   3007                     return True\n   3008 \n   3009             for i, node in enumerate(to_run_interactive):\n   3010                 mod = ast.Interactive([node])\n\n...........................................................................\n/Users/AnthonyAbercrombie/anaconda/lib/python3.5/site-packages/IPython/core/interactiveshell.py in run_code(self=<ipykernel.zmqshell.ZMQInteractiveShell object>, code_obj=<code object <module> at 0x184b80930, file \"<ipython-input-179-5b023423b9a4>\", line 2>, result=<IPython.core.interactiveshell.ExecutionResult object>)\n   3061         outflag = 1  # happens in more places, so it's easier as default\n   3062         try:\n   3063             try:\n   3064                 self.hooks.pre_run_code_hook()\n   3065                 #rprint('Running code', repr(code_obj)) # dbg\n-> 3066                 exec(code_obj, self.user_global_ns, self.user_ns)\n        code_obj = <code object <module> at 0x184b80930, file \"<ipython-input-179-5b023423b9a4>\", line 2>\n        self.user_global_ns = {'ALLOW_THREADS': 1, 'AdaBoostClassifier': <class 'sklearn.ensemble.weight_boosting.AdaBoostClassifier'>, 'AdaBoostRegressor': <class 'sklearn.ensemble.weight_boosting.AdaBoostRegressor'>, 'Annotation': <class 'matplotlib.text.Annotation'>, 'Arrow': <class 'matplotlib.patches.Arrow'>, 'Artist': <class 'matplotlib.artist.Artist'>, 'AutoLocator': <class 'matplotlib.ticker.AutoLocator'>, 'Axes': <class 'matplotlib.axes._axes.Axes'>, 'BUFSIZE': 8192, 'Button': <class 'matplotlib.widgets.Button'>, ...}\n        self.user_ns = {'ALLOW_THREADS': 1, 'AdaBoostClassifier': <class 'sklearn.ensemble.weight_boosting.AdaBoostClassifier'>, 'AdaBoostRegressor': <class 'sklearn.ensemble.weight_boosting.AdaBoostRegressor'>, 'Annotation': <class 'matplotlib.text.Annotation'>, 'Arrow': <class 'matplotlib.patches.Arrow'>, 'Artist': <class 'matplotlib.artist.Artist'>, 'AutoLocator': <class 'matplotlib.ticker.AutoLocator'>, 'Axes': <class 'matplotlib.axes._axes.Axes'>, 'BUFSIZE': 8192, 'Button': <class 'matplotlib.widgets.Button'>, ...}\n   3067             finally:\n   3068                 # Reset our crash handler in place\n   3069                 sys.excepthook = old_excepthook\n   3070         except SystemExit as e:\n\n...........................................................................\n/Users/AnthonyAbercrombie/gU/DSCI6004-student/final_project/<ipython-input-179-5b023423b9a4> in <module>()\n      1 \n----> 2 \n      3 \n      4 \n      5 # Gridsearched Multinomial Naive Bayes\n      6 mnb_d2v = d2v_platform.MNB_Gridsearch()\n      7 eval_d2v_dict = kfold_evaluation(d2v_platform.x_test, d2v_platform.y_test, model=mnb_d2v, kf=kf)\n      8 \n      9 \n     10 \n\n...........................................................................\n/Users/AnthonyAbercrombie/gU/DSCI6004-student/final_project/model.py in MNB_Gridsearch(self=<model.Classify_Thread object>)\n    141                                      mnb_grid,\n    142                                      n_jobs=-1,\n    143                                      verbose=True,\n    144                                      scoring='f1_macro')\n    145         \n--> 146         mnb_gridsearch.fit(self.x_train, self.y_train)\n        mnb_gridsearch.fit = <bound method GridSearchCV.fit of GridSearchCV(c...t=True, scoring='f1_macro',\n       verbose=True)>\n        self.x_train = array([[-0.1486951 , -0.01766709, -0.06383126, ....       -0.0024603 ,  0.04538249]], dtype=float32)\n        self.y_train = array([2, 4, 3, ..., 5, 5, 0])\n    147         return mnb_gridsearch.best_estimator_\n    148    \n    149     def RandomForest(self):\n    150         rf = RandomForestClassifier()\n\n...........................................................................\n/Users/AnthonyAbercrombie/anaconda/lib/python3.5/site-packages/sklearn/grid_search.py in fit(self=GridSearchCV(cv=None, error_score='raise',\n     ...it=True, scoring='f1_macro',\n       verbose=True), X=array([[-0.1486951 , -0.01766709, -0.06383126, ....       -0.0024603 ,  0.04538249]], dtype=float32), y=array([2, 4, 3, ..., 5, 5, 0]))\n    808         y : array-like, shape = [n_samples] or [n_samples, n_output], optional\n    809             Target relative to X for classification or regression;\n    810             None for unsupervised learning.\n    811 \n    812         \"\"\"\n--> 813         return self._fit(X, y, ParameterGrid(self.param_grid))\n        self._fit = <bound method BaseSearchCV._fit of GridSearchCV(...t=True, scoring='f1_macro',\n       verbose=True)>\n        X = array([[-0.1486951 , -0.01766709, -0.06383126, ....       -0.0024603 ,  0.04538249]], dtype=float32)\n        y = array([2, 4, 3, ..., 5, 5, 0])\n        self.param_grid = {'alpha': [0.1, 0.5, 1.0, 2.0], 'fit_prior': [True, False]}\n    814 \n    815 \n    816 class RandomizedSearchCV(BaseSearchCV):\n    817     \"\"\"Randomized search on hyper parameters.\n\n...........................................................................\n/Users/AnthonyAbercrombie/anaconda/lib/python3.5/site-packages/sklearn/grid_search.py in _fit(self=GridSearchCV(cv=None, error_score='raise',\n     ...it=True, scoring='f1_macro',\n       verbose=True), X=array([[-0.1486951 , -0.01766709, -0.06383126, ....       -0.0024603 ,  0.04538249]], dtype=float32), y=array([2, 4, 3, ..., 5, 5, 0]), parameter_iterable=<sklearn.grid_search.ParameterGrid object>)\n    556         )(\n    557             delayed(_fit_and_score)(clone(base_estimator), X, y, self.scorer_,\n    558                                     train, test, self.verbose, parameters,\n    559                                     self.fit_params, return_parameters=True,\n    560                                     error_score=self.error_score)\n--> 561                 for parameters in parameter_iterable\n        parameters = undefined\n        parameter_iterable = <sklearn.grid_search.ParameterGrid object>\n    562                 for train, test in cv)\n    563 \n    564         # Out is a list of triplet: score, estimator, n_test_samples\n    565         n_fits = len(out)\n\n...........................................................................\n/Users/AnthonyAbercrombie/anaconda/lib/python3.5/site-packages/sklearn/externals/joblib/parallel.py in __call__(self=Parallel(n_jobs=-1), iterable=<generator object BaseSearchCV._fit.<locals>.<genexpr>>)\n    763             if pre_dispatch == \"all\" or n_jobs == 1:\n    764                 # The iterable was consumed all at once by the above for loop.\n    765                 # No need to wait for async callbacks to trigger to\n    766                 # consumption.\n    767                 self._iterating = False\n--> 768             self.retrieve()\n        self.retrieve = <bound method Parallel.retrieve of Parallel(n_jobs=-1)>\n    769             # Make sure that we get a last message telling us we are done\n    770             elapsed_time = time.time() - self._start_time\n    771             self._print('Done %3i out of %3i | elapsed: %s finished',\n    772                         (len(self._output), len(self._output),\n\n---------------------------------------------------------------------------\nSub-process traceback:\n---------------------------------------------------------------------------\nValueError                                         Thu Dec 15 06:58:16 2016\nPID: 23820      Python 3.5.1: /Users/AnthonyAbercrombie/anaconda/bin/python\n...........................................................................\n/Users/AnthonyAbercrombie/anaconda/lib/python3.5/site-packages/sklearn/externals/joblib/parallel.py in __call__(self=<sklearn.externals.joblib.parallel.BatchedCalls object>)\n    126     def __init__(self, iterator_slice):\n    127         self.items = list(iterator_slice)\n    128         self._size = len(self.items)\n    129 \n    130     def __call__(self):\n--> 131         return [func(*args, **kwargs) for func, args, kwargs in self.items]\n        self.items = [(<function _fit_and_score>, (MultinomialNB(alpha=0.1, class_prior=None, fit_prior=True), memmap([[-0.1486951 , -0.01766709, -0.06383126, ...       -0.0024603 ,  0.04538249]], dtype=float32), array([2, 4, 3, ..., 5, 5, 0]), make_scorer(f1_score, average=macro, pos_label=None), array([1385, 1392, 1396, ..., 4497, 4498, 4499]), array([   0,    1,    2, ..., 1662, 1672, 1676]), True, {'alpha': 0.1, 'fit_prior': True}, {}), {'error_score': 'raise', 'return_parameters': True})]\n    132 \n    133     def __len__(self):\n    134         return self._size\n    135 \n\n...........................................................................\n/Users/AnthonyAbercrombie/anaconda/lib/python3.5/site-packages/sklearn/externals/joblib/parallel.py in <listcomp>(.0=<list_iterator object>)\n    126     def __init__(self, iterator_slice):\n    127         self.items = list(iterator_slice)\n    128         self._size = len(self.items)\n    129 \n    130     def __call__(self):\n--> 131         return [func(*args, **kwargs) for func, args, kwargs in self.items]\n        func = <function _fit_and_score>\n        args = (MultinomialNB(alpha=0.1, class_prior=None, fit_prior=True), memmap([[-0.1486951 , -0.01766709, -0.06383126, ...       -0.0024603 ,  0.04538249]], dtype=float32), array([2, 4, 3, ..., 5, 5, 0]), make_scorer(f1_score, average=macro, pos_label=None), array([1385, 1392, 1396, ..., 4497, 4498, 4499]), array([   0,    1,    2, ..., 1662, 1672, 1676]), True, {'alpha': 0.1, 'fit_prior': True}, {})\n        kwargs = {'error_score': 'raise', 'return_parameters': True}\n    132 \n    133     def __len__(self):\n    134         return self._size\n    135 \n\n...........................................................................\n/Users/AnthonyAbercrombie/anaconda/lib/python3.5/site-packages/sklearn/cross_validation.py in _fit_and_score(estimator=MultinomialNB(alpha=0.1, class_prior=None, fit_prior=True), X=memmap([[-0.1486951 , -0.01766709, -0.06383126, ...       -0.0024603 ,  0.04538249]], dtype=float32), y=array([2, 4, 3, ..., 5, 5, 0]), scorer=make_scorer(f1_score, average=macro, pos_label=None), train=array([1385, 1392, 1396, ..., 4497, 4498, 4499]), test=array([   0,    1,    2, ..., 1662, 1672, 1676]), verbose=True, parameters={'alpha': 0.1, 'fit_prior': True}, fit_params={}, return_train_score=False, return_parameters=True, error_score='raise')\n   1608 \n   1609     try:\n   1610         if y_train is None:\n   1611             estimator.fit(X_train, **fit_params)\n   1612         else:\n-> 1613             estimator.fit(X_train, y_train, **fit_params)\n        estimator.fit = <bound method BaseDiscreteNB.fit of MultinomialNB(alpha=0.1, class_prior=None, fit_prior=True)>\n        X_train = memmap([[-0.08841698, -0.01179719, -0.03438913, ...       -0.0024603 ,  0.04538249]], dtype=float32)\n        y_train = array([4, 4, 4, ..., 5, 5, 0])\n        fit_params = {}\n   1614 \n   1615     except Exception as e:\n   1616         if error_score == 'raise':\n   1617             raise\n\n...........................................................................\n/Users/AnthonyAbercrombie/anaconda/lib/python3.5/site-packages/sklearn/naive_bayes.py in fit(self=MultinomialNB(alpha=0.1, class_prior=None, fit_prior=True), X=array([[-0.08841698, -0.01179719, -0.03438913, ....       -0.0024603 ,  0.04538249]], dtype=float32), y=array([4, 4, 4, ..., 5, 5, 0]), sample_weight=None)\n    582         # and feature log probas\n    583         n_effective_classes = Y.shape[1]\n    584         self.class_count_ = np.zeros(n_effective_classes, dtype=np.float64)\n    585         self.feature_count_ = np.zeros((n_effective_classes, n_features),\n    586                                        dtype=np.float64)\n--> 587         self._count(X, Y)\n        self._count = <bound method MultinomialNB._count of MultinomialNB(alpha=0.1, class_prior=None, fit_prior=True)>\n        X = array([[-0.08841698, -0.01179719, -0.03438913, ....       -0.0024603 ,  0.04538249]], dtype=float32)\n        Y = array([[ 0.,  0.,  0.,  0.,  1.,  0.],\n       [ ...0.,  1.],\n       [ 1.,  0.,  0.,  0.,  0.,  0.]])\n    588         self._update_feature_log_prob()\n    589         self._update_class_log_prior(class_prior=class_prior)\n    590         return self\n    591 \n\n...........................................................................\n/Users/AnthonyAbercrombie/anaconda/lib/python3.5/site-packages/sklearn/naive_bayes.py in _count(self=MultinomialNB(alpha=0.1, class_prior=None, fit_prior=True), X=array([[-0.08841698, -0.01179719, -0.03438913, ....       -0.0024603 ,  0.04538249]], dtype=float32), Y=array([[ 0.,  0.,  0.,  0.,  1.,  0.],\n       [ ...0.,  1.],\n       [ 1.,  0.,  0.,  0.,  0.,  0.]]))\n    685         self.class_prior = class_prior\n    686 \n    687     def _count(self, X, Y):\n    688         \"\"\"Count and smooth feature occurrences.\"\"\"\n    689         if np.any((X.data if issparse(X) else X) < 0):\n--> 690             raise ValueError(\"Input X must be non-negative\")\n    691         self.feature_count_ += safe_sparse_dot(Y.T, X)\n    692         self.class_count_ += Y.sum(axis=0)\n    693 \n    694     def _update_feature_log_prob(self):\n\nValueError: Input X must be non-negative\n___________________________________________________________________________"
     ]
    }
   ],
   "source": [
    "# Gridsearched Multinomial Naive Bayes\n",
    "mnb_d2v = d2v_platform.MNB_Gridsearch()\n",
    "eval_d2v_dict = kfold_evaluation(d2v_platform.x_test, d2v_platform.y_test, model=mnb_d2v, kf=kf)"
   ]
  },
  {
   "cell_type": "code",
   "execution_count": null,
   "metadata": {
    "collapsed": true
   },
   "outputs": [],
   "source": [
    "pd.DataFrame.from_dict(eval_d2v_dict)"
   ]
  },
  {
   "cell_type": "code",
   "execution_count": null,
   "metadata": {
    "collapsed": true
   },
   "outputs": [],
   "source": [
    "mnb_d2v_pred = mnb_d2v.predict(d2v_platform.x_test)\n",
    "ConfusionMatrix(d2v_platform.y_test, mnb_d2v_pred).plot(normalized=True)"
   ]
  },
  {
   "cell_type": "markdown",
   "metadata": {},
   "source": [
    "### Random Forest"
   ]
  },
  {
   "cell_type": "code",
   "execution_count": 176,
   "metadata": {
    "collapsed": false,
    "scrolled": true
   },
   "outputs": [
    {
     "name": "stdout",
     "output_type": "stream",
     "text": [
      "Fitting 3 folds for each of 8 candidates, totalling 24 fits\n"
     ]
    },
    {
     "ename": "JoblibValueError",
     "evalue": "JoblibValueError\n___________________________________________________________________________\nMultiprocessing exception:\n...........................................................................\n/Users/AnthonyAbercrombie/anaconda/lib/python3.5/runpy.py in _run_module_as_main(mod_name='ipykernel.__main__', alter_argv=1)\n    165         sys.exit(msg)\n    166     main_globals = sys.modules[\"__main__\"].__dict__\n    167     if alter_argv:\n    168         sys.argv[0] = mod_spec.origin\n    169     return _run_code(code, main_globals, None,\n--> 170                      \"__main__\", mod_spec)\n        mod_spec = ModuleSpec(name='ipykernel.__main__', loader=<_f...b/python3.5/site-packages/ipykernel/__main__.py')\n    171 \n    172 def run_module(mod_name, init_globals=None,\n    173                run_name=None, alter_sys=False):\n    174     \"\"\"Execute a module's code without importing it\n\n...........................................................................\n/Users/AnthonyAbercrombie/anaconda/lib/python3.5/runpy.py in _run_code(code=<code object <module> at 0x1027c85d0, file \"/Use...3.5/site-packages/ipykernel/__main__.py\", line 1>, run_globals={'__builtins__': <module 'builtins' (built-in)>, '__cached__': '/Users/AnthonyAbercrombie/anaconda/lib/python3.5...ges/ipykernel/__pycache__/__main__.cpython-35.pyc', '__doc__': None, '__file__': '/Users/AnthonyAbercrombie/anaconda/lib/python3.5/site-packages/ipykernel/__main__.py', '__loader__': <_frozen_importlib_external.SourceFileLoader object>, '__name__': '__main__', '__package__': 'ipykernel', '__spec__': ModuleSpec(name='ipykernel.__main__', loader=<_f...b/python3.5/site-packages/ipykernel/__main__.py'), 'app': <module 'ipykernel.kernelapp' from '/Users/Antho.../python3.5/site-packages/ipykernel/kernelapp.py'>}, init_globals=None, mod_name='__main__', mod_spec=ModuleSpec(name='ipykernel.__main__', loader=<_f...b/python3.5/site-packages/ipykernel/__main__.py'), pkg_name='ipykernel', script_name=None)\n     80                        __cached__ = cached,\n     81                        __doc__ = None,\n     82                        __loader__ = loader,\n     83                        __package__ = pkg_name,\n     84                        __spec__ = mod_spec)\n---> 85     exec(code, run_globals)\n        code = <code object <module> at 0x1027c85d0, file \"/Use...3.5/site-packages/ipykernel/__main__.py\", line 1>\n        run_globals = {'__builtins__': <module 'builtins' (built-in)>, '__cached__': '/Users/AnthonyAbercrombie/anaconda/lib/python3.5...ges/ipykernel/__pycache__/__main__.cpython-35.pyc', '__doc__': None, '__file__': '/Users/AnthonyAbercrombie/anaconda/lib/python3.5/site-packages/ipykernel/__main__.py', '__loader__': <_frozen_importlib_external.SourceFileLoader object>, '__name__': '__main__', '__package__': 'ipykernel', '__spec__': ModuleSpec(name='ipykernel.__main__', loader=<_f...b/python3.5/site-packages/ipykernel/__main__.py'), 'app': <module 'ipykernel.kernelapp' from '/Users/Antho.../python3.5/site-packages/ipykernel/kernelapp.py'>}\n     86     return run_globals\n     87 \n     88 def _run_module_code(code, init_globals=None,\n     89                     mod_name=None, mod_spec=None,\n\n...........................................................................\n/Users/AnthonyAbercrombie/anaconda/lib/python3.5/site-packages/ipykernel/__main__.py in <module>()\n      1 \n      2 \n----> 3 \n      4 if __name__ == '__main__':\n      5     from ipykernel import kernelapp as app\n      6     app.launch_new_instance()\n      7 \n      8 \n      9 \n     10 \n\n...........................................................................\n/Users/AnthonyAbercrombie/anaconda/lib/python3.5/site-packages/traitlets/config/application.py in launch_instance(cls=<class 'ipykernel.kernelapp.IPKernelApp'>, argv=None, **kwargs={})\n    584         \n    585         If a global instance already exists, this reinitializes and starts it\n    586         \"\"\"\n    587         app = cls.instance(**kwargs)\n    588         app.initialize(argv)\n--> 589         app.start()\n        app.start = <bound method IPKernelApp.start of <ipykernel.kernelapp.IPKernelApp object>>\n    590 \n    591 #-----------------------------------------------------------------------------\n    592 # utility functions, for convenience\n    593 #-----------------------------------------------------------------------------\n\n...........................................................................\n/Users/AnthonyAbercrombie/anaconda/lib/python3.5/site-packages/ipykernel/kernelapp.py in start(self=<ipykernel.kernelapp.IPKernelApp object>)\n    400         \n    401         if self.poller is not None:\n    402             self.poller.start()\n    403         self.kernel.start()\n    404         try:\n--> 405             ioloop.IOLoop.instance().start()\n    406         except KeyboardInterrupt:\n    407             pass\n    408 \n    409 launch_new_instance = IPKernelApp.launch_instance\n\n...........................................................................\n/Users/AnthonyAbercrombie/anaconda/lib/python3.5/site-packages/zmq/eventloop/ioloop.py in start(self=<zmq.eventloop.ioloop.ZMQIOLoop object>)\n    157             PollIOLoop.configure(ZMQIOLoop)\n    158         return PollIOLoop.current(*args, **kwargs)\n    159     \n    160     def start(self):\n    161         try:\n--> 162             super(ZMQIOLoop, self).start()\n        self.start = <bound method ZMQIOLoop.start of <zmq.eventloop.ioloop.ZMQIOLoop object>>\n    163         except ZMQError as e:\n    164             if e.errno == ETERM:\n    165                 # quietly return on ETERM\n    166                 pass\n\n...........................................................................\n/Users/AnthonyAbercrombie/anaconda/lib/python3.5/site-packages/tornado/ioloop.py in start(self=<zmq.eventloop.ioloop.ZMQIOLoop object>)\n    878                 self._events.update(event_pairs)\n    879                 while self._events:\n    880                     fd, events = self._events.popitem()\n    881                     try:\n    882                         fd_obj, handler_func = self._handlers[fd]\n--> 883                         handler_func(fd_obj, events)\n        handler_func = <function wrap.<locals>.null_wrapper>\n        fd_obj = <zmq.sugar.socket.Socket object>\n        events = 1\n    884                     except (OSError, IOError) as e:\n    885                         if errno_from_exception(e) == errno.EPIPE:\n    886                             # Happens when the client closes the connection\n    887                             pass\n\n...........................................................................\n/Users/AnthonyAbercrombie/anaconda/lib/python3.5/site-packages/tornado/stack_context.py in null_wrapper(*args=(<zmq.sugar.socket.Socket object>, 1), **kwargs={})\n    270         # Fast path when there are no active contexts.\n    271         def null_wrapper(*args, **kwargs):\n    272             try:\n    273                 current_state = _state.contexts\n    274                 _state.contexts = cap_contexts[0]\n--> 275                 return fn(*args, **kwargs)\n        args = (<zmq.sugar.socket.Socket object>, 1)\n        kwargs = {}\n    276             finally:\n    277                 _state.contexts = current_state\n    278         null_wrapper._wrapped = True\n    279         return null_wrapper\n\n...........................................................................\n/Users/AnthonyAbercrombie/anaconda/lib/python3.5/site-packages/zmq/eventloop/zmqstream.py in _handle_events(self=<zmq.eventloop.zmqstream.ZMQStream object>, fd=<zmq.sugar.socket.Socket object>, events=1)\n    435             # dispatch events:\n    436             if events & IOLoop.ERROR:\n    437                 gen_log.error(\"got POLLERR event on ZMQStream, which doesn't make sense\")\n    438                 return\n    439             if events & IOLoop.READ:\n--> 440                 self._handle_recv()\n        self._handle_recv = <bound method ZMQStream._handle_recv of <zmq.eventloop.zmqstream.ZMQStream object>>\n    441                 if not self.socket:\n    442                     return\n    443             if events & IOLoop.WRITE:\n    444                 self._handle_send()\n\n...........................................................................\n/Users/AnthonyAbercrombie/anaconda/lib/python3.5/site-packages/zmq/eventloop/zmqstream.py in _handle_recv(self=<zmq.eventloop.zmqstream.ZMQStream object>)\n    467                 gen_log.error(\"RECV Error: %s\"%zmq.strerror(e.errno))\n    468         else:\n    469             if self._recv_callback:\n    470                 callback = self._recv_callback\n    471                 # self._recv_callback = None\n--> 472                 self._run_callback(callback, msg)\n        self._run_callback = <bound method ZMQStream._run_callback of <zmq.eventloop.zmqstream.ZMQStream object>>\n        callback = <function wrap.<locals>.null_wrapper>\n        msg = [<zmq.sugar.frame.Frame object>, <zmq.sugar.frame.Frame object>, <zmq.sugar.frame.Frame object>, <zmq.sugar.frame.Frame object>, <zmq.sugar.frame.Frame object>, <zmq.sugar.frame.Frame object>, <zmq.sugar.frame.Frame object>]\n    473                 \n    474         # self.update_state()\n    475         \n    476 \n\n...........................................................................\n/Users/AnthonyAbercrombie/anaconda/lib/python3.5/site-packages/zmq/eventloop/zmqstream.py in _run_callback(self=<zmq.eventloop.zmqstream.ZMQStream object>, callback=<function wrap.<locals>.null_wrapper>, *args=([<zmq.sugar.frame.Frame object>, <zmq.sugar.frame.Frame object>, <zmq.sugar.frame.Frame object>, <zmq.sugar.frame.Frame object>, <zmq.sugar.frame.Frame object>, <zmq.sugar.frame.Frame object>, <zmq.sugar.frame.Frame object>],), **kwargs={})\n    409         close our socket.\"\"\"\n    410         try:\n    411             # Use a NullContext to ensure that all StackContexts are run\n    412             # inside our blanket exception handler rather than outside.\n    413             with stack_context.NullContext():\n--> 414                 callback(*args, **kwargs)\n        callback = <function wrap.<locals>.null_wrapper>\n        args = ([<zmq.sugar.frame.Frame object>, <zmq.sugar.frame.Frame object>, <zmq.sugar.frame.Frame object>, <zmq.sugar.frame.Frame object>, <zmq.sugar.frame.Frame object>, <zmq.sugar.frame.Frame object>, <zmq.sugar.frame.Frame object>],)\n        kwargs = {}\n    415         except:\n    416             gen_log.error(\"Uncaught exception, closing connection.\",\n    417                           exc_info=True)\n    418             # Close the socket on an uncaught exception from a user callback\n\n...........................................................................\n/Users/AnthonyAbercrombie/anaconda/lib/python3.5/site-packages/tornado/stack_context.py in null_wrapper(*args=([<zmq.sugar.frame.Frame object>, <zmq.sugar.frame.Frame object>, <zmq.sugar.frame.Frame object>, <zmq.sugar.frame.Frame object>, <zmq.sugar.frame.Frame object>, <zmq.sugar.frame.Frame object>, <zmq.sugar.frame.Frame object>],), **kwargs={})\n    270         # Fast path when there are no active contexts.\n    271         def null_wrapper(*args, **kwargs):\n    272             try:\n    273                 current_state = _state.contexts\n    274                 _state.contexts = cap_contexts[0]\n--> 275                 return fn(*args, **kwargs)\n        args = ([<zmq.sugar.frame.Frame object>, <zmq.sugar.frame.Frame object>, <zmq.sugar.frame.Frame object>, <zmq.sugar.frame.Frame object>, <zmq.sugar.frame.Frame object>, <zmq.sugar.frame.Frame object>, <zmq.sugar.frame.Frame object>],)\n        kwargs = {}\n    276             finally:\n    277                 _state.contexts = current_state\n    278         null_wrapper._wrapped = True\n    279         return null_wrapper\n\n...........................................................................\n/Users/AnthonyAbercrombie/anaconda/lib/python3.5/site-packages/ipykernel/kernelbase.py in dispatcher(msg=[<zmq.sugar.frame.Frame object>, <zmq.sugar.frame.Frame object>, <zmq.sugar.frame.Frame object>, <zmq.sugar.frame.Frame object>, <zmq.sugar.frame.Frame object>, <zmq.sugar.frame.Frame object>, <zmq.sugar.frame.Frame object>])\n    255         if self.control_stream:\n    256             self.control_stream.on_recv(self.dispatch_control, copy=False)\n    257 \n    258         def make_dispatcher(stream):\n    259             def dispatcher(msg):\n--> 260                 return self.dispatch_shell(stream, msg)\n        msg = [<zmq.sugar.frame.Frame object>, <zmq.sugar.frame.Frame object>, <zmq.sugar.frame.Frame object>, <zmq.sugar.frame.Frame object>, <zmq.sugar.frame.Frame object>, <zmq.sugar.frame.Frame object>, <zmq.sugar.frame.Frame object>]\n    261             return dispatcher\n    262 \n    263         for s in self.shell_streams:\n    264             s.on_recv(make_dispatcher(s), copy=False)\n\n...........................................................................\n/Users/AnthonyAbercrombie/anaconda/lib/python3.5/site-packages/ipykernel/kernelbase.py in dispatch_shell(self=<ipykernel.ipkernel.IPythonKernel object>, stream=<zmq.eventloop.zmqstream.ZMQStream object>, msg={'buffers': [], 'content': {'allow_stdin': True, 'code': '# Random Forest\\nrf_d2v_model = d2v_platform.MNB_..., kf=kf)\\npd.DataFrame.from_dict(rf_d2v_eval_dict)', 'silent': False, 'stop_on_error': True, 'store_history': True, 'user_expressions': {}}, 'header': {'date': '2016-12-15T06:57:04.217633', 'msg_id': '438CBCB1D5B1481780DBF264409166B5', 'msg_type': 'execute_request', 'session': '17023023C91C46E1A8B31FC49A09B16E', 'username': 'username', 'version': '5.0'}, 'metadata': {}, 'msg_id': '438CBCB1D5B1481780DBF264409166B5', 'msg_type': 'execute_request', 'parent_header': {}})\n    207             self.log.error(\"UNKNOWN MESSAGE TYPE: %r\", msg_type)\n    208         else:\n    209             self.log.debug(\"%s: %s\", msg_type, msg)\n    210             self.pre_handler_hook()\n    211             try:\n--> 212                 handler(stream, idents, msg)\n        handler = <bound method Kernel.execute_request of <ipykernel.ipkernel.IPythonKernel object>>\n        stream = <zmq.eventloop.zmqstream.ZMQStream object>\n        idents = [b'17023023C91C46E1A8B31FC49A09B16E']\n        msg = {'buffers': [], 'content': {'allow_stdin': True, 'code': '# Random Forest\\nrf_d2v_model = d2v_platform.MNB_..., kf=kf)\\npd.DataFrame.from_dict(rf_d2v_eval_dict)', 'silent': False, 'stop_on_error': True, 'store_history': True, 'user_expressions': {}}, 'header': {'date': '2016-12-15T06:57:04.217633', 'msg_id': '438CBCB1D5B1481780DBF264409166B5', 'msg_type': 'execute_request', 'session': '17023023C91C46E1A8B31FC49A09B16E', 'username': 'username', 'version': '5.0'}, 'metadata': {}, 'msg_id': '438CBCB1D5B1481780DBF264409166B5', 'msg_type': 'execute_request', 'parent_header': {}}\n    213             except Exception:\n    214                 self.log.error(\"Exception in message handler:\", exc_info=True)\n    215             finally:\n    216                 self.post_handler_hook()\n\n...........................................................................\n/Users/AnthonyAbercrombie/anaconda/lib/python3.5/site-packages/ipykernel/kernelbase.py in execute_request(self=<ipykernel.ipkernel.IPythonKernel object>, stream=<zmq.eventloop.zmqstream.ZMQStream object>, ident=[b'17023023C91C46E1A8B31FC49A09B16E'], parent={'buffers': [], 'content': {'allow_stdin': True, 'code': '# Random Forest\\nrf_d2v_model = d2v_platform.MNB_..., kf=kf)\\npd.DataFrame.from_dict(rf_d2v_eval_dict)', 'silent': False, 'stop_on_error': True, 'store_history': True, 'user_expressions': {}}, 'header': {'date': '2016-12-15T06:57:04.217633', 'msg_id': '438CBCB1D5B1481780DBF264409166B5', 'msg_type': 'execute_request', 'session': '17023023C91C46E1A8B31FC49A09B16E', 'username': 'username', 'version': '5.0'}, 'metadata': {}, 'msg_id': '438CBCB1D5B1481780DBF264409166B5', 'msg_type': 'execute_request', 'parent_header': {}})\n    365         if not silent:\n    366             self.execution_count += 1\n    367             self._publish_execute_input(code, parent, self.execution_count)\n    368 \n    369         reply_content = self.do_execute(code, silent, store_history,\n--> 370                                         user_expressions, allow_stdin)\n        user_expressions = {}\n        allow_stdin = True\n    371 \n    372         # Flush output before sending the reply.\n    373         sys.stdout.flush()\n    374         sys.stderr.flush()\n\n...........................................................................\n/Users/AnthonyAbercrombie/anaconda/lib/python3.5/site-packages/ipykernel/ipkernel.py in do_execute(self=<ipykernel.ipkernel.IPythonKernel object>, code='# Random Forest\\nrf_d2v_model = d2v_platform.MNB_..., kf=kf)\\npd.DataFrame.from_dict(rf_d2v_eval_dict)', silent=False, store_history=True, user_expressions={}, allow_stdin=True)\n    170 \n    171         reply_content = {}\n    172         # FIXME: the shell calls the exception handler itself.\n    173         shell._reply_content = None\n    174         try:\n--> 175             shell.run_cell(code, store_history=store_history, silent=silent)\n        shell.run_cell = <bound method InteractiveShell.run_cell of <ipykernel.zmqshell.ZMQInteractiveShell object>>\n        code = '# Random Forest\\nrf_d2v_model = d2v_platform.MNB_..., kf=kf)\\npd.DataFrame.from_dict(rf_d2v_eval_dict)'\n        store_history = True\n        silent = False\n    176         except:\n    177             status = u'error'\n    178             # FIXME: this code right now isn't being used yet by default,\n    179             # because the run_cell() call above directly fires off exception\n\n...........................................................................\n/Users/AnthonyAbercrombie/anaconda/lib/python3.5/site-packages/IPython/core/interactiveshell.py in run_cell(self=<ipykernel.zmqshell.ZMQInteractiveShell object>, raw_cell='# Random Forest\\nrf_d2v_model = d2v_platform.MNB_..., kf=kf)\\npd.DataFrame.from_dict(rf_d2v_eval_dict)', store_history=True, silent=False, shell_futures=True)\n   2897                 self.displayhook.exec_result = result\n   2898 \n   2899                 # Execute the user code\n   2900                 interactivity = \"none\" if silent else self.ast_node_interactivity\n   2901                 self.run_ast_nodes(code_ast.body, cell_name,\n-> 2902                    interactivity=interactivity, compiler=compiler, result=result)\n        interactivity = 'last_expr'\n        compiler = <IPython.core.compilerop.CachingCompiler object>\n   2903 \n   2904                 # Reset this so later displayed values do not modify the\n   2905                 # ExecutionResult\n   2906                 self.displayhook.exec_result = None\n\n...........................................................................\n/Users/AnthonyAbercrombie/anaconda/lib/python3.5/site-packages/IPython/core/interactiveshell.py in run_ast_nodes(self=<ipykernel.zmqshell.ZMQInteractiveShell object>, nodelist=[<_ast.Assign object>, <_ast.Assign object>, <_ast.Expr object>], cell_name='<ipython-input-176-5b06c1bf5c71>', interactivity='last', compiler=<IPython.core.compilerop.CachingCompiler object>, result=<IPython.core.interactiveshell.ExecutionResult object>)\n   3001 \n   3002         try:\n   3003             for i, node in enumerate(to_run_exec):\n   3004                 mod = ast.Module([node])\n   3005                 code = compiler(mod, cell_name, \"exec\")\n-> 3006                 if self.run_code(code, result):\n        self.run_code = <bound method InteractiveShell.run_code of <ipykernel.zmqshell.ZMQInteractiveShell object>>\n        code = <code object <module> at 0x11fd96390, file \"<ipython-input-176-5b06c1bf5c71>\", line 2>\n        result = <IPython.core.interactiveshell.ExecutionResult object>\n   3007                     return True\n   3008 \n   3009             for i, node in enumerate(to_run_interactive):\n   3010                 mod = ast.Interactive([node])\n\n...........................................................................\n/Users/AnthonyAbercrombie/anaconda/lib/python3.5/site-packages/IPython/core/interactiveshell.py in run_code(self=<ipykernel.zmqshell.ZMQInteractiveShell object>, code_obj=<code object <module> at 0x11fd96390, file \"<ipython-input-176-5b06c1bf5c71>\", line 2>, result=<IPython.core.interactiveshell.ExecutionResult object>)\n   3061         outflag = 1  # happens in more places, so it's easier as default\n   3062         try:\n   3063             try:\n   3064                 self.hooks.pre_run_code_hook()\n   3065                 #rprint('Running code', repr(code_obj)) # dbg\n-> 3066                 exec(code_obj, self.user_global_ns, self.user_ns)\n        code_obj = <code object <module> at 0x11fd96390, file \"<ipython-input-176-5b06c1bf5c71>\", line 2>\n        self.user_global_ns = {'ALLOW_THREADS': 1, 'AdaBoostClassifier': <class 'sklearn.ensemble.weight_boosting.AdaBoostClassifier'>, 'AdaBoostRegressor': <class 'sklearn.ensemble.weight_boosting.AdaBoostRegressor'>, 'Annotation': <class 'matplotlib.text.Annotation'>, 'Arrow': <class 'matplotlib.patches.Arrow'>, 'Artist': <class 'matplotlib.artist.Artist'>, 'AutoLocator': <class 'matplotlib.ticker.AutoLocator'>, 'Axes': <class 'matplotlib.axes._axes.Axes'>, 'BUFSIZE': 8192, 'Button': <class 'matplotlib.widgets.Button'>, ...}\n        self.user_ns = {'ALLOW_THREADS': 1, 'AdaBoostClassifier': <class 'sklearn.ensemble.weight_boosting.AdaBoostClassifier'>, 'AdaBoostRegressor': <class 'sklearn.ensemble.weight_boosting.AdaBoostRegressor'>, 'Annotation': <class 'matplotlib.text.Annotation'>, 'Arrow': <class 'matplotlib.patches.Arrow'>, 'Artist': <class 'matplotlib.artist.Artist'>, 'AutoLocator': <class 'matplotlib.ticker.AutoLocator'>, 'Axes': <class 'matplotlib.axes._axes.Axes'>, 'BUFSIZE': 8192, 'Button': <class 'matplotlib.widgets.Button'>, ...}\n   3067             finally:\n   3068                 # Reset our crash handler in place\n   3069                 sys.excepthook = old_excepthook\n   3070         except SystemExit as e:\n\n...........................................................................\n/Users/AnthonyAbercrombie/gU/DSCI6004-student/final_project/<ipython-input-176-5b06c1bf5c71> in <module>()\n      1 \n----> 2 \n      3 \n      4 \n      5 # Random Forest\n      6 rf_d2v_model = d2v_platform.MNB_Gridsearch()\n      7 rf_d2v_eval_dict = kfold_evaluation(d2v_platform.x_test, d2v_platform.y_test, model=rf_d2v_model, kf=kf)\n      8 pd.DataFrame.from_dict(rf_d2v_eval_dict)\n      9 \n     10 \n\n...........................................................................\n/Users/AnthonyAbercrombie/gU/DSCI6004-student/final_project/model.py in MNB_Gridsearch(self=<model.Classify_Thread object>)\n    141                                      mnb_grid,\n    142                                      n_jobs=-1,\n    143                                      verbose=True,\n    144                                      scoring='f1_macro')\n    145         \n--> 146         mnb_gridsearch.fit(self.x_train, self.y_train)\n        mnb_gridsearch.fit = <bound method GridSearchCV.fit of GridSearchCV(c...t=True, scoring='f1_macro',\n       verbose=True)>\n        self.x_train = array([[-0.1486951 , -0.01766709, -0.06383126, ....       -0.0024603 ,  0.04538249]], dtype=float32)\n        self.y_train = array([2, 4, 3, ..., 5, 5, 0])\n    147         return mnb_gridsearch.best_estimator_\n    148    \n    149     def RandomForest(self):\n    150         rf = RandomForestClassifier()\n\n...........................................................................\n/Users/AnthonyAbercrombie/anaconda/lib/python3.5/site-packages/sklearn/grid_search.py in fit(self=GridSearchCV(cv=None, error_score='raise',\n     ...it=True, scoring='f1_macro',\n       verbose=True), X=array([[-0.1486951 , -0.01766709, -0.06383126, ....       -0.0024603 ,  0.04538249]], dtype=float32), y=array([2, 4, 3, ..., 5, 5, 0]))\n    808         y : array-like, shape = [n_samples] or [n_samples, n_output], optional\n    809             Target relative to X for classification or regression;\n    810             None for unsupervised learning.\n    811 \n    812         \"\"\"\n--> 813         return self._fit(X, y, ParameterGrid(self.param_grid))\n        self._fit = <bound method BaseSearchCV._fit of GridSearchCV(...t=True, scoring='f1_macro',\n       verbose=True)>\n        X = array([[-0.1486951 , -0.01766709, -0.06383126, ....       -0.0024603 ,  0.04538249]], dtype=float32)\n        y = array([2, 4, 3, ..., 5, 5, 0])\n        self.param_grid = {'alpha': [0.1, 0.5, 1.0, 2.0], 'fit_prior': [True, False]}\n    814 \n    815 \n    816 class RandomizedSearchCV(BaseSearchCV):\n    817     \"\"\"Randomized search on hyper parameters.\n\n...........................................................................\n/Users/AnthonyAbercrombie/anaconda/lib/python3.5/site-packages/sklearn/grid_search.py in _fit(self=GridSearchCV(cv=None, error_score='raise',\n     ...it=True, scoring='f1_macro',\n       verbose=True), X=array([[-0.1486951 , -0.01766709, -0.06383126, ....       -0.0024603 ,  0.04538249]], dtype=float32), y=array([2, 4, 3, ..., 5, 5, 0]), parameter_iterable=<sklearn.grid_search.ParameterGrid object>)\n    556         )(\n    557             delayed(_fit_and_score)(clone(base_estimator), X, y, self.scorer_,\n    558                                     train, test, self.verbose, parameters,\n    559                                     self.fit_params, return_parameters=True,\n    560                                     error_score=self.error_score)\n--> 561                 for parameters in parameter_iterable\n        parameters = undefined\n        parameter_iterable = <sklearn.grid_search.ParameterGrid object>\n    562                 for train, test in cv)\n    563 \n    564         # Out is a list of triplet: score, estimator, n_test_samples\n    565         n_fits = len(out)\n\n...........................................................................\n/Users/AnthonyAbercrombie/anaconda/lib/python3.5/site-packages/sklearn/externals/joblib/parallel.py in __call__(self=Parallel(n_jobs=-1), iterable=<generator object BaseSearchCV._fit.<locals>.<genexpr>>)\n    763             if pre_dispatch == \"all\" or n_jobs == 1:\n    764                 # The iterable was consumed all at once by the above for loop.\n    765                 # No need to wait for async callbacks to trigger to\n    766                 # consumption.\n    767                 self._iterating = False\n--> 768             self.retrieve()\n        self.retrieve = <bound method Parallel.retrieve of Parallel(n_jobs=-1)>\n    769             # Make sure that we get a last message telling us we are done\n    770             elapsed_time = time.time() - self._start_time\n    771             self._print('Done %3i out of %3i | elapsed: %s finished',\n    772                         (len(self._output), len(self._output),\n\n---------------------------------------------------------------------------\nSub-process traceback:\n---------------------------------------------------------------------------\nValueError                                         Thu Dec 15 06:57:04 2016\nPID: 23735      Python 3.5.1: /Users/AnthonyAbercrombie/anaconda/bin/python\n...........................................................................\n/Users/AnthonyAbercrombie/anaconda/lib/python3.5/site-packages/sklearn/externals/joblib/parallel.py in __call__(self=<sklearn.externals.joblib.parallel.BatchedCalls object>)\n    126     def __init__(self, iterator_slice):\n    127         self.items = list(iterator_slice)\n    128         self._size = len(self.items)\n    129 \n    130     def __call__(self):\n--> 131         return [func(*args, **kwargs) for func, args, kwargs in self.items]\n        self.items = [(<function _fit_and_score>, (MultinomialNB(alpha=0.1, class_prior=None, fit_prior=True), memmap([[-0.1486951 , -0.01766709, -0.06383126, ...       -0.0024603 ,  0.04538249]], dtype=float32), array([2, 4, 3, ..., 5, 5, 0]), make_scorer(f1_score, average=macro, pos_label=None), array([1385, 1392, 1396, ..., 4497, 4498, 4499]), array([   0,    1,    2, ..., 1662, 1672, 1676]), True, {'alpha': 0.1, 'fit_prior': True}, {}), {'error_score': 'raise', 'return_parameters': True})]\n    132 \n    133     def __len__(self):\n    134         return self._size\n    135 \n\n...........................................................................\n/Users/AnthonyAbercrombie/anaconda/lib/python3.5/site-packages/sklearn/externals/joblib/parallel.py in <listcomp>(.0=<list_iterator object>)\n    126     def __init__(self, iterator_slice):\n    127         self.items = list(iterator_slice)\n    128         self._size = len(self.items)\n    129 \n    130     def __call__(self):\n--> 131         return [func(*args, **kwargs) for func, args, kwargs in self.items]\n        func = <function _fit_and_score>\n        args = (MultinomialNB(alpha=0.1, class_prior=None, fit_prior=True), memmap([[-0.1486951 , -0.01766709, -0.06383126, ...       -0.0024603 ,  0.04538249]], dtype=float32), array([2, 4, 3, ..., 5, 5, 0]), make_scorer(f1_score, average=macro, pos_label=None), array([1385, 1392, 1396, ..., 4497, 4498, 4499]), array([   0,    1,    2, ..., 1662, 1672, 1676]), True, {'alpha': 0.1, 'fit_prior': True}, {})\n        kwargs = {'error_score': 'raise', 'return_parameters': True}\n    132 \n    133     def __len__(self):\n    134         return self._size\n    135 \n\n...........................................................................\n/Users/AnthonyAbercrombie/anaconda/lib/python3.5/site-packages/sklearn/cross_validation.py in _fit_and_score(estimator=MultinomialNB(alpha=0.1, class_prior=None, fit_prior=True), X=memmap([[-0.1486951 , -0.01766709, -0.06383126, ...       -0.0024603 ,  0.04538249]], dtype=float32), y=array([2, 4, 3, ..., 5, 5, 0]), scorer=make_scorer(f1_score, average=macro, pos_label=None), train=array([1385, 1392, 1396, ..., 4497, 4498, 4499]), test=array([   0,    1,    2, ..., 1662, 1672, 1676]), verbose=True, parameters={'alpha': 0.1, 'fit_prior': True}, fit_params={}, return_train_score=False, return_parameters=True, error_score='raise')\n   1608 \n   1609     try:\n   1610         if y_train is None:\n   1611             estimator.fit(X_train, **fit_params)\n   1612         else:\n-> 1613             estimator.fit(X_train, y_train, **fit_params)\n        estimator.fit = <bound method BaseDiscreteNB.fit of MultinomialNB(alpha=0.1, class_prior=None, fit_prior=True)>\n        X_train = memmap([[-0.08841698, -0.01179719, -0.03438913, ...       -0.0024603 ,  0.04538249]], dtype=float32)\n        y_train = array([4, 4, 4, ..., 5, 5, 0])\n        fit_params = {}\n   1614 \n   1615     except Exception as e:\n   1616         if error_score == 'raise':\n   1617             raise\n\n...........................................................................\n/Users/AnthonyAbercrombie/anaconda/lib/python3.5/site-packages/sklearn/naive_bayes.py in fit(self=MultinomialNB(alpha=0.1, class_prior=None, fit_prior=True), X=array([[-0.08841698, -0.01179719, -0.03438913, ....       -0.0024603 ,  0.04538249]], dtype=float32), y=array([4, 4, 4, ..., 5, 5, 0]), sample_weight=None)\n    582         # and feature log probas\n    583         n_effective_classes = Y.shape[1]\n    584         self.class_count_ = np.zeros(n_effective_classes, dtype=np.float64)\n    585         self.feature_count_ = np.zeros((n_effective_classes, n_features),\n    586                                        dtype=np.float64)\n--> 587         self._count(X, Y)\n        self._count = <bound method MultinomialNB._count of MultinomialNB(alpha=0.1, class_prior=None, fit_prior=True)>\n        X = array([[-0.08841698, -0.01179719, -0.03438913, ....       -0.0024603 ,  0.04538249]], dtype=float32)\n        Y = array([[ 0.,  0.,  0.,  0.,  1.,  0.],\n       [ ...0.,  1.],\n       [ 1.,  0.,  0.,  0.,  0.,  0.]])\n    588         self._update_feature_log_prob()\n    589         self._update_class_log_prior(class_prior=class_prior)\n    590         return self\n    591 \n\n...........................................................................\n/Users/AnthonyAbercrombie/anaconda/lib/python3.5/site-packages/sklearn/naive_bayes.py in _count(self=MultinomialNB(alpha=0.1, class_prior=None, fit_prior=True), X=array([[-0.08841698, -0.01179719, -0.03438913, ....       -0.0024603 ,  0.04538249]], dtype=float32), Y=array([[ 0.,  0.,  0.,  0.,  1.,  0.],\n       [ ...0.,  1.],\n       [ 1.,  0.,  0.,  0.,  0.,  0.]]))\n    685         self.class_prior = class_prior\n    686 \n    687     def _count(self, X, Y):\n    688         \"\"\"Count and smooth feature occurrences.\"\"\"\n    689         if np.any((X.data if issparse(X) else X) < 0):\n--> 690             raise ValueError(\"Input X must be non-negative\")\n    691         self.feature_count_ += safe_sparse_dot(Y.T, X)\n    692         self.class_count_ += Y.sum(axis=0)\n    693 \n    694     def _update_feature_log_prob(self):\n\nValueError: Input X must be non-negative\n___________________________________________________________________________",
     "output_type": "error",
     "traceback": [
      "\u001b[0;31m---------------------------------------------------------------------------\u001b[0m",
      "\u001b[0;31mRemoteTraceback\u001b[0m                           Traceback (most recent call last)",
      "\u001b[0;31mRemoteTraceback\u001b[0m: \n\"\"\"\nTraceback (most recent call last):\n  File \"/Users/AnthonyAbercrombie/anaconda/lib/python3.5/site-packages/sklearn/externals/joblib/_parallel_backends.py\", line 340, in __call__\n    return self.func(*args, **kwargs)\n  File \"/Users/AnthonyAbercrombie/anaconda/lib/python3.5/site-packages/sklearn/externals/joblib/parallel.py\", line 131, in __call__\n    return [func(*args, **kwargs) for func, args, kwargs in self.items]\n  File \"/Users/AnthonyAbercrombie/anaconda/lib/python3.5/site-packages/sklearn/externals/joblib/parallel.py\", line 131, in <listcomp>\n    return [func(*args, **kwargs) for func, args, kwargs in self.items]\n  File \"/Users/AnthonyAbercrombie/anaconda/lib/python3.5/site-packages/sklearn/cross_validation.py\", line 1613, in _fit_and_score\n    estimator.fit(X_train, y_train, **fit_params)\n  File \"/Users/AnthonyAbercrombie/anaconda/lib/python3.5/site-packages/sklearn/naive_bayes.py\", line 587, in fit\n    self._count(X, Y)\n  File \"/Users/AnthonyAbercrombie/anaconda/lib/python3.5/site-packages/sklearn/naive_bayes.py\", line 690, in _count\n    raise ValueError(\"Input X must be non-negative\")\nValueError: Input X must be non-negative\n\nDuring handling of the above exception, another exception occurred:\n\nTraceback (most recent call last):\n  File \"/Users/AnthonyAbercrombie/anaconda/lib/python3.5/multiprocessing/pool.py\", line 119, in worker\n    result = (True, func(*args, **kwds))\n  File \"/Users/AnthonyAbercrombie/anaconda/lib/python3.5/site-packages/sklearn/externals/joblib/_parallel_backends.py\", line 349, in __call__\n    raise TransportableException(text, e_type)\nsklearn.externals.joblib.my_exceptions.TransportableException: TransportableException\n___________________________________________________________________________\nValueError                                         Thu Dec 15 06:57:04 2016\nPID: 23735      Python 3.5.1: /Users/AnthonyAbercrombie/anaconda/bin/python\n...........................................................................\n/Users/AnthonyAbercrombie/anaconda/lib/python3.5/site-packages/sklearn/externals/joblib/parallel.py in __call__(self=<sklearn.externals.joblib.parallel.BatchedCalls object>)\n    126     def __init__(self, iterator_slice):\n    127         self.items = list(iterator_slice)\n    128         self._size = len(self.items)\n    129 \n    130     def __call__(self):\n--> 131         return [func(*args, **kwargs) for func, args, kwargs in self.items]\n        self.items = [(<function _fit_and_score>, (MultinomialNB(alpha=0.1, class_prior=None, fit_prior=True), memmap([[-0.1486951 , -0.01766709, -0.06383126, ...       -0.0024603 ,  0.04538249]], dtype=float32), array([2, 4, 3, ..., 5, 5, 0]), make_scorer(f1_score, average=macro, pos_label=None), array([1385, 1392, 1396, ..., 4497, 4498, 4499]), array([   0,    1,    2, ..., 1662, 1672, 1676]), True, {'alpha': 0.1, 'fit_prior': True}, {}), {'error_score': 'raise', 'return_parameters': True})]\n    132 \n    133     def __len__(self):\n    134         return self._size\n    135 \n\n...........................................................................\n/Users/AnthonyAbercrombie/anaconda/lib/python3.5/site-packages/sklearn/externals/joblib/parallel.py in <listcomp>(.0=<list_iterator object>)\n    126     def __init__(self, iterator_slice):\n    127         self.items = list(iterator_slice)\n    128         self._size = len(self.items)\n    129 \n    130     def __call__(self):\n--> 131         return [func(*args, **kwargs) for func, args, kwargs in self.items]\n        func = <function _fit_and_score>\n        args = (MultinomialNB(alpha=0.1, class_prior=None, fit_prior=True), memmap([[-0.1486951 , -0.01766709, -0.06383126, ...       -0.0024603 ,  0.04538249]], dtype=float32), array([2, 4, 3, ..., 5, 5, 0]), make_scorer(f1_score, average=macro, pos_label=None), array([1385, 1392, 1396, ..., 4497, 4498, 4499]), array([   0,    1,    2, ..., 1662, 1672, 1676]), True, {'alpha': 0.1, 'fit_prior': True}, {})\n        kwargs = {'error_score': 'raise', 'return_parameters': True}\n    132 \n    133     def __len__(self):\n    134         return self._size\n    135 \n\n...........................................................................\n/Users/AnthonyAbercrombie/anaconda/lib/python3.5/site-packages/sklearn/cross_validation.py in _fit_and_score(estimator=MultinomialNB(alpha=0.1, class_prior=None, fit_prior=True), X=memmap([[-0.1486951 , -0.01766709, -0.06383126, ...       -0.0024603 ,  0.04538249]], dtype=float32), y=array([2, 4, 3, ..., 5, 5, 0]), scorer=make_scorer(f1_score, average=macro, pos_label=None), train=array([1385, 1392, 1396, ..., 4497, 4498, 4499]), test=array([   0,    1,    2, ..., 1662, 1672, 1676]), verbose=True, parameters={'alpha': 0.1, 'fit_prior': True}, fit_params={}, return_train_score=False, return_parameters=True, error_score='raise')\n   1608 \n   1609     try:\n   1610         if y_train is None:\n   1611             estimator.fit(X_train, **fit_params)\n   1612         else:\n-> 1613             estimator.fit(X_train, y_train, **fit_params)\n        estimator.fit = <bound method BaseDiscreteNB.fit of MultinomialNB(alpha=0.1, class_prior=None, fit_prior=True)>\n        X_train = memmap([[-0.08841698, -0.01179719, -0.03438913, ...       -0.0024603 ,  0.04538249]], dtype=float32)\n        y_train = array([4, 4, 4, ..., 5, 5, 0])\n        fit_params = {}\n   1614 \n   1615     except Exception as e:\n   1616         if error_score == 'raise':\n   1617             raise\n\n...........................................................................\n/Users/AnthonyAbercrombie/anaconda/lib/python3.5/site-packages/sklearn/naive_bayes.py in fit(self=MultinomialNB(alpha=0.1, class_prior=None, fit_prior=True), X=array([[-0.08841698, -0.01179719, -0.03438913, ....       -0.0024603 ,  0.04538249]], dtype=float32), y=array([4, 4, 4, ..., 5, 5, 0]), sample_weight=None)\n    582         # and feature log probas\n    583         n_effective_classes = Y.shape[1]\n    584         self.class_count_ = np.zeros(n_effective_classes, dtype=np.float64)\n    585         self.feature_count_ = np.zeros((n_effective_classes, n_features),\n    586                                        dtype=np.float64)\n--> 587         self._count(X, Y)\n        self._count = <bound method MultinomialNB._count of MultinomialNB(alpha=0.1, class_prior=None, fit_prior=True)>\n        X = array([[-0.08841698, -0.01179719, -0.03438913, ....       -0.0024603 ,  0.04538249]], dtype=float32)\n        Y = array([[ 0.,  0.,  0.,  0.,  1.,  0.],\n       [ ...0.,  1.],\n       [ 1.,  0.,  0.,  0.,  0.,  0.]])\n    588         self._update_feature_log_prob()\n    589         self._update_class_log_prior(class_prior=class_prior)\n    590         return self\n    591 \n\n...........................................................................\n/Users/AnthonyAbercrombie/anaconda/lib/python3.5/site-packages/sklearn/naive_bayes.py in _count(self=MultinomialNB(alpha=0.1, class_prior=None, fit_prior=True), X=array([[-0.08841698, -0.01179719, -0.03438913, ....       -0.0024603 ,  0.04538249]], dtype=float32), Y=array([[ 0.,  0.,  0.,  0.,  1.,  0.],\n       [ ...0.,  1.],\n       [ 1.,  0.,  0.,  0.,  0.,  0.]]))\n    685         self.class_prior = class_prior\n    686 \n    687     def _count(self, X, Y):\n    688         \"\"\"Count and smooth feature occurrences.\"\"\"\n    689         if np.any((X.data if issparse(X) else X) < 0):\n--> 690             raise ValueError(\"Input X must be non-negative\")\n    691         self.feature_count_ += safe_sparse_dot(Y.T, X)\n    692         self.class_count_ += Y.sum(axis=0)\n    693 \n    694     def _update_feature_log_prob(self):\n\nValueError: Input X must be non-negative\n___________________________________________________________________________\n\"\"\"",
      "\nThe above exception was the direct cause of the following exception:\n",
      "\u001b[0;31mTransportableException\u001b[0m                    Traceback (most recent call last)",
      "\u001b[0;32m/Users/AnthonyAbercrombie/anaconda/lib/python3.5/site-packages/sklearn/externals/joblib/parallel.py\u001b[0m in \u001b[0;36mretrieve\u001b[0;34m(self)\u001b[0m\n\u001b[1;32m    681\u001b[0m                 \u001b[0;32mif\u001b[0m \u001b[0;34m'timeout'\u001b[0m \u001b[0;32min\u001b[0m \u001b[0mgetfullargspec\u001b[0m\u001b[0;34m(\u001b[0m\u001b[0mjob\u001b[0m\u001b[0;34m.\u001b[0m\u001b[0mget\u001b[0m\u001b[0;34m)\u001b[0m\u001b[0;34m.\u001b[0m\u001b[0margs\u001b[0m\u001b[0;34m:\u001b[0m\u001b[0;34m\u001b[0m\u001b[0m\n\u001b[0;32m--> 682\u001b[0;31m                     \u001b[0mself\u001b[0m\u001b[0;34m.\u001b[0m\u001b[0m_output\u001b[0m\u001b[0;34m.\u001b[0m\u001b[0mextend\u001b[0m\u001b[0;34m(\u001b[0m\u001b[0mjob\u001b[0m\u001b[0;34m.\u001b[0m\u001b[0mget\u001b[0m\u001b[0;34m(\u001b[0m\u001b[0mtimeout\u001b[0m\u001b[0;34m=\u001b[0m\u001b[0mself\u001b[0m\u001b[0;34m.\u001b[0m\u001b[0mtimeout\u001b[0m\u001b[0;34m)\u001b[0m\u001b[0;34m)\u001b[0m\u001b[0;34m\u001b[0m\u001b[0m\n\u001b[0m\u001b[1;32m    683\u001b[0m                 \u001b[0;32melse\u001b[0m\u001b[0;34m:\u001b[0m\u001b[0;34m\u001b[0m\u001b[0m\n",
      "\u001b[0;32m/Users/AnthonyAbercrombie/anaconda/lib/python3.5/multiprocessing/pool.py\u001b[0m in \u001b[0;36mget\u001b[0;34m(self, timeout)\u001b[0m\n\u001b[1;32m    607\u001b[0m         \u001b[0;32melse\u001b[0m\u001b[0;34m:\u001b[0m\u001b[0;34m\u001b[0m\u001b[0m\n\u001b[0;32m--> 608\u001b[0;31m             \u001b[0;32mraise\u001b[0m \u001b[0mself\u001b[0m\u001b[0;34m.\u001b[0m\u001b[0m_value\u001b[0m\u001b[0;34m\u001b[0m\u001b[0m\n\u001b[0m\u001b[1;32m    609\u001b[0m \u001b[0;34m\u001b[0m\u001b[0m\n",
      "\u001b[0;31mTransportableException\u001b[0m: TransportableException\n___________________________________________________________________________\nValueError                                         Thu Dec 15 06:57:04 2016\nPID: 23735      Python 3.5.1: /Users/AnthonyAbercrombie/anaconda/bin/python\n...........................................................................\n/Users/AnthonyAbercrombie/anaconda/lib/python3.5/site-packages/sklearn/externals/joblib/parallel.py in __call__(self=<sklearn.externals.joblib.parallel.BatchedCalls object>)\n    126     def __init__(self, iterator_slice):\n    127         self.items = list(iterator_slice)\n    128         self._size = len(self.items)\n    129 \n    130     def __call__(self):\n--> 131         return [func(*args, **kwargs) for func, args, kwargs in self.items]\n        self.items = [(<function _fit_and_score>, (MultinomialNB(alpha=0.1, class_prior=None, fit_prior=True), memmap([[-0.1486951 , -0.01766709, -0.06383126, ...       -0.0024603 ,  0.04538249]], dtype=float32), array([2, 4, 3, ..., 5, 5, 0]), make_scorer(f1_score, average=macro, pos_label=None), array([1385, 1392, 1396, ..., 4497, 4498, 4499]), array([   0,    1,    2, ..., 1662, 1672, 1676]), True, {'alpha': 0.1, 'fit_prior': True}, {}), {'error_score': 'raise', 'return_parameters': True})]\n    132 \n    133     def __len__(self):\n    134         return self._size\n    135 \n\n...........................................................................\n/Users/AnthonyAbercrombie/anaconda/lib/python3.5/site-packages/sklearn/externals/joblib/parallel.py in <listcomp>(.0=<list_iterator object>)\n    126     def __init__(self, iterator_slice):\n    127         self.items = list(iterator_slice)\n    128         self._size = len(self.items)\n    129 \n    130     def __call__(self):\n--> 131         return [func(*args, **kwargs) for func, args, kwargs in self.items]\n        func = <function _fit_and_score>\n        args = (MultinomialNB(alpha=0.1, class_prior=None, fit_prior=True), memmap([[-0.1486951 , -0.01766709, -0.06383126, ...       -0.0024603 ,  0.04538249]], dtype=float32), array([2, 4, 3, ..., 5, 5, 0]), make_scorer(f1_score, average=macro, pos_label=None), array([1385, 1392, 1396, ..., 4497, 4498, 4499]), array([   0,    1,    2, ..., 1662, 1672, 1676]), True, {'alpha': 0.1, 'fit_prior': True}, {})\n        kwargs = {'error_score': 'raise', 'return_parameters': True}\n    132 \n    133     def __len__(self):\n    134         return self._size\n    135 \n\n...........................................................................\n/Users/AnthonyAbercrombie/anaconda/lib/python3.5/site-packages/sklearn/cross_validation.py in _fit_and_score(estimator=MultinomialNB(alpha=0.1, class_prior=None, fit_prior=True), X=memmap([[-0.1486951 , -0.01766709, -0.06383126, ...       -0.0024603 ,  0.04538249]], dtype=float32), y=array([2, 4, 3, ..., 5, 5, 0]), scorer=make_scorer(f1_score, average=macro, pos_label=None), train=array([1385, 1392, 1396, ..., 4497, 4498, 4499]), test=array([   0,    1,    2, ..., 1662, 1672, 1676]), verbose=True, parameters={'alpha': 0.1, 'fit_prior': True}, fit_params={}, return_train_score=False, return_parameters=True, error_score='raise')\n   1608 \n   1609     try:\n   1610         if y_train is None:\n   1611             estimator.fit(X_train, **fit_params)\n   1612         else:\n-> 1613             estimator.fit(X_train, y_train, **fit_params)\n        estimator.fit = <bound method BaseDiscreteNB.fit of MultinomialNB(alpha=0.1, class_prior=None, fit_prior=True)>\n        X_train = memmap([[-0.08841698, -0.01179719, -0.03438913, ...       -0.0024603 ,  0.04538249]], dtype=float32)\n        y_train = array([4, 4, 4, ..., 5, 5, 0])\n        fit_params = {}\n   1614 \n   1615     except Exception as e:\n   1616         if error_score == 'raise':\n   1617             raise\n\n...........................................................................\n/Users/AnthonyAbercrombie/anaconda/lib/python3.5/site-packages/sklearn/naive_bayes.py in fit(self=MultinomialNB(alpha=0.1, class_prior=None, fit_prior=True), X=array([[-0.08841698, -0.01179719, -0.03438913, ....       -0.0024603 ,  0.04538249]], dtype=float32), y=array([4, 4, 4, ..., 5, 5, 0]), sample_weight=None)\n    582         # and feature log probas\n    583         n_effective_classes = Y.shape[1]\n    584         self.class_count_ = np.zeros(n_effective_classes, dtype=np.float64)\n    585         self.feature_count_ = np.zeros((n_effective_classes, n_features),\n    586                                        dtype=np.float64)\n--> 587         self._count(X, Y)\n        self._count = <bound method MultinomialNB._count of MultinomialNB(alpha=0.1, class_prior=None, fit_prior=True)>\n        X = array([[-0.08841698, -0.01179719, -0.03438913, ....       -0.0024603 ,  0.04538249]], dtype=float32)\n        Y = array([[ 0.,  0.,  0.,  0.,  1.,  0.],\n       [ ...0.,  1.],\n       [ 1.,  0.,  0.,  0.,  0.,  0.]])\n    588         self._update_feature_log_prob()\n    589         self._update_class_log_prior(class_prior=class_prior)\n    590         return self\n    591 \n\n...........................................................................\n/Users/AnthonyAbercrombie/anaconda/lib/python3.5/site-packages/sklearn/naive_bayes.py in _count(self=MultinomialNB(alpha=0.1, class_prior=None, fit_prior=True), X=array([[-0.08841698, -0.01179719, -0.03438913, ....       -0.0024603 ,  0.04538249]], dtype=float32), Y=array([[ 0.,  0.,  0.,  0.,  1.,  0.],\n       [ ...0.,  1.],\n       [ 1.,  0.,  0.,  0.,  0.,  0.]]))\n    685         self.class_prior = class_prior\n    686 \n    687     def _count(self, X, Y):\n    688         \"\"\"Count and smooth feature occurrences.\"\"\"\n    689         if np.any((X.data if issparse(X) else X) < 0):\n--> 690             raise ValueError(\"Input X must be non-negative\")\n    691         self.feature_count_ += safe_sparse_dot(Y.T, X)\n    692         self.class_count_ += Y.sum(axis=0)\n    693 \n    694     def _update_feature_log_prob(self):\n\nValueError: Input X must be non-negative\n___________________________________________________________________________",
      "\nDuring handling of the above exception, another exception occurred:\n",
      "\u001b[0;31mJoblibValueError\u001b[0m                          Traceback (most recent call last)",
      "\u001b[0;32m<ipython-input-176-5b06c1bf5c71>\u001b[0m in \u001b[0;36m<module>\u001b[0;34m()\u001b[0m\n\u001b[1;32m      1\u001b[0m \u001b[0;31m# Random Forest\u001b[0m\u001b[0;34m\u001b[0m\u001b[0;34m\u001b[0m\u001b[0m\n\u001b[0;32m----> 2\u001b[0;31m \u001b[0mrf_d2v_model\u001b[0m \u001b[0;34m=\u001b[0m \u001b[0md2v_platform\u001b[0m\u001b[0;34m.\u001b[0m\u001b[0mMNB_Gridsearch\u001b[0m\u001b[0;34m(\u001b[0m\u001b[0;34m)\u001b[0m\u001b[0;34m\u001b[0m\u001b[0m\n\u001b[0m\u001b[1;32m      3\u001b[0m \u001b[0mrf_d2v_eval_dict\u001b[0m \u001b[0;34m=\u001b[0m \u001b[0mkfold_evaluation\u001b[0m\u001b[0;34m(\u001b[0m\u001b[0md2v_platform\u001b[0m\u001b[0;34m.\u001b[0m\u001b[0mx_test\u001b[0m\u001b[0;34m,\u001b[0m \u001b[0md2v_platform\u001b[0m\u001b[0;34m.\u001b[0m\u001b[0my_test\u001b[0m\u001b[0;34m,\u001b[0m \u001b[0mmodel\u001b[0m\u001b[0;34m=\u001b[0m\u001b[0mrf_d2v_model\u001b[0m\u001b[0;34m,\u001b[0m \u001b[0mkf\u001b[0m\u001b[0;34m=\u001b[0m\u001b[0mkf\u001b[0m\u001b[0;34m)\u001b[0m\u001b[0;34m\u001b[0m\u001b[0m\n\u001b[1;32m      4\u001b[0m \u001b[0mpd\u001b[0m\u001b[0;34m.\u001b[0m\u001b[0mDataFrame\u001b[0m\u001b[0;34m.\u001b[0m\u001b[0mfrom_dict\u001b[0m\u001b[0;34m(\u001b[0m\u001b[0mrf_d2v_eval_dict\u001b[0m\u001b[0;34m)\u001b[0m\u001b[0;34m\u001b[0m\u001b[0m\n",
      "\u001b[0;32m/Users/AnthonyAbercrombie/gU/DSCI6004-student/final_project/model.py\u001b[0m in \u001b[0;36mMNB_Gridsearch\u001b[0;34m(self)\u001b[0m\n\u001b[1;32m    144\u001b[0m                                      scoring='f1_macro')\n\u001b[1;32m    145\u001b[0m \u001b[0;34m\u001b[0m\u001b[0m\n\u001b[0;32m--> 146\u001b[0;31m         \u001b[0mmnb_gridsearch\u001b[0m\u001b[0;34m.\u001b[0m\u001b[0mfit\u001b[0m\u001b[0;34m(\u001b[0m\u001b[0mself\u001b[0m\u001b[0;34m.\u001b[0m\u001b[0mx_train\u001b[0m\u001b[0;34m,\u001b[0m \u001b[0mself\u001b[0m\u001b[0;34m.\u001b[0m\u001b[0my_train\u001b[0m\u001b[0;34m)\u001b[0m\u001b[0;34m\u001b[0m\u001b[0m\n\u001b[0m\u001b[1;32m    147\u001b[0m         \u001b[0;32mreturn\u001b[0m \u001b[0mmnb_gridsearch\u001b[0m\u001b[0;34m.\u001b[0m\u001b[0mbest_estimator_\u001b[0m\u001b[0;34m\u001b[0m\u001b[0m\n\u001b[1;32m    148\u001b[0m \u001b[0;34m\u001b[0m\u001b[0m\n",
      "\u001b[0;32m/Users/AnthonyAbercrombie/anaconda/lib/python3.5/site-packages/sklearn/grid_search.py\u001b[0m in \u001b[0;36mfit\u001b[0;34m(self, X, y)\u001b[0m\n\u001b[1;32m    811\u001b[0m \u001b[0;34m\u001b[0m\u001b[0m\n\u001b[1;32m    812\u001b[0m         \"\"\"\n\u001b[0;32m--> 813\u001b[0;31m         \u001b[0;32mreturn\u001b[0m \u001b[0mself\u001b[0m\u001b[0;34m.\u001b[0m\u001b[0m_fit\u001b[0m\u001b[0;34m(\u001b[0m\u001b[0mX\u001b[0m\u001b[0;34m,\u001b[0m \u001b[0my\u001b[0m\u001b[0;34m,\u001b[0m \u001b[0mParameterGrid\u001b[0m\u001b[0;34m(\u001b[0m\u001b[0mself\u001b[0m\u001b[0;34m.\u001b[0m\u001b[0mparam_grid\u001b[0m\u001b[0;34m)\u001b[0m\u001b[0;34m)\u001b[0m\u001b[0;34m\u001b[0m\u001b[0m\n\u001b[0m\u001b[1;32m    814\u001b[0m \u001b[0;34m\u001b[0m\u001b[0m\n\u001b[1;32m    815\u001b[0m \u001b[0;34m\u001b[0m\u001b[0m\n",
      "\u001b[0;32m/Users/AnthonyAbercrombie/anaconda/lib/python3.5/site-packages/sklearn/grid_search.py\u001b[0m in \u001b[0;36m_fit\u001b[0;34m(self, X, y, parameter_iterable)\u001b[0m\n\u001b[1;32m    559\u001b[0m                                     \u001b[0mself\u001b[0m\u001b[0;34m.\u001b[0m\u001b[0mfit_params\u001b[0m\u001b[0;34m,\u001b[0m \u001b[0mreturn_parameters\u001b[0m\u001b[0;34m=\u001b[0m\u001b[0;32mTrue\u001b[0m\u001b[0;34m,\u001b[0m\u001b[0;34m\u001b[0m\u001b[0m\n\u001b[1;32m    560\u001b[0m                                     error_score=self.error_score)\n\u001b[0;32m--> 561\u001b[0;31m                 \u001b[0;32mfor\u001b[0m \u001b[0mparameters\u001b[0m \u001b[0;32min\u001b[0m \u001b[0mparameter_iterable\u001b[0m\u001b[0;34m\u001b[0m\u001b[0m\n\u001b[0m\u001b[1;32m    562\u001b[0m                 for train, test in cv)\n\u001b[1;32m    563\u001b[0m \u001b[0;34m\u001b[0m\u001b[0m\n",
      "\u001b[0;32m/Users/AnthonyAbercrombie/anaconda/lib/python3.5/site-packages/sklearn/externals/joblib/parallel.py\u001b[0m in \u001b[0;36m__call__\u001b[0;34m(self, iterable)\u001b[0m\n\u001b[1;32m    766\u001b[0m                 \u001b[0;31m# consumption.\u001b[0m\u001b[0;34m\u001b[0m\u001b[0;34m\u001b[0m\u001b[0m\n\u001b[1;32m    767\u001b[0m                 \u001b[0mself\u001b[0m\u001b[0;34m.\u001b[0m\u001b[0m_iterating\u001b[0m \u001b[0;34m=\u001b[0m \u001b[0;32mFalse\u001b[0m\u001b[0;34m\u001b[0m\u001b[0m\n\u001b[0;32m--> 768\u001b[0;31m             \u001b[0mself\u001b[0m\u001b[0;34m.\u001b[0m\u001b[0mretrieve\u001b[0m\u001b[0;34m(\u001b[0m\u001b[0;34m)\u001b[0m\u001b[0;34m\u001b[0m\u001b[0m\n\u001b[0m\u001b[1;32m    769\u001b[0m             \u001b[0;31m# Make sure that we get a last message telling us we are done\u001b[0m\u001b[0;34m\u001b[0m\u001b[0;34m\u001b[0m\u001b[0m\n\u001b[1;32m    770\u001b[0m             \u001b[0melapsed_time\u001b[0m \u001b[0;34m=\u001b[0m \u001b[0mtime\u001b[0m\u001b[0;34m.\u001b[0m\u001b[0mtime\u001b[0m\u001b[0;34m(\u001b[0m\u001b[0;34m)\u001b[0m \u001b[0;34m-\u001b[0m \u001b[0mself\u001b[0m\u001b[0;34m.\u001b[0m\u001b[0m_start_time\u001b[0m\u001b[0;34m\u001b[0m\u001b[0m\n",
      "\u001b[0;32m/Users/AnthonyAbercrombie/anaconda/lib/python3.5/site-packages/sklearn/externals/joblib/parallel.py\u001b[0m in \u001b[0;36mretrieve\u001b[0;34m(self)\u001b[0m\n\u001b[1;32m    717\u001b[0m                     \u001b[0mensure_ready\u001b[0m \u001b[0;34m=\u001b[0m \u001b[0mself\u001b[0m\u001b[0;34m.\u001b[0m\u001b[0m_managed_backend\u001b[0m\u001b[0;34m\u001b[0m\u001b[0m\n\u001b[1;32m    718\u001b[0m                     \u001b[0mbackend\u001b[0m\u001b[0;34m.\u001b[0m\u001b[0mabort_everything\u001b[0m\u001b[0;34m(\u001b[0m\u001b[0mensure_ready\u001b[0m\u001b[0;34m=\u001b[0m\u001b[0mensure_ready\u001b[0m\u001b[0;34m)\u001b[0m\u001b[0;34m\u001b[0m\u001b[0m\n\u001b[0;32m--> 719\u001b[0;31m                 \u001b[0;32mraise\u001b[0m \u001b[0mexception\u001b[0m\u001b[0;34m\u001b[0m\u001b[0m\n\u001b[0m\u001b[1;32m    720\u001b[0m \u001b[0;34m\u001b[0m\u001b[0m\n\u001b[1;32m    721\u001b[0m     \u001b[0;32mdef\u001b[0m \u001b[0m__call__\u001b[0m\u001b[0;34m(\u001b[0m\u001b[0mself\u001b[0m\u001b[0;34m,\u001b[0m \u001b[0miterable\u001b[0m\u001b[0;34m)\u001b[0m\u001b[0;34m:\u001b[0m\u001b[0;34m\u001b[0m\u001b[0m\n",
      "\u001b[0;31mJoblibValueError\u001b[0m: JoblibValueError\n___________________________________________________________________________\nMultiprocessing exception:\n...........................................................................\n/Users/AnthonyAbercrombie/anaconda/lib/python3.5/runpy.py in _run_module_as_main(mod_name='ipykernel.__main__', alter_argv=1)\n    165         sys.exit(msg)\n    166     main_globals = sys.modules[\"__main__\"].__dict__\n    167     if alter_argv:\n    168         sys.argv[0] = mod_spec.origin\n    169     return _run_code(code, main_globals, None,\n--> 170                      \"__main__\", mod_spec)\n        mod_spec = ModuleSpec(name='ipykernel.__main__', loader=<_f...b/python3.5/site-packages/ipykernel/__main__.py')\n    171 \n    172 def run_module(mod_name, init_globals=None,\n    173                run_name=None, alter_sys=False):\n    174     \"\"\"Execute a module's code without importing it\n\n...........................................................................\n/Users/AnthonyAbercrombie/anaconda/lib/python3.5/runpy.py in _run_code(code=<code object <module> at 0x1027c85d0, file \"/Use...3.5/site-packages/ipykernel/__main__.py\", line 1>, run_globals={'__builtins__': <module 'builtins' (built-in)>, '__cached__': '/Users/AnthonyAbercrombie/anaconda/lib/python3.5...ges/ipykernel/__pycache__/__main__.cpython-35.pyc', '__doc__': None, '__file__': '/Users/AnthonyAbercrombie/anaconda/lib/python3.5/site-packages/ipykernel/__main__.py', '__loader__': <_frozen_importlib_external.SourceFileLoader object>, '__name__': '__main__', '__package__': 'ipykernel', '__spec__': ModuleSpec(name='ipykernel.__main__', loader=<_f...b/python3.5/site-packages/ipykernel/__main__.py'), 'app': <module 'ipykernel.kernelapp' from '/Users/Antho.../python3.5/site-packages/ipykernel/kernelapp.py'>}, init_globals=None, mod_name='__main__', mod_spec=ModuleSpec(name='ipykernel.__main__', loader=<_f...b/python3.5/site-packages/ipykernel/__main__.py'), pkg_name='ipykernel', script_name=None)\n     80                        __cached__ = cached,\n     81                        __doc__ = None,\n     82                        __loader__ = loader,\n     83                        __package__ = pkg_name,\n     84                        __spec__ = mod_spec)\n---> 85     exec(code, run_globals)\n        code = <code object <module> at 0x1027c85d0, file \"/Use...3.5/site-packages/ipykernel/__main__.py\", line 1>\n        run_globals = {'__builtins__': <module 'builtins' (built-in)>, '__cached__': '/Users/AnthonyAbercrombie/anaconda/lib/python3.5...ges/ipykernel/__pycache__/__main__.cpython-35.pyc', '__doc__': None, '__file__': '/Users/AnthonyAbercrombie/anaconda/lib/python3.5/site-packages/ipykernel/__main__.py', '__loader__': <_frozen_importlib_external.SourceFileLoader object>, '__name__': '__main__', '__package__': 'ipykernel', '__spec__': ModuleSpec(name='ipykernel.__main__', loader=<_f...b/python3.5/site-packages/ipykernel/__main__.py'), 'app': <module 'ipykernel.kernelapp' from '/Users/Antho.../python3.5/site-packages/ipykernel/kernelapp.py'>}\n     86     return run_globals\n     87 \n     88 def _run_module_code(code, init_globals=None,\n     89                     mod_name=None, mod_spec=None,\n\n...........................................................................\n/Users/AnthonyAbercrombie/anaconda/lib/python3.5/site-packages/ipykernel/__main__.py in <module>()\n      1 \n      2 \n----> 3 \n      4 if __name__ == '__main__':\n      5     from ipykernel import kernelapp as app\n      6     app.launch_new_instance()\n      7 \n      8 \n      9 \n     10 \n\n...........................................................................\n/Users/AnthonyAbercrombie/anaconda/lib/python3.5/site-packages/traitlets/config/application.py in launch_instance(cls=<class 'ipykernel.kernelapp.IPKernelApp'>, argv=None, **kwargs={})\n    584         \n    585         If a global instance already exists, this reinitializes and starts it\n    586         \"\"\"\n    587         app = cls.instance(**kwargs)\n    588         app.initialize(argv)\n--> 589         app.start()\n        app.start = <bound method IPKernelApp.start of <ipykernel.kernelapp.IPKernelApp object>>\n    590 \n    591 #-----------------------------------------------------------------------------\n    592 # utility functions, for convenience\n    593 #-----------------------------------------------------------------------------\n\n...........................................................................\n/Users/AnthonyAbercrombie/anaconda/lib/python3.5/site-packages/ipykernel/kernelapp.py in start(self=<ipykernel.kernelapp.IPKernelApp object>)\n    400         \n    401         if self.poller is not None:\n    402             self.poller.start()\n    403         self.kernel.start()\n    404         try:\n--> 405             ioloop.IOLoop.instance().start()\n    406         except KeyboardInterrupt:\n    407             pass\n    408 \n    409 launch_new_instance = IPKernelApp.launch_instance\n\n...........................................................................\n/Users/AnthonyAbercrombie/anaconda/lib/python3.5/site-packages/zmq/eventloop/ioloop.py in start(self=<zmq.eventloop.ioloop.ZMQIOLoop object>)\n    157             PollIOLoop.configure(ZMQIOLoop)\n    158         return PollIOLoop.current(*args, **kwargs)\n    159     \n    160     def start(self):\n    161         try:\n--> 162             super(ZMQIOLoop, self).start()\n        self.start = <bound method ZMQIOLoop.start of <zmq.eventloop.ioloop.ZMQIOLoop object>>\n    163         except ZMQError as e:\n    164             if e.errno == ETERM:\n    165                 # quietly return on ETERM\n    166                 pass\n\n...........................................................................\n/Users/AnthonyAbercrombie/anaconda/lib/python3.5/site-packages/tornado/ioloop.py in start(self=<zmq.eventloop.ioloop.ZMQIOLoop object>)\n    878                 self._events.update(event_pairs)\n    879                 while self._events:\n    880                     fd, events = self._events.popitem()\n    881                     try:\n    882                         fd_obj, handler_func = self._handlers[fd]\n--> 883                         handler_func(fd_obj, events)\n        handler_func = <function wrap.<locals>.null_wrapper>\n        fd_obj = <zmq.sugar.socket.Socket object>\n        events = 1\n    884                     except (OSError, IOError) as e:\n    885                         if errno_from_exception(e) == errno.EPIPE:\n    886                             # Happens when the client closes the connection\n    887                             pass\n\n...........................................................................\n/Users/AnthonyAbercrombie/anaconda/lib/python3.5/site-packages/tornado/stack_context.py in null_wrapper(*args=(<zmq.sugar.socket.Socket object>, 1), **kwargs={})\n    270         # Fast path when there are no active contexts.\n    271         def null_wrapper(*args, **kwargs):\n    272             try:\n    273                 current_state = _state.contexts\n    274                 _state.contexts = cap_contexts[0]\n--> 275                 return fn(*args, **kwargs)\n        args = (<zmq.sugar.socket.Socket object>, 1)\n        kwargs = {}\n    276             finally:\n    277                 _state.contexts = current_state\n    278         null_wrapper._wrapped = True\n    279         return null_wrapper\n\n...........................................................................\n/Users/AnthonyAbercrombie/anaconda/lib/python3.5/site-packages/zmq/eventloop/zmqstream.py in _handle_events(self=<zmq.eventloop.zmqstream.ZMQStream object>, fd=<zmq.sugar.socket.Socket object>, events=1)\n    435             # dispatch events:\n    436             if events & IOLoop.ERROR:\n    437                 gen_log.error(\"got POLLERR event on ZMQStream, which doesn't make sense\")\n    438                 return\n    439             if events & IOLoop.READ:\n--> 440                 self._handle_recv()\n        self._handle_recv = <bound method ZMQStream._handle_recv of <zmq.eventloop.zmqstream.ZMQStream object>>\n    441                 if not self.socket:\n    442                     return\n    443             if events & IOLoop.WRITE:\n    444                 self._handle_send()\n\n...........................................................................\n/Users/AnthonyAbercrombie/anaconda/lib/python3.5/site-packages/zmq/eventloop/zmqstream.py in _handle_recv(self=<zmq.eventloop.zmqstream.ZMQStream object>)\n    467                 gen_log.error(\"RECV Error: %s\"%zmq.strerror(e.errno))\n    468         else:\n    469             if self._recv_callback:\n    470                 callback = self._recv_callback\n    471                 # self._recv_callback = None\n--> 472                 self._run_callback(callback, msg)\n        self._run_callback = <bound method ZMQStream._run_callback of <zmq.eventloop.zmqstream.ZMQStream object>>\n        callback = <function wrap.<locals>.null_wrapper>\n        msg = [<zmq.sugar.frame.Frame object>, <zmq.sugar.frame.Frame object>, <zmq.sugar.frame.Frame object>, <zmq.sugar.frame.Frame object>, <zmq.sugar.frame.Frame object>, <zmq.sugar.frame.Frame object>, <zmq.sugar.frame.Frame object>]\n    473                 \n    474         # self.update_state()\n    475         \n    476 \n\n...........................................................................\n/Users/AnthonyAbercrombie/anaconda/lib/python3.5/site-packages/zmq/eventloop/zmqstream.py in _run_callback(self=<zmq.eventloop.zmqstream.ZMQStream object>, callback=<function wrap.<locals>.null_wrapper>, *args=([<zmq.sugar.frame.Frame object>, <zmq.sugar.frame.Frame object>, <zmq.sugar.frame.Frame object>, <zmq.sugar.frame.Frame object>, <zmq.sugar.frame.Frame object>, <zmq.sugar.frame.Frame object>, <zmq.sugar.frame.Frame object>],), **kwargs={})\n    409         close our socket.\"\"\"\n    410         try:\n    411             # Use a NullContext to ensure that all StackContexts are run\n    412             # inside our blanket exception handler rather than outside.\n    413             with stack_context.NullContext():\n--> 414                 callback(*args, **kwargs)\n        callback = <function wrap.<locals>.null_wrapper>\n        args = ([<zmq.sugar.frame.Frame object>, <zmq.sugar.frame.Frame object>, <zmq.sugar.frame.Frame object>, <zmq.sugar.frame.Frame object>, <zmq.sugar.frame.Frame object>, <zmq.sugar.frame.Frame object>, <zmq.sugar.frame.Frame object>],)\n        kwargs = {}\n    415         except:\n    416             gen_log.error(\"Uncaught exception, closing connection.\",\n    417                           exc_info=True)\n    418             # Close the socket on an uncaught exception from a user callback\n\n...........................................................................\n/Users/AnthonyAbercrombie/anaconda/lib/python3.5/site-packages/tornado/stack_context.py in null_wrapper(*args=([<zmq.sugar.frame.Frame object>, <zmq.sugar.frame.Frame object>, <zmq.sugar.frame.Frame object>, <zmq.sugar.frame.Frame object>, <zmq.sugar.frame.Frame object>, <zmq.sugar.frame.Frame object>, <zmq.sugar.frame.Frame object>],), **kwargs={})\n    270         # Fast path when there are no active contexts.\n    271         def null_wrapper(*args, **kwargs):\n    272             try:\n    273                 current_state = _state.contexts\n    274                 _state.contexts = cap_contexts[0]\n--> 275                 return fn(*args, **kwargs)\n        args = ([<zmq.sugar.frame.Frame object>, <zmq.sugar.frame.Frame object>, <zmq.sugar.frame.Frame object>, <zmq.sugar.frame.Frame object>, <zmq.sugar.frame.Frame object>, <zmq.sugar.frame.Frame object>, <zmq.sugar.frame.Frame object>],)\n        kwargs = {}\n    276             finally:\n    277                 _state.contexts = current_state\n    278         null_wrapper._wrapped = True\n    279         return null_wrapper\n\n...........................................................................\n/Users/AnthonyAbercrombie/anaconda/lib/python3.5/site-packages/ipykernel/kernelbase.py in dispatcher(msg=[<zmq.sugar.frame.Frame object>, <zmq.sugar.frame.Frame object>, <zmq.sugar.frame.Frame object>, <zmq.sugar.frame.Frame object>, <zmq.sugar.frame.Frame object>, <zmq.sugar.frame.Frame object>, <zmq.sugar.frame.Frame object>])\n    255         if self.control_stream:\n    256             self.control_stream.on_recv(self.dispatch_control, copy=False)\n    257 \n    258         def make_dispatcher(stream):\n    259             def dispatcher(msg):\n--> 260                 return self.dispatch_shell(stream, msg)\n        msg = [<zmq.sugar.frame.Frame object>, <zmq.sugar.frame.Frame object>, <zmq.sugar.frame.Frame object>, <zmq.sugar.frame.Frame object>, <zmq.sugar.frame.Frame object>, <zmq.sugar.frame.Frame object>, <zmq.sugar.frame.Frame object>]\n    261             return dispatcher\n    262 \n    263         for s in self.shell_streams:\n    264             s.on_recv(make_dispatcher(s), copy=False)\n\n...........................................................................\n/Users/AnthonyAbercrombie/anaconda/lib/python3.5/site-packages/ipykernel/kernelbase.py in dispatch_shell(self=<ipykernel.ipkernel.IPythonKernel object>, stream=<zmq.eventloop.zmqstream.ZMQStream object>, msg={'buffers': [], 'content': {'allow_stdin': True, 'code': '# Random Forest\\nrf_d2v_model = d2v_platform.MNB_..., kf=kf)\\npd.DataFrame.from_dict(rf_d2v_eval_dict)', 'silent': False, 'stop_on_error': True, 'store_history': True, 'user_expressions': {}}, 'header': {'date': '2016-12-15T06:57:04.217633', 'msg_id': '438CBCB1D5B1481780DBF264409166B5', 'msg_type': 'execute_request', 'session': '17023023C91C46E1A8B31FC49A09B16E', 'username': 'username', 'version': '5.0'}, 'metadata': {}, 'msg_id': '438CBCB1D5B1481780DBF264409166B5', 'msg_type': 'execute_request', 'parent_header': {}})\n    207             self.log.error(\"UNKNOWN MESSAGE TYPE: %r\", msg_type)\n    208         else:\n    209             self.log.debug(\"%s: %s\", msg_type, msg)\n    210             self.pre_handler_hook()\n    211             try:\n--> 212                 handler(stream, idents, msg)\n        handler = <bound method Kernel.execute_request of <ipykernel.ipkernel.IPythonKernel object>>\n        stream = <zmq.eventloop.zmqstream.ZMQStream object>\n        idents = [b'17023023C91C46E1A8B31FC49A09B16E']\n        msg = {'buffers': [], 'content': {'allow_stdin': True, 'code': '# Random Forest\\nrf_d2v_model = d2v_platform.MNB_..., kf=kf)\\npd.DataFrame.from_dict(rf_d2v_eval_dict)', 'silent': False, 'stop_on_error': True, 'store_history': True, 'user_expressions': {}}, 'header': {'date': '2016-12-15T06:57:04.217633', 'msg_id': '438CBCB1D5B1481780DBF264409166B5', 'msg_type': 'execute_request', 'session': '17023023C91C46E1A8B31FC49A09B16E', 'username': 'username', 'version': '5.0'}, 'metadata': {}, 'msg_id': '438CBCB1D5B1481780DBF264409166B5', 'msg_type': 'execute_request', 'parent_header': {}}\n    213             except Exception:\n    214                 self.log.error(\"Exception in message handler:\", exc_info=True)\n    215             finally:\n    216                 self.post_handler_hook()\n\n...........................................................................\n/Users/AnthonyAbercrombie/anaconda/lib/python3.5/site-packages/ipykernel/kernelbase.py in execute_request(self=<ipykernel.ipkernel.IPythonKernel object>, stream=<zmq.eventloop.zmqstream.ZMQStream object>, ident=[b'17023023C91C46E1A8B31FC49A09B16E'], parent={'buffers': [], 'content': {'allow_stdin': True, 'code': '# Random Forest\\nrf_d2v_model = d2v_platform.MNB_..., kf=kf)\\npd.DataFrame.from_dict(rf_d2v_eval_dict)', 'silent': False, 'stop_on_error': True, 'store_history': True, 'user_expressions': {}}, 'header': {'date': '2016-12-15T06:57:04.217633', 'msg_id': '438CBCB1D5B1481780DBF264409166B5', 'msg_type': 'execute_request', 'session': '17023023C91C46E1A8B31FC49A09B16E', 'username': 'username', 'version': '5.0'}, 'metadata': {}, 'msg_id': '438CBCB1D5B1481780DBF264409166B5', 'msg_type': 'execute_request', 'parent_header': {}})\n    365         if not silent:\n    366             self.execution_count += 1\n    367             self._publish_execute_input(code, parent, self.execution_count)\n    368 \n    369         reply_content = self.do_execute(code, silent, store_history,\n--> 370                                         user_expressions, allow_stdin)\n        user_expressions = {}\n        allow_stdin = True\n    371 \n    372         # Flush output before sending the reply.\n    373         sys.stdout.flush()\n    374         sys.stderr.flush()\n\n...........................................................................\n/Users/AnthonyAbercrombie/anaconda/lib/python3.5/site-packages/ipykernel/ipkernel.py in do_execute(self=<ipykernel.ipkernel.IPythonKernel object>, code='# Random Forest\\nrf_d2v_model = d2v_platform.MNB_..., kf=kf)\\npd.DataFrame.from_dict(rf_d2v_eval_dict)', silent=False, store_history=True, user_expressions={}, allow_stdin=True)\n    170 \n    171         reply_content = {}\n    172         # FIXME: the shell calls the exception handler itself.\n    173         shell._reply_content = None\n    174         try:\n--> 175             shell.run_cell(code, store_history=store_history, silent=silent)\n        shell.run_cell = <bound method InteractiveShell.run_cell of <ipykernel.zmqshell.ZMQInteractiveShell object>>\n        code = '# Random Forest\\nrf_d2v_model = d2v_platform.MNB_..., kf=kf)\\npd.DataFrame.from_dict(rf_d2v_eval_dict)'\n        store_history = True\n        silent = False\n    176         except:\n    177             status = u'error'\n    178             # FIXME: this code right now isn't being used yet by default,\n    179             # because the run_cell() call above directly fires off exception\n\n...........................................................................\n/Users/AnthonyAbercrombie/anaconda/lib/python3.5/site-packages/IPython/core/interactiveshell.py in run_cell(self=<ipykernel.zmqshell.ZMQInteractiveShell object>, raw_cell='# Random Forest\\nrf_d2v_model = d2v_platform.MNB_..., kf=kf)\\npd.DataFrame.from_dict(rf_d2v_eval_dict)', store_history=True, silent=False, shell_futures=True)\n   2897                 self.displayhook.exec_result = result\n   2898 \n   2899                 # Execute the user code\n   2900                 interactivity = \"none\" if silent else self.ast_node_interactivity\n   2901                 self.run_ast_nodes(code_ast.body, cell_name,\n-> 2902                    interactivity=interactivity, compiler=compiler, result=result)\n        interactivity = 'last_expr'\n        compiler = <IPython.core.compilerop.CachingCompiler object>\n   2903 \n   2904                 # Reset this so later displayed values do not modify the\n   2905                 # ExecutionResult\n   2906                 self.displayhook.exec_result = None\n\n...........................................................................\n/Users/AnthonyAbercrombie/anaconda/lib/python3.5/site-packages/IPython/core/interactiveshell.py in run_ast_nodes(self=<ipykernel.zmqshell.ZMQInteractiveShell object>, nodelist=[<_ast.Assign object>, <_ast.Assign object>, <_ast.Expr object>], cell_name='<ipython-input-176-5b06c1bf5c71>', interactivity='last', compiler=<IPython.core.compilerop.CachingCompiler object>, result=<IPython.core.interactiveshell.ExecutionResult object>)\n   3001 \n   3002         try:\n   3003             for i, node in enumerate(to_run_exec):\n   3004                 mod = ast.Module([node])\n   3005                 code = compiler(mod, cell_name, \"exec\")\n-> 3006                 if self.run_code(code, result):\n        self.run_code = <bound method InteractiveShell.run_code of <ipykernel.zmqshell.ZMQInteractiveShell object>>\n        code = <code object <module> at 0x11fd96390, file \"<ipython-input-176-5b06c1bf5c71>\", line 2>\n        result = <IPython.core.interactiveshell.ExecutionResult object>\n   3007                     return True\n   3008 \n   3009             for i, node in enumerate(to_run_interactive):\n   3010                 mod = ast.Interactive([node])\n\n...........................................................................\n/Users/AnthonyAbercrombie/anaconda/lib/python3.5/site-packages/IPython/core/interactiveshell.py in run_code(self=<ipykernel.zmqshell.ZMQInteractiveShell object>, code_obj=<code object <module> at 0x11fd96390, file \"<ipython-input-176-5b06c1bf5c71>\", line 2>, result=<IPython.core.interactiveshell.ExecutionResult object>)\n   3061         outflag = 1  # happens in more places, so it's easier as default\n   3062         try:\n   3063             try:\n   3064                 self.hooks.pre_run_code_hook()\n   3065                 #rprint('Running code', repr(code_obj)) # dbg\n-> 3066                 exec(code_obj, self.user_global_ns, self.user_ns)\n        code_obj = <code object <module> at 0x11fd96390, file \"<ipython-input-176-5b06c1bf5c71>\", line 2>\n        self.user_global_ns = {'ALLOW_THREADS': 1, 'AdaBoostClassifier': <class 'sklearn.ensemble.weight_boosting.AdaBoostClassifier'>, 'AdaBoostRegressor': <class 'sklearn.ensemble.weight_boosting.AdaBoostRegressor'>, 'Annotation': <class 'matplotlib.text.Annotation'>, 'Arrow': <class 'matplotlib.patches.Arrow'>, 'Artist': <class 'matplotlib.artist.Artist'>, 'AutoLocator': <class 'matplotlib.ticker.AutoLocator'>, 'Axes': <class 'matplotlib.axes._axes.Axes'>, 'BUFSIZE': 8192, 'Button': <class 'matplotlib.widgets.Button'>, ...}\n        self.user_ns = {'ALLOW_THREADS': 1, 'AdaBoostClassifier': <class 'sklearn.ensemble.weight_boosting.AdaBoostClassifier'>, 'AdaBoostRegressor': <class 'sklearn.ensemble.weight_boosting.AdaBoostRegressor'>, 'Annotation': <class 'matplotlib.text.Annotation'>, 'Arrow': <class 'matplotlib.patches.Arrow'>, 'Artist': <class 'matplotlib.artist.Artist'>, 'AutoLocator': <class 'matplotlib.ticker.AutoLocator'>, 'Axes': <class 'matplotlib.axes._axes.Axes'>, 'BUFSIZE': 8192, 'Button': <class 'matplotlib.widgets.Button'>, ...}\n   3067             finally:\n   3068                 # Reset our crash handler in place\n   3069                 sys.excepthook = old_excepthook\n   3070         except SystemExit as e:\n\n...........................................................................\n/Users/AnthonyAbercrombie/gU/DSCI6004-student/final_project/<ipython-input-176-5b06c1bf5c71> in <module>()\n      1 \n----> 2 \n      3 \n      4 \n      5 # Random Forest\n      6 rf_d2v_model = d2v_platform.MNB_Gridsearch()\n      7 rf_d2v_eval_dict = kfold_evaluation(d2v_platform.x_test, d2v_platform.y_test, model=rf_d2v_model, kf=kf)\n      8 pd.DataFrame.from_dict(rf_d2v_eval_dict)\n      9 \n     10 \n\n...........................................................................\n/Users/AnthonyAbercrombie/gU/DSCI6004-student/final_project/model.py in MNB_Gridsearch(self=<model.Classify_Thread object>)\n    141                                      mnb_grid,\n    142                                      n_jobs=-1,\n    143                                      verbose=True,\n    144                                      scoring='f1_macro')\n    145         \n--> 146         mnb_gridsearch.fit(self.x_train, self.y_train)\n        mnb_gridsearch.fit = <bound method GridSearchCV.fit of GridSearchCV(c...t=True, scoring='f1_macro',\n       verbose=True)>\n        self.x_train = array([[-0.1486951 , -0.01766709, -0.06383126, ....       -0.0024603 ,  0.04538249]], dtype=float32)\n        self.y_train = array([2, 4, 3, ..., 5, 5, 0])\n    147         return mnb_gridsearch.best_estimator_\n    148    \n    149     def RandomForest(self):\n    150         rf = RandomForestClassifier()\n\n...........................................................................\n/Users/AnthonyAbercrombie/anaconda/lib/python3.5/site-packages/sklearn/grid_search.py in fit(self=GridSearchCV(cv=None, error_score='raise',\n     ...it=True, scoring='f1_macro',\n       verbose=True), X=array([[-0.1486951 , -0.01766709, -0.06383126, ....       -0.0024603 ,  0.04538249]], dtype=float32), y=array([2, 4, 3, ..., 5, 5, 0]))\n    808         y : array-like, shape = [n_samples] or [n_samples, n_output], optional\n    809             Target relative to X for classification or regression;\n    810             None for unsupervised learning.\n    811 \n    812         \"\"\"\n--> 813         return self._fit(X, y, ParameterGrid(self.param_grid))\n        self._fit = <bound method BaseSearchCV._fit of GridSearchCV(...t=True, scoring='f1_macro',\n       verbose=True)>\n        X = array([[-0.1486951 , -0.01766709, -0.06383126, ....       -0.0024603 ,  0.04538249]], dtype=float32)\n        y = array([2, 4, 3, ..., 5, 5, 0])\n        self.param_grid = {'alpha': [0.1, 0.5, 1.0, 2.0], 'fit_prior': [True, False]}\n    814 \n    815 \n    816 class RandomizedSearchCV(BaseSearchCV):\n    817     \"\"\"Randomized search on hyper parameters.\n\n...........................................................................\n/Users/AnthonyAbercrombie/anaconda/lib/python3.5/site-packages/sklearn/grid_search.py in _fit(self=GridSearchCV(cv=None, error_score='raise',\n     ...it=True, scoring='f1_macro',\n       verbose=True), X=array([[-0.1486951 , -0.01766709, -0.06383126, ....       -0.0024603 ,  0.04538249]], dtype=float32), y=array([2, 4, 3, ..., 5, 5, 0]), parameter_iterable=<sklearn.grid_search.ParameterGrid object>)\n    556         )(\n    557             delayed(_fit_and_score)(clone(base_estimator), X, y, self.scorer_,\n    558                                     train, test, self.verbose, parameters,\n    559                                     self.fit_params, return_parameters=True,\n    560                                     error_score=self.error_score)\n--> 561                 for parameters in parameter_iterable\n        parameters = undefined\n        parameter_iterable = <sklearn.grid_search.ParameterGrid object>\n    562                 for train, test in cv)\n    563 \n    564         # Out is a list of triplet: score, estimator, n_test_samples\n    565         n_fits = len(out)\n\n...........................................................................\n/Users/AnthonyAbercrombie/anaconda/lib/python3.5/site-packages/sklearn/externals/joblib/parallel.py in __call__(self=Parallel(n_jobs=-1), iterable=<generator object BaseSearchCV._fit.<locals>.<genexpr>>)\n    763             if pre_dispatch == \"all\" or n_jobs == 1:\n    764                 # The iterable was consumed all at once by the above for loop.\n    765                 # No need to wait for async callbacks to trigger to\n    766                 # consumption.\n    767                 self._iterating = False\n--> 768             self.retrieve()\n        self.retrieve = <bound method Parallel.retrieve of Parallel(n_jobs=-1)>\n    769             # Make sure that we get a last message telling us we are done\n    770             elapsed_time = time.time() - self._start_time\n    771             self._print('Done %3i out of %3i | elapsed: %s finished',\n    772                         (len(self._output), len(self._output),\n\n---------------------------------------------------------------------------\nSub-process traceback:\n---------------------------------------------------------------------------\nValueError                                         Thu Dec 15 06:57:04 2016\nPID: 23735      Python 3.5.1: /Users/AnthonyAbercrombie/anaconda/bin/python\n...........................................................................\n/Users/AnthonyAbercrombie/anaconda/lib/python3.5/site-packages/sklearn/externals/joblib/parallel.py in __call__(self=<sklearn.externals.joblib.parallel.BatchedCalls object>)\n    126     def __init__(self, iterator_slice):\n    127         self.items = list(iterator_slice)\n    128         self._size = len(self.items)\n    129 \n    130     def __call__(self):\n--> 131         return [func(*args, **kwargs) for func, args, kwargs in self.items]\n        self.items = [(<function _fit_and_score>, (MultinomialNB(alpha=0.1, class_prior=None, fit_prior=True), memmap([[-0.1486951 , -0.01766709, -0.06383126, ...       -0.0024603 ,  0.04538249]], dtype=float32), array([2, 4, 3, ..., 5, 5, 0]), make_scorer(f1_score, average=macro, pos_label=None), array([1385, 1392, 1396, ..., 4497, 4498, 4499]), array([   0,    1,    2, ..., 1662, 1672, 1676]), True, {'alpha': 0.1, 'fit_prior': True}, {}), {'error_score': 'raise', 'return_parameters': True})]\n    132 \n    133     def __len__(self):\n    134         return self._size\n    135 \n\n...........................................................................\n/Users/AnthonyAbercrombie/anaconda/lib/python3.5/site-packages/sklearn/externals/joblib/parallel.py in <listcomp>(.0=<list_iterator object>)\n    126     def __init__(self, iterator_slice):\n    127         self.items = list(iterator_slice)\n    128         self._size = len(self.items)\n    129 \n    130     def __call__(self):\n--> 131         return [func(*args, **kwargs) for func, args, kwargs in self.items]\n        func = <function _fit_and_score>\n        args = (MultinomialNB(alpha=0.1, class_prior=None, fit_prior=True), memmap([[-0.1486951 , -0.01766709, -0.06383126, ...       -0.0024603 ,  0.04538249]], dtype=float32), array([2, 4, 3, ..., 5, 5, 0]), make_scorer(f1_score, average=macro, pos_label=None), array([1385, 1392, 1396, ..., 4497, 4498, 4499]), array([   0,    1,    2, ..., 1662, 1672, 1676]), True, {'alpha': 0.1, 'fit_prior': True}, {})\n        kwargs = {'error_score': 'raise', 'return_parameters': True}\n    132 \n    133     def __len__(self):\n    134         return self._size\n    135 \n\n...........................................................................\n/Users/AnthonyAbercrombie/anaconda/lib/python3.5/site-packages/sklearn/cross_validation.py in _fit_and_score(estimator=MultinomialNB(alpha=0.1, class_prior=None, fit_prior=True), X=memmap([[-0.1486951 , -0.01766709, -0.06383126, ...       -0.0024603 ,  0.04538249]], dtype=float32), y=array([2, 4, 3, ..., 5, 5, 0]), scorer=make_scorer(f1_score, average=macro, pos_label=None), train=array([1385, 1392, 1396, ..., 4497, 4498, 4499]), test=array([   0,    1,    2, ..., 1662, 1672, 1676]), verbose=True, parameters={'alpha': 0.1, 'fit_prior': True}, fit_params={}, return_train_score=False, return_parameters=True, error_score='raise')\n   1608 \n   1609     try:\n   1610         if y_train is None:\n   1611             estimator.fit(X_train, **fit_params)\n   1612         else:\n-> 1613             estimator.fit(X_train, y_train, **fit_params)\n        estimator.fit = <bound method BaseDiscreteNB.fit of MultinomialNB(alpha=0.1, class_prior=None, fit_prior=True)>\n        X_train = memmap([[-0.08841698, -0.01179719, -0.03438913, ...       -0.0024603 ,  0.04538249]], dtype=float32)\n        y_train = array([4, 4, 4, ..., 5, 5, 0])\n        fit_params = {}\n   1614 \n   1615     except Exception as e:\n   1616         if error_score == 'raise':\n   1617             raise\n\n...........................................................................\n/Users/AnthonyAbercrombie/anaconda/lib/python3.5/site-packages/sklearn/naive_bayes.py in fit(self=MultinomialNB(alpha=0.1, class_prior=None, fit_prior=True), X=array([[-0.08841698, -0.01179719, -0.03438913, ....       -0.0024603 ,  0.04538249]], dtype=float32), y=array([4, 4, 4, ..., 5, 5, 0]), sample_weight=None)\n    582         # and feature log probas\n    583         n_effective_classes = Y.shape[1]\n    584         self.class_count_ = np.zeros(n_effective_classes, dtype=np.float64)\n    585         self.feature_count_ = np.zeros((n_effective_classes, n_features),\n    586                                        dtype=np.float64)\n--> 587         self._count(X, Y)\n        self._count = <bound method MultinomialNB._count of MultinomialNB(alpha=0.1, class_prior=None, fit_prior=True)>\n        X = array([[-0.08841698, -0.01179719, -0.03438913, ....       -0.0024603 ,  0.04538249]], dtype=float32)\n        Y = array([[ 0.,  0.,  0.,  0.,  1.,  0.],\n       [ ...0.,  1.],\n       [ 1.,  0.,  0.,  0.,  0.,  0.]])\n    588         self._update_feature_log_prob()\n    589         self._update_class_log_prior(class_prior=class_prior)\n    590         return self\n    591 \n\n...........................................................................\n/Users/AnthonyAbercrombie/anaconda/lib/python3.5/site-packages/sklearn/naive_bayes.py in _count(self=MultinomialNB(alpha=0.1, class_prior=None, fit_prior=True), X=array([[-0.08841698, -0.01179719, -0.03438913, ....       -0.0024603 ,  0.04538249]], dtype=float32), Y=array([[ 0.,  0.,  0.,  0.,  1.,  0.],\n       [ ...0.,  1.],\n       [ 1.,  0.,  0.,  0.,  0.,  0.]]))\n    685         self.class_prior = class_prior\n    686 \n    687     def _count(self, X, Y):\n    688         \"\"\"Count and smooth feature occurrences.\"\"\"\n    689         if np.any((X.data if issparse(X) else X) < 0):\n--> 690             raise ValueError(\"Input X must be non-negative\")\n    691         self.feature_count_ += safe_sparse_dot(Y.T, X)\n    692         self.class_count_ += Y.sum(axis=0)\n    693 \n    694     def _update_feature_log_prob(self):\n\nValueError: Input X must be non-negative\n___________________________________________________________________________"
     ]
    }
   ],
   "source": [
    "# Random Forest\n",
    "rf_d2v_model = d2v_platform.MNB_Gridsearch()\n",
    "rf_d2v_eval_dict = kfold_evaluation(d2v_platform.x_test, d2v_platform.y_test, model=rf_d2v_model, kf=kf)\n",
    "pd.DataFrame.from_dict(rf_d2v_eval_dict)"
   ]
  },
  {
   "cell_type": "code",
   "execution_count": null,
   "metadata": {
    "collapsed": true
   },
   "outputs": [],
   "source": [
    "rf_d2v_pred = rf_d2v_model.predict(d2v_platform.x_test)\n",
    "ConfusionMatrix(d2v_platform.y_test, rf_d2v_pred).plot(normalized=True)"
   ]
  },
  {
   "cell_type": "markdown",
   "metadata": {},
   "source": [
    "### One vs Rest Logistic Regression"
   ]
  },
  {
   "cell_type": "code",
   "execution_count": null,
   "metadata": {
    "collapsed": true
   },
   "outputs": [],
   "source": [
    "lr_d2v_model = d2v_platform.Logistic_Regression_OneVAll()"
   ]
  },
  {
   "cell_type": "code",
   "execution_count": 203,
   "metadata": {
    "collapsed": false
   },
   "outputs": [
    {
     "data": {
      "text/html": [
       "<div>\n",
       "<table border=\"1\" class=\"dataframe\">\n",
       "  <thead>\n",
       "    <tr style=\"text-align: right;\">\n",
       "      <th></th>\n",
       "      <th>accuracy</th>\n",
       "      <th>f1</th>\n",
       "      <th>precision</th>\n",
       "      <th>recall</th>\n",
       "    </tr>\n",
       "  </thead>\n",
       "  <tbody>\n",
       "    <tr>\n",
       "      <th>train</th>\n",
       "      <td>0.594</td>\n",
       "      <td>0.581789</td>\n",
       "      <td>0.753047</td>\n",
       "      <td>0.593992</td>\n",
       "    </tr>\n",
       "    <tr>\n",
       "      <th>validate</th>\n",
       "      <td>0.594</td>\n",
       "      <td>0.580814</td>\n",
       "      <td>0.752642</td>\n",
       "      <td>0.594156</td>\n",
       "    </tr>\n",
       "  </tbody>\n",
       "</table>\n",
       "</div>"
      ],
      "text/plain": [
       "          accuracy        f1  precision    recall\n",
       "train        0.594  0.581789   0.753047  0.593992\n",
       "validate     0.594  0.580814   0.752642  0.594156"
      ]
     },
     "execution_count": 203,
     "metadata": {},
     "output_type": "execute_result"
    }
   ],
   "source": [
    "lr_d2v_eval_dict = kfold_evaluation(d2v_platform.x_test, d2v_platform.y_test, model=lr_d2v_model, kf=kf)\n",
    "pd.DataFrame.from_dict(lr_d2v_eval_dict)"
   ]
  },
  {
   "cell_type": "code",
   "execution_count": 182,
   "metadata": {
    "collapsed": false
   },
   "outputs": [
    {
     "data": {
      "text/plain": [
       "<matplotlib.axes._subplots.AxesSubplot at 0x11e8959e8>"
      ]
     },
     "execution_count": 182,
     "metadata": {},
     "output_type": "execute_result"
    },
    {
     "data": {
      "image/png": "[encoded data removed]",
      "text/plain": [
       "<matplotlib.figure.Figure at 0x11eb72b38>"
      ]
     },
     "metadata": {},
     "output_type": "display_data"
    }
   ],
   "source": [
    "lr_d2v_pred = lr_d2v_model.predict(d2v_platform.x_test)\n",
    "ConfusionMatrix(d2v_platform.y_test, lr_d2v_pred).plot(normalized=True)"
   ]
  },
  {
   "cell_type": "markdown",
   "metadata": {},
   "source": [
    "### One vs Rest SVC"
   ]
  },
  {
   "cell_type": "code",
   "execution_count": null,
   "metadata": {
    "collapsed": true
   },
   "outputs": [],
   "source": [
    "svc_d2v_model = d2v_platform.SVC_OneVAll()"
   ]
  },
  {
   "cell_type": "code",
   "execution_count": 204,
   "metadata": {
    "collapsed": false,
    "scrolled": true
   },
   "outputs": [
    {
     "data": {
      "text/html": [
       "<div>\n",
       "<table border=\"1\" class=\"dataframe\">\n",
       "  <thead>\n",
       "    <tr style=\"text-align: right;\">\n",
       "      <th></th>\n",
       "      <th>accuracy</th>\n",
       "      <th>f1</th>\n",
       "      <th>precision</th>\n",
       "      <th>recall</th>\n",
       "    </tr>\n",
       "  </thead>\n",
       "  <tbody>\n",
       "    <tr>\n",
       "      <th>train</th>\n",
       "      <td>0.527333</td>\n",
       "      <td>0.508789</td>\n",
       "      <td>0.736024</td>\n",
       "      <td>0.536623</td>\n",
       "    </tr>\n",
       "    <tr>\n",
       "      <th>validate</th>\n",
       "      <td>0.527333</td>\n",
       "      <td>0.506760</td>\n",
       "      <td>0.735336</td>\n",
       "      <td>0.537157</td>\n",
       "    </tr>\n",
       "  </tbody>\n",
       "</table>\n",
       "</div>"
      ],
      "text/plain": [
       "          accuracy        f1  precision    recall\n",
       "train     0.527333  0.508789   0.736024  0.536623\n",
       "validate  0.527333  0.506760   0.735336  0.537157"
      ]
     },
     "execution_count": 204,
     "metadata": {},
     "output_type": "execute_result"
    }
   ],
   "source": [
    "svc_d2v_eval_dict = kfold_evaluation(d2v_platform.x_test, d2v_platform.y_test, model=svc_d2v_model, kf=kf)\n",
    "pd.DataFrame.from_dict(svc_d2v_eval_dict)"
   ]
  },
  {
   "cell_type": "code",
   "execution_count": 205,
   "metadata": {
    "collapsed": false
   },
   "outputs": [
    {
     "data": {
      "text/plain": [
       "<matplotlib.axes._subplots.AxesSubplot at 0x12596e518>"
      ]
     },
     "execution_count": 205,
     "metadata": {},
     "output_type": "execute_result"
    },
    {
     "data": {
      "image/png": "[encoded data removed]",
      "text/plain": [
       "<matplotlib.figure.Figure at 0x120000470>"
      ]
     },
     "metadata": {},
     "output_type": "display_data"
    }
   ],
   "source": [
    "svc_d2v_pred = svc_d2v_model.predict(d2v_platform.x_test)\n",
    "ConfusionMatrix(d2v_platform.y_test, svc_d2v_pred).plot(normalized=True)"
   ]
  },
  {
   "cell_type": "markdown",
   "metadata": {
    "collapsed": true
   },
   "source": [
    "## Conclusion:\n",
    "\n",
    "### Best model for BOW was Multinomial Naive Bayes."
   ]
  },
  {
   "cell_type": "code",
   "execution_count": 206,
   "metadata": {
    "collapsed": false
   },
   "outputs": [
    {
     "data": {
      "text/html": [
       "<div>\n",
       "<table border=\"1\" class=\"dataframe\">\n",
       "  <thead>\n",
       "    <tr style=\"text-align: right;\">\n",
       "      <th></th>\n",
       "      <th>accuracy</th>\n",
       "      <th>f1</th>\n",
       "      <th>precision</th>\n",
       "      <th>recall</th>\n",
       "    </tr>\n",
       "  </thead>\n",
       "  <tbody>\n",
       "    <tr>\n",
       "      <th>train</th>\n",
       "      <td>0.988</td>\n",
       "      <td>0.988202</td>\n",
       "      <td>0.988276</td>\n",
       "      <td>0.988236</td>\n",
       "    </tr>\n",
       "    <tr>\n",
       "      <th>validate</th>\n",
       "      <td>0.988</td>\n",
       "      <td>0.987941</td>\n",
       "      <td>0.988007</td>\n",
       "      <td>0.988217</td>\n",
       "    </tr>\n",
       "  </tbody>\n",
       "</table>\n",
       "</div>"
      ],
      "text/plain": [
       "          accuracy        f1  precision    recall\n",
       "train        0.988  0.988202   0.988276  0.988236\n",
       "validate     0.988  0.987941   0.988007  0.988217"
      ]
     },
     "execution_count": 206,
     "metadata": {},
     "output_type": "execute_result"
    }
   ],
   "source": [
    "pd.DataFrame.from_dict(eval_dict)"
   ]
  },
  {
   "cell_type": "markdown",
   "metadata": {
    "collapsed": true
   },
   "source": [
    "### Best model for TFIDF was Random Forest"
   ]
  },
  {
   "cell_type": "code",
   "execution_count": 207,
   "metadata": {
    "collapsed": false,
    "scrolled": true
   },
   "outputs": [
    {
     "data": {
      "text/html": [
       "<div>\n",
       "<table border=\"1\" class=\"dataframe\">\n",
       "  <thead>\n",
       "    <tr style=\"text-align: right;\">\n",
       "      <th></th>\n",
       "      <th>accuracy</th>\n",
       "      <th>f1</th>\n",
       "      <th>precision</th>\n",
       "      <th>recall</th>\n",
       "    </tr>\n",
       "  </thead>\n",
       "  <tbody>\n",
       "    <tr>\n",
       "      <th>train</th>\n",
       "      <td>0.996667</td>\n",
       "      <td>0.996744</td>\n",
       "      <td>0.996664</td>\n",
       "      <td>0.996854</td>\n",
       "    </tr>\n",
       "    <tr>\n",
       "      <th>validate</th>\n",
       "      <td>0.996667</td>\n",
       "      <td>0.996749</td>\n",
       "      <td>0.996869</td>\n",
       "      <td>0.996718</td>\n",
       "    </tr>\n",
       "  </tbody>\n",
       "</table>\n",
       "</div>"
      ],
      "text/plain": [
       "          accuracy        f1  precision    recall\n",
       "train     0.996667  0.996744   0.996664  0.996854\n",
       "validate  0.996667  0.996749   0.996869  0.996718"
      ]
     },
     "execution_count": 207,
     "metadata": {},
     "output_type": "execute_result"
    }
   ],
   "source": [
    "pd.DataFrame.from_dict(rf_tfidf_eval_dict)"
   ]
  },
  {
   "cell_type": "markdown",
   "metadata": {},
   "source": [
    "### Classification was problematic with Doc2Vec, clustering may be a better approach."
   ]
  },
  {
   "cell_type": "code",
   "execution_count": 189,
   "metadata": {
    "collapsed": false
   },
   "outputs": [
    {
     "data": {
      "text/plain": [
       "KNeighborsClassifier(algorithm='auto', leaf_size=30, metric='minkowski',\n",
       "           metric_params=None, n_jobs=1, n_neighbors=50, p=2,\n",
       "           weights='uniform')"
      ]
     },
     "execution_count": 189,
     "metadata": {},
     "output_type": "execute_result"
    }
   ],
   "source": [
    "from sklearn.neighbors import KNeighborsClassifier\n",
    "knn_d2v = KNeighborsClassifier(50)\n",
    "knn_d2v.fit(d2v_platform.x_train, d2v_platform.y_train)"
   ]
  },
  {
   "cell_type": "code",
   "execution_count": 190,
   "metadata": {
    "collapsed": false
   },
   "outputs": [
    {
     "data": {
      "text/html": [
       "<div>\n",
       "<table border=\"1\" class=\"dataframe\">\n",
       "  <thead>\n",
       "    <tr style=\"text-align: right;\">\n",
       "      <th></th>\n",
       "      <th>accuracy</th>\n",
       "      <th>f1</th>\n",
       "      <th>precision</th>\n",
       "      <th>recall</th>\n",
       "    </tr>\n",
       "  </thead>\n",
       "  <tbody>\n",
       "    <tr>\n",
       "      <th>train</th>\n",
       "      <td>0.574</td>\n",
       "      <td>0.571955</td>\n",
       "      <td>0.791168</td>\n",
       "      <td>0.573187</td>\n",
       "    </tr>\n",
       "    <tr>\n",
       "      <th>validate</th>\n",
       "      <td>0.560</td>\n",
       "      <td>0.556000</td>\n",
       "      <td>0.714893</td>\n",
       "      <td>0.561955</td>\n",
       "    </tr>\n",
       "  </tbody>\n",
       "</table>\n",
       "</div>"
      ],
      "text/plain": [
       "          accuracy        f1  precision    recall\n",
       "train        0.574  0.571955   0.791168  0.573187\n",
       "validate     0.560  0.556000   0.714893  0.561955"
      ]
     },
     "execution_count": 190,
     "metadata": {},
     "output_type": "execute_result"
    }
   ],
   "source": [
    "knn_d2v_eval_dict = kfold_evaluation(d2v_platform.x_test, d2v_platform.y_test, model=knn_d2v, kf=kf)\n",
    "pd.DataFrame.from_dict(svc_d2v_eval_dict)"
   ]
  },
  {
   "cell_type": "markdown",
   "metadata": {},
   "source": [
    "## Next: Autotagging"
   ]
  },
  {
   "cell_type": "code",
   "execution_count": null,
   "metadata": {
    "collapsed": true
   },
   "outputs": [],
   "source": []
  }
 ],
 "metadata": {
  "kernelspec": {
   "display_name": "Python 3",
   "language": "python",
   "name": "python3"
  },
  "language_info": {
   "codemirror_mode": {
    "name": "ipython",
    "version": 3
   },
   "file_extension": ".py",
   "mimetype": "text/x-python",
   "name": "python",
   "nbconvert_exporter": "python",
   "pygments_lexer": "ipython3",
   "version": "3.5.1"
  }
 },
 "nbformat": 4,
 "nbformat_minor": 0
}
